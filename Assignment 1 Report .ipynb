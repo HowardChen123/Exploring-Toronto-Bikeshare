{
 "cells": [
  {
   "cell_type": "markdown",
   "metadata": {},
   "source": [
    "# <center>  Assignment 1 - Exploring Toronto Bike Share </center>\n",
    "### <center> JSC270, Winter 2020 </center>\n",
    "### <center> Howard Chen </center>"
   ]
  },
  {
   "cell_type": "markdown",
   "metadata": {},
   "source": [
    "<br/> <br/>\n",
    "\n",
    "***\n",
    "\n",
    "##  I. Introduction"
   ]
  },
  {
   "cell_type": "markdown",
   "metadata": {},
   "source": [
    "Bike Share Toronto is the bicycle sharing transit system located throughout downtown Toronto, providing access to 5000 bikes at 468 stations. It is aunched in 2011 by Public Bike System Company under the BIXI brand, and the system was taken over by the Toronto Parking Authority (TPA) in 2014. Over the past few years, Bike Share has become an increasingly attractive way as transportation in Toronto. In 2018, TPA saw an [81% ridership increase](https://www.toronto.ca/legdocs/mmis/2018/pa/bgrd/backgroundfile-121986.pdf). We the increasing demand in the system, we are interested in how usage of the system in Toronto.\n",
    "\n",
    "The purpose of this research is to investigate how Torontonians are using Bike Share. Specifically, we are interested in how casual users and members uses bike share, and whether season or weather has an effect on how people uses the system. \n",
    "\n",
    "We will be investigating the behaviour of Toronto bike share users with the support of 2016 third quarter, 2019 fourth quarter, and 2017 Toronto ridership data, information regarding the location of each stations, as well as historical weather data of Toronto. \n",
    "\n",
    "Research questions we are investigating in this report are: \n",
    "1. Defining trip length in two ways: the duration of each trip in seconds and the distance traveled. Is there a relationship between the two definition?\n",
    "2. Do casual users take shorter trips compared to members? \n",
    "3. Does weather affect trip length?"
   ]
  },
  {
   "cell_type": "markdown",
   "metadata": {},
   "source": [
    "<br/> <br/>\n",
    "\n",
    "***\n",
    "\n",
    "##  II. Method"
   ]
  },
  {
   "cell_type": "markdown",
   "metadata": {},
   "source": [
    "##### Vincenty's Formulae\n",
    "The formulae is used for calculating geodesic distances between a pair of latitude/longitude points on the surface of a spheroid. It is used on the assumption that Earth is an ellipsoid.\n",
    "\n",
    "##### The Interquartile Range Rule\n",
    "Any set of data can be described by its five-number summary. The five numbers consist of: \n",
    "- The minimum of the dataset\n",
    "- The first quartile Q1 (25th percentile)\n",
    "- The median of the data set (the 50th percentile)\n",
    "- The third quartile Q3 (the 75th percentile)\n",
    "- The maximum of the data set\n",
    "\n",
    "The interquartile range is calculated in:\n",
    "\n",
    "\\begin{equation}\n",
    "IQR = Q3 - Q1\n",
    "\\end{equation}\n",
    "\n",
    "We consider data points that are 1.5 x (IQR) above the third quartile and 1.5 x (IQR) below the first quartile as ouliers.\n",
    "\n",
    "##### Correlation Matrix\n",
    "A correlation matrix is a table showing correlation coefficients between variables in the dataframe. Each random variable ($X_{i}$) in the table is correlated with each of the other values in the table ($X_j$). This allows us to determine which pairs have the highest correlation.\n",
    "\n",
    "\\begin{equation}\n",
    "r_{xy} = \\frac{s_{xy}}{s_{x}s_{y}}\n",
    "\\end{equation}\n",
    "\n",
    "where $s_x$ and $s_y$ are the sample standard deviations, and $s_xy$ is the sample covariance"
   ]
  },
  {
   "cell_type": "markdown",
   "metadata": {},
   "source": [
    "<br/> <br/>\n",
    "\n",
    "***\n",
    "\n",
    "##  III. Data Sets and Processing"
   ]
  },
  {
   "cell_type": "markdown",
   "metadata": {},
   "source": [
    "The datasets I am using for this research are:\n",
    "1. The 2016 Q3, 2016 Q4, and 2017 Toronto Bikeshare ridership data available at https://open.toronto.ca/dataset/bike-share-toronto-ridership-data/.\n",
    "2. Station information, which we will be using this dataset to obtain the location of each station, is available at https://open.toronto.ca/dataset/bike-share-toronto/.\n",
    "3. Historical weather data of Toronto, which we are going to scrape the data from a Government of Canada [website](https://climate.weather.gc.ca/climate_data/daily_data_e.html?StationID=51459&timeframe=2&StartYear=1840&EndYear=2019&Day=22&Year=2017&Month=1#)."
   ]
  },
  {
   "cell_type": "markdown",
   "metadata": {},
   "source": [
    "##### Toronto Bikeshare ridership data\n",
    "We will investigate and clean the Toronto Bikeshare ridership data first. "
   ]
  },
  {
   "cell_type": "code",
   "execution_count": 1,
   "metadata": {},
   "outputs": [],
   "source": [
    "import pandas as pd\n",
    "df_2017q1 = pd.read_csv(\"data/Bikeshare Ridership (2017 Q1).csv\")\n",
    "df_2017q2 = pd.read_csv(\"data/Bikeshare Ridership (2017 Q2).csv\")\n",
    "df_2017q3 = pd.read_csv(\"data/Bikeshare Ridership (2017 Q3).csv\")\n",
    "df_2017q4 = pd.read_csv(\"data/Bikeshare Ridership (2017 Q4).csv\")\n",
    "df_2016q3 = pd.read_excel(\"data/bikeshare-ridership-2016-q3.xlsx\")\n",
    "df_2016q4 = pd.read_excel(\"data/bikeshare-ridership-2016-q4.xlsx\")"
   ]
  },
  {
   "cell_type": "markdown",
   "metadata": {},
   "source": [
    "An inital review of the 2017 Q1 and 2017 Q3 data:"
   ]
  },
  {
   "cell_type": "code",
   "execution_count": 2,
   "metadata": {},
   "outputs": [
    {
     "data": {
      "text/html": [
       "<div>\n",
       "<style scoped>\n",
       "    .dataframe tbody tr th:only-of-type {\n",
       "        vertical-align: middle;\n",
       "    }\n",
       "\n",
       "    .dataframe tbody tr th {\n",
       "        vertical-align: top;\n",
       "    }\n",
       "\n",
       "    .dataframe thead th {\n",
       "        text-align: right;\n",
       "    }\n",
       "</style>\n",
       "<table border=\"1\" class=\"dataframe\">\n",
       "  <thead>\n",
       "    <tr style=\"text-align: right;\">\n",
       "      <th></th>\n",
       "      <th>trip_id</th>\n",
       "      <th>trip_start_time</th>\n",
       "      <th>trip_stop_time</th>\n",
       "      <th>trip_duration_seconds</th>\n",
       "      <th>from_station_id</th>\n",
       "      <th>from_station_name</th>\n",
       "      <th>to_station_id</th>\n",
       "      <th>to_station_name</th>\n",
       "      <th>user_type</th>\n",
       "    </tr>\n",
       "  </thead>\n",
       "  <tbody>\n",
       "    <tr>\n",
       "      <td>0</td>\n",
       "      <td>712382</td>\n",
       "      <td>1/1/2017 0:00</td>\n",
       "      <td>1/1/2017 0:03</td>\n",
       "      <td>223</td>\n",
       "      <td>7051</td>\n",
       "      <td>Wellesley St E / Yonge St Green P</td>\n",
       "      <td>7089</td>\n",
       "      <td>Church St  / Wood St</td>\n",
       "      <td>Member</td>\n",
       "    </tr>\n",
       "    <tr>\n",
       "      <td>1</td>\n",
       "      <td>712383</td>\n",
       "      <td>1/1/2017 0:00</td>\n",
       "      <td>1/1/2017 0:05</td>\n",
       "      <td>279</td>\n",
       "      <td>7143</td>\n",
       "      <td>Kendal Ave / Bernard Ave</td>\n",
       "      <td>7154</td>\n",
       "      <td>Bathurst Subway Station</td>\n",
       "      <td>Member</td>\n",
       "    </tr>\n",
       "    <tr>\n",
       "      <td>2</td>\n",
       "      <td>712384</td>\n",
       "      <td>1/1/2017 0:05</td>\n",
       "      <td>1/1/2017 0:29</td>\n",
       "      <td>1394</td>\n",
       "      <td>7113</td>\n",
       "      <td>Parliament St / Aberdeen Ave</td>\n",
       "      <td>7199</td>\n",
       "      <td>College St W / Markham St</td>\n",
       "      <td>Member</td>\n",
       "    </tr>\n",
       "    <tr>\n",
       "      <td>3</td>\n",
       "      <td>712385</td>\n",
       "      <td>1/1/2017 0:07</td>\n",
       "      <td>1/1/2017 0:21</td>\n",
       "      <td>826</td>\n",
       "      <td>7077</td>\n",
       "      <td>College Park South</td>\n",
       "      <td>7010</td>\n",
       "      <td>King St W / Spadina Ave</td>\n",
       "      <td>Member</td>\n",
       "    </tr>\n",
       "    <tr>\n",
       "      <td>4</td>\n",
       "      <td>712386</td>\n",
       "      <td>1/1/2017 0:08</td>\n",
       "      <td>1/1/2017 0:12</td>\n",
       "      <td>279</td>\n",
       "      <td>7079</td>\n",
       "      <td>McGill St / Church St</td>\n",
       "      <td>7047</td>\n",
       "      <td>University Ave / Gerrard St W</td>\n",
       "      <td>Member</td>\n",
       "    </tr>\n",
       "  </tbody>\n",
       "</table>\n",
       "</div>"
      ],
      "text/plain": [
       "   trip_id trip_start_time trip_stop_time  trip_duration_seconds  \\\n",
       "0   712382   1/1/2017 0:00  1/1/2017 0:03                    223   \n",
       "1   712383   1/1/2017 0:00  1/1/2017 0:05                    279   \n",
       "2   712384   1/1/2017 0:05  1/1/2017 0:29                   1394   \n",
       "3   712385   1/1/2017 0:07  1/1/2017 0:21                    826   \n",
       "4   712386   1/1/2017 0:08  1/1/2017 0:12                    279   \n",
       "\n",
       "   from_station_id                  from_station_name  to_station_id  \\\n",
       "0             7051  Wellesley St E / Yonge St Green P           7089   \n",
       "1             7143           Kendal Ave / Bernard Ave           7154   \n",
       "2             7113       Parliament St / Aberdeen Ave           7199   \n",
       "3             7077                 College Park South           7010   \n",
       "4             7079              McGill St / Church St           7047   \n",
       "\n",
       "                 to_station_name user_type  \n",
       "0           Church St  / Wood St    Member  \n",
       "1        Bathurst Subway Station    Member  \n",
       "2      College St W / Markham St    Member  \n",
       "3        King St W / Spadina Ave    Member  \n",
       "4  University Ave / Gerrard St W    Member  "
      ]
     },
     "execution_count": 2,
     "metadata": {},
     "output_type": "execute_result"
    }
   ],
   "source": [
    "df_2017q1.head()"
   ]
  },
  {
   "cell_type": "code",
   "execution_count": 3,
   "metadata": {},
   "outputs": [
    {
     "data": {
      "text/html": [
       "<div>\n",
       "<style scoped>\n",
       "    .dataframe tbody tr th:only-of-type {\n",
       "        vertical-align: middle;\n",
       "    }\n",
       "\n",
       "    .dataframe tbody tr th {\n",
       "        vertical-align: top;\n",
       "    }\n",
       "\n",
       "    .dataframe thead th {\n",
       "        text-align: right;\n",
       "    }\n",
       "</style>\n",
       "<table border=\"1\" class=\"dataframe\">\n",
       "  <thead>\n",
       "    <tr style=\"text-align: right;\">\n",
       "      <th></th>\n",
       "      <th>trip_id</th>\n",
       "      <th>trip_start_time</th>\n",
       "      <th>trip_stop_time</th>\n",
       "      <th>trip_duration_seconds</th>\n",
       "      <th>from_station_name</th>\n",
       "      <th>to_station_name</th>\n",
       "      <th>user_type</th>\n",
       "    </tr>\n",
       "  </thead>\n",
       "  <tbody>\n",
       "    <tr>\n",
       "      <td>0</td>\n",
       "      <td>1253914</td>\n",
       "      <td>7/1/2017 0:00</td>\n",
       "      <td>7/1/2017 0:15</td>\n",
       "      <td>910</td>\n",
       "      <td>Princess St / Adelaide St E</td>\n",
       "      <td>424 Wellington St W</td>\n",
       "      <td>Member</td>\n",
       "    </tr>\n",
       "    <tr>\n",
       "      <td>1</td>\n",
       "      <td>1253915</td>\n",
       "      <td>7/1/2017 0:01</td>\n",
       "      <td>7/1/2017 0:15</td>\n",
       "      <td>837</td>\n",
       "      <td>Fort York  Blvd / Capreol Crt</td>\n",
       "      <td>HTO Park (Queens Quay W)</td>\n",
       "      <td>Casual</td>\n",
       "    </tr>\n",
       "    <tr>\n",
       "      <td>2</td>\n",
       "      <td>1253916</td>\n",
       "      <td>7/1/2017 0:01</td>\n",
       "      <td>7/1/2017 0:14</td>\n",
       "      <td>786</td>\n",
       "      <td>Fort York  Blvd / Capreol Crt</td>\n",
       "      <td>HTO Park (Queens Quay W)</td>\n",
       "      <td>Casual</td>\n",
       "    </tr>\n",
       "    <tr>\n",
       "      <td>3</td>\n",
       "      <td>1253917</td>\n",
       "      <td>7/1/2017 0:01</td>\n",
       "      <td>7/1/2017 0:25</td>\n",
       "      <td>1420</td>\n",
       "      <td>Elizabeth St / Edward St (Bus Terminal)</td>\n",
       "      <td>Boston Ave / Queen St E</td>\n",
       "      <td>Casual</td>\n",
       "    </tr>\n",
       "    <tr>\n",
       "      <td>4</td>\n",
       "      <td>1253918</td>\n",
       "      <td>7/1/2017 0:01</td>\n",
       "      <td>7/1/2017 0:25</td>\n",
       "      <td>1437</td>\n",
       "      <td>Elizabeth St / Edward St (Bus Terminal)</td>\n",
       "      <td>Boston Ave / Queen St E</td>\n",
       "      <td>Casual</td>\n",
       "    </tr>\n",
       "  </tbody>\n",
       "</table>\n",
       "</div>"
      ],
      "text/plain": [
       "   trip_id trip_start_time trip_stop_time  trip_duration_seconds  \\\n",
       "0  1253914   7/1/2017 0:00  7/1/2017 0:15                    910   \n",
       "1  1253915   7/1/2017 0:01  7/1/2017 0:15                    837   \n",
       "2  1253916   7/1/2017 0:01  7/1/2017 0:14                    786   \n",
       "3  1253917   7/1/2017 0:01  7/1/2017 0:25                   1420   \n",
       "4  1253918   7/1/2017 0:01  7/1/2017 0:25                   1437   \n",
       "\n",
       "                         from_station_name           to_station_name user_type  \n",
       "0              Princess St / Adelaide St E       424 Wellington St W    Member  \n",
       "1            Fort York  Blvd / Capreol Crt  HTO Park (Queens Quay W)    Casual  \n",
       "2            Fort York  Blvd / Capreol Crt  HTO Park (Queens Quay W)    Casual  \n",
       "3  Elizabeth St / Edward St (Bus Terminal)   Boston Ave / Queen St E    Casual  \n",
       "4  Elizabeth St / Edward St (Bus Terminal)   Boston Ave / Queen St E    Casual  "
      ]
     },
     "execution_count": 3,
     "metadata": {},
     "output_type": "execute_result"
    }
   ],
   "source": [
    "df_2017q3.head()"
   ]
  },
  {
   "cell_type": "code",
   "execution_count": 4,
   "metadata": {},
   "outputs": [
    {
     "data": {
      "text/html": [
       "<div>\n",
       "<style scoped>\n",
       "    .dataframe tbody tr th:only-of-type {\n",
       "        vertical-align: middle;\n",
       "    }\n",
       "\n",
       "    .dataframe tbody tr th {\n",
       "        vertical-align: top;\n",
       "    }\n",
       "\n",
       "    .dataframe thead th {\n",
       "        text-align: right;\n",
       "    }\n",
       "</style>\n",
       "<table border=\"1\" class=\"dataframe\">\n",
       "  <thead>\n",
       "    <tr style=\"text-align: right;\">\n",
       "      <th></th>\n",
       "      <th>trip_id</th>\n",
       "      <th>trip_start_time</th>\n",
       "      <th>trip_stop_time</th>\n",
       "      <th>trip_duration_seconds</th>\n",
       "      <th>from_station_name</th>\n",
       "      <th>to_station_name</th>\n",
       "      <th>user_type</th>\n",
       "    </tr>\n",
       "  </thead>\n",
       "  <tbody>\n",
       "    <tr>\n",
       "      <td>146</td>\n",
       "      <td>1254062</td>\n",
       "      <td>7/1/2017 2:39</td>\n",
       "      <td>7/1/2017 2:39</td>\n",
       "      <td>21</td>\n",
       "      <td>Queens Park / Bloor St W</td>\n",
       "      <td>Queens Park / Bloor St W</td>\n",
       "      <td>Casual</td>\n",
       "    </tr>\n",
       "    <tr>\n",
       "      <td>165</td>\n",
       "      <td>1254081</td>\n",
       "      <td>7/1/2017 3:41</td>\n",
       "      <td>7/1/2017 3:41</td>\n",
       "      <td>21</td>\n",
       "      <td>Bathurst St / Dundas St W</td>\n",
       "      <td>Bathurst St / Dundas St W</td>\n",
       "      <td>Member</td>\n",
       "    </tr>\n",
       "    <tr>\n",
       "      <td>182</td>\n",
       "      <td>1254098</td>\n",
       "      <td>7/1/2017 5:03</td>\n",
       "      <td>7/1/2017 5:03</td>\n",
       "      <td>21</td>\n",
       "      <td>York St / Queens Quay W</td>\n",
       "      <td>York St / Queens Quay W</td>\n",
       "      <td>Member</td>\n",
       "    </tr>\n",
       "    <tr>\n",
       "      <td>381</td>\n",
       "      <td>1254298</td>\n",
       "      <td>7/1/2017 9:45</td>\n",
       "      <td>7/1/2017 9:45</td>\n",
       "      <td>26</td>\n",
       "      <td>Bay St / Albert St</td>\n",
       "      <td>Bay St / Albert St</td>\n",
       "      <td>Casual</td>\n",
       "    </tr>\n",
       "    <tr>\n",
       "      <td>523</td>\n",
       "      <td>1254448</td>\n",
       "      <td>7/1/2017 10:37</td>\n",
       "      <td>7/1/2017 10:37</td>\n",
       "      <td>49</td>\n",
       "      <td>Church St  / Wood St</td>\n",
       "      <td>Church St  / Wood St</td>\n",
       "      <td>Member</td>\n",
       "    </tr>\n",
       "  </tbody>\n",
       "</table>\n",
       "</div>"
      ],
      "text/plain": [
       "     trip_id trip_start_time  trip_stop_time  trip_duration_seconds  \\\n",
       "146  1254062   7/1/2017 2:39   7/1/2017 2:39                     21   \n",
       "165  1254081   7/1/2017 3:41   7/1/2017 3:41                     21   \n",
       "182  1254098   7/1/2017 5:03   7/1/2017 5:03                     21   \n",
       "381  1254298   7/1/2017 9:45   7/1/2017 9:45                     26   \n",
       "523  1254448  7/1/2017 10:37  7/1/2017 10:37                     49   \n",
       "\n",
       "             from_station_name            to_station_name user_type  \n",
       "146   Queens Park / Bloor St W   Queens Park / Bloor St W    Casual  \n",
       "165  Bathurst St / Dundas St W  Bathurst St / Dundas St W    Member  \n",
       "182    York St / Queens Quay W    York St / Queens Quay W    Member  \n",
       "381         Bay St / Albert St         Bay St / Albert St    Casual  \n",
       "523       Church St  / Wood St       Church St  / Wood St    Member  "
      ]
     },
     "execution_count": 4,
     "metadata": {},
     "output_type": "execute_result"
    }
   ],
   "source": [
    "df_2017q3[df_2017q3['trip_start_time'] == df_2017q3['trip_stop_time']].head()"
   ]
  },
  {
   "cell_type": "markdown",
   "metadata": {},
   "source": [
    "We can see that each record within the data represents a unique trip. However, by comparing the two dataframe, we have observed some issues:\n",
    "1. Datatime format varies between files, some dataframe provide datetime accurate to seconds\n",
    "2. Not all the dataframe contain station IDs\n",
    "3. Station names are inconsistent\n",
    "4. Trips with same start and end stations with abnornally low trip duration"
   ]
  },
  {
   "cell_type": "markdown",
   "metadata": {},
   "source": [
    "There is another important issue with the data I would like to address. I will show the issue with the graphs below. "
   ]
  },
  {
   "cell_type": "code",
   "execution_count": 5,
   "metadata": {},
   "outputs": [],
   "source": [
    "import matplotlib.pyplot as plt\n",
    "def distribution_by_hour(df, title):\n",
    "    \"\"\"\n",
    "    Plot data binned by hour.\n",
    "\n",
    "    x-axis is the hour, y-axis is the number of datapoints.\n",
    "\n",
    "    Parameters\n",
    "    ----------\n",
    "    df : Pandas.Dataframe object\n",
    "    \"\"\"\n",
    "    y = df.groupby(pd.to_datetime(df[\"trip_start_time\"]).dt.hour).count()\n",
    "    y[\"trip_start_time\"].plot(kind=\"bar\")\n",
    "    plt.title(title)\n",
    "    plt.show()"
   ]
  },
  {
   "cell_type": "code",
   "execution_count": 6,
   "metadata": {},
   "outputs": [
    {
     "data": {
      "image/png": "[encoded data removed]",
      "text/plain": [
       "<Figure size 432x288 with 1 Axes>"
      ]
     },
     "metadata": {
      "needs_background": "light"
     },
     "output_type": "display_data"
    },
    {
     "data": {
      "image/png": "[encoded data removed]",
      "text/plain": [
       "<Figure size 432x288 with 1 Axes>"
      ]
     },
     "metadata": {
      "needs_background": "light"
     },
     "output_type": "display_data"
    },
    {
     "data": {
      "image/png": "[encoded data removed]",
      "text/plain": [
       "<Figure size 432x288 with 1 Axes>"
      ]
     },
     "metadata": {
      "needs_background": "light"
     },
     "output_type": "display_data"
    },
    {
     "data": {
      "image/png": "[encoded data removed]",
      "text/plain": [
       "<Figure size 432x288 with 1 Axes>"
      ]
     },
     "metadata": {
      "needs_background": "light"
     },
     "output_type": "display_data"
    },
    {
     "data": {
      "image/png": "[encoded data removed]",
      "text/plain": [
       "<Figure size 432x288 with 1 Axes>"
      ]
     },
     "metadata": {
      "needs_background": "light"
     },
     "output_type": "display_data"
    },
    {
     "data": {
      "image/png": "[encoded data removed]",
      "text/plain": [
       "<Figure size 432x288 with 1 Axes>"
      ]
     },
     "metadata": {
      "needs_background": "light"
     },
     "output_type": "display_data"
    }
   ],
   "source": [
    "dict_period_df = {\"df_2017q1\": df_2017q1, \"df_2017q2\": df_2017q2, \"df_2017q3\": df_2017q3,\n",
    "                 \"df_2017q4\": df_2017q4, \"df_2016q3\": df_2016q3, \"df_2016q4\": df_2016q4}\n",
    "for name, df in dict_period_df.items():\n",
    "    distribution_by_hour(df, name)"
   ]
  },
  {
   "cell_type": "markdown",
   "metadata": {},
   "source": [
    "Noticed that 2017 Q3, Q4 have a very similar distribution, while the others have a similar distribution. This suggest that not all the data are recorded in the same timezone. We can see in the bar plot that Q1 and Q2 are 4 hours ahead of the others. We will clean the data according to all the issues mentioned above. "
   ]
  },
  {
   "cell_type": "markdown",
   "metadata": {},
   "source": [
    "##### Station Information Data\n",
    "Next, we will load the station information data from the Bike Share API endpoint."
   ]
  },
  {
   "cell_type": "code",
   "execution_count": 7,
   "metadata": {},
   "outputs": [
    {
     "data": {
      "text/html": [
       "<div>\n",
       "<style scoped>\n",
       "    .dataframe tbody tr th:only-of-type {\n",
       "        vertical-align: middle;\n",
       "    }\n",
       "\n",
       "    .dataframe tbody tr th {\n",
       "        vertical-align: top;\n",
       "    }\n",
       "\n",
       "    .dataframe thead th {\n",
       "        text-align: right;\n",
       "    }\n",
       "</style>\n",
       "<table border=\"1\" class=\"dataframe\">\n",
       "  <thead>\n",
       "    <tr style=\"text-align: right;\">\n",
       "      <th></th>\n",
       "      <th>station_id</th>\n",
       "      <th>name</th>\n",
       "      <th>lat</th>\n",
       "      <th>lon</th>\n",
       "    </tr>\n",
       "  </thead>\n",
       "  <tbody>\n",
       "    <tr>\n",
       "      <td>0</td>\n",
       "      <td>7000.0</td>\n",
       "      <td>Fort York  Blvd / Capreol Ct</td>\n",
       "      <td>43.639832</td>\n",
       "      <td>-79.395954</td>\n",
       "    </tr>\n",
       "    <tr>\n",
       "      <td>1</td>\n",
       "      <td>7001.0</td>\n",
       "      <td>Lower Jarvis St / The Esplanade</td>\n",
       "      <td>43.647992</td>\n",
       "      <td>-79.370907</td>\n",
       "    </tr>\n",
       "    <tr>\n",
       "      <td>2</td>\n",
       "      <td>7002.0</td>\n",
       "      <td>St. George St / Bloor St W</td>\n",
       "      <td>43.667333</td>\n",
       "      <td>-79.399429</td>\n",
       "    </tr>\n",
       "    <tr>\n",
       "      <td>3</td>\n",
       "      <td>7003.0</td>\n",
       "      <td>Madison Ave / Bloor St W</td>\n",
       "      <td>43.667158</td>\n",
       "      <td>-79.402761</td>\n",
       "    </tr>\n",
       "    <tr>\n",
       "      <td>4</td>\n",
       "      <td>7004.0</td>\n",
       "      <td>University Ave / Elm St</td>\n",
       "      <td>43.656518</td>\n",
       "      <td>-79.389099</td>\n",
       "    </tr>\n",
       "    <tr>\n",
       "      <td>...</td>\n",
       "      <td>...</td>\n",
       "      <td>...</td>\n",
       "      <td>...</td>\n",
       "      <td>...</td>\n",
       "    </tr>\n",
       "    <tr>\n",
       "      <td>458</td>\n",
       "      <td>7505.0</td>\n",
       "      <td>Ontario St / Adelaide St E -SMART</td>\n",
       "      <td>43.652458</td>\n",
       "      <td>-79.366433</td>\n",
       "    </tr>\n",
       "    <tr>\n",
       "      <td>459</td>\n",
       "      <td>7506.0</td>\n",
       "      <td>Berkeley St / Adelaide St E - SMART</td>\n",
       "      <td>43.653359</td>\n",
       "      <td>-79.365023</td>\n",
       "    </tr>\n",
       "    <tr>\n",
       "      <td>460</td>\n",
       "      <td>7508.0</td>\n",
       "      <td>Berkeley St / Dundas St E - SMART</td>\n",
       "      <td>43.658816</td>\n",
       "      <td>-79.367318</td>\n",
       "    </tr>\n",
       "    <tr>\n",
       "      <td>461</td>\n",
       "      <td>7509.0</td>\n",
       "      <td>Ontario St / King St E</td>\n",
       "      <td>43.651814</td>\n",
       "      <td>-79.366194</td>\n",
       "    </tr>\n",
       "    <tr>\n",
       "      <td>462</td>\n",
       "      <td>7510.0</td>\n",
       "      <td>Princes' Blvd / Nunavut Rd</td>\n",
       "      <td>43.633225</td>\n",
       "      <td>-79.414319</td>\n",
       "    </tr>\n",
       "  </tbody>\n",
       "</table>\n",
       "<p>463 rows × 4 columns</p>\n",
       "</div>"
      ],
      "text/plain": [
       "     station_id                                 name        lat        lon\n",
       "0        7000.0         Fort York  Blvd / Capreol Ct  43.639832 -79.395954\n",
       "1        7001.0      Lower Jarvis St / The Esplanade  43.647992 -79.370907\n",
       "2        7002.0           St. George St / Bloor St W  43.667333 -79.399429\n",
       "3        7003.0             Madison Ave / Bloor St W  43.667158 -79.402761\n",
       "4        7004.0              University Ave / Elm St  43.656518 -79.389099\n",
       "..          ...                                  ...        ...        ...\n",
       "458      7505.0    Ontario St / Adelaide St E -SMART  43.652458 -79.366433\n",
       "459      7506.0  Berkeley St / Adelaide St E - SMART  43.653359 -79.365023\n",
       "460      7508.0    Berkeley St / Dundas St E - SMART  43.658816 -79.367318\n",
       "461      7509.0               Ontario St / King St E  43.651814 -79.366194\n",
       "462      7510.0           Princes' Blvd / Nunavut Rd  43.633225 -79.414319\n",
       "\n",
       "[463 rows x 4 columns]"
      ]
     },
     "execution_count": 7,
     "metadata": {},
     "output_type": "execute_result"
    }
   ],
   "source": [
    "import requests\n",
    "import json\n",
    "import os\n",
    "\n",
    "r = requests.get('https://tor.publicbikesystem.net/ube/gbfs/v1/en/station_information')\n",
    "\n",
    "bikeshare_stations_df = pd.DataFrame(json.loads(r.content)['data']['stations'])[['station_id', 'name', 'lat', 'lon']].astype({\n",
    "    'station_id': 'float64',\n",
    "})\n",
    "\n",
    "bikeshare_stations_df"
   ]
  },
  {
   "cell_type": "markdown",
   "metadata": {},
   "source": [
    "Some of the research questions we want to investigate:\n",
    "1. Defining trip length in two way: trip duration (by seconds) and trip distance (by meters). Is there a relationship between the two definitions of trip length?\n",
    "2. Do casual users take shorter trips compared to members?\n",
    "\n",
    "Noticed that we can determine each trip's distance by calculating the distance between its starting location and ending location, which is provided by the latitude and longitude. We can also obtain the duration of each trip through the column \"trip_duration_seconds\" in each quarter. "
   ]
  },
  {
   "cell_type": "markdown",
   "metadata": {},
   "source": [
    "##### Data Cleaning and Joining Bikeshare Ridership data and Station Information Data\n",
    "\n",
    "The objective is to join the data from the two sources into a single DataFrame, containing standardized dates (solving different data format issue, and different timezone issue) and station information (inconsistent station name)."
   ]
  },
  {
   "cell_type": "code",
   "execution_count": 8,
   "metadata": {},
   "outputs": [],
   "source": [
    "from datetime import timedelta\n",
    "list_period_df = [[df_2017q1, ['%d/%m/%Y %H:%M', -4]], [df_2017q2, ['%d/%m/%Y %H:%M', -4]], \n",
    "                 [df_2017q3, ['%d/%m/%Y %H:%M', 0]], [df_2017q4, ['%d/%m/%Y %H:%M', 0]], \n",
    "                 [df_2016q3, ['%d/%m/%Y %H:%M', -4]], [df_2016q4, ['%d/%m/%Y %H:%M', -4]]]\n",
    "\n",
    "df = pd.DataFrame() # Initiate an empty DataFrame\n",
    "\n",
    "for sublist in list_period_df:\n",
    "    tmp = sublist[0]\n",
    "    \n",
    "    # Read the datetime in the specified format\n",
    "    tmp['trip_start_time'] = pd.to_datetime(tmp['trip_start_time'], format=sublist[1][0], errors='coerce')\n",
    "    # Convert the input time to the Easter timezone\n",
    "    tmp['trip_start_time'] = tmp['trip_start_time'] + timedelta(hours=sublist[1][1])\n",
    "\n",
    "updated_time_df = [df_2017q1, df_2017q2, df_2017q3, df_2017q4, df_2016q3, df_2016q4]\n",
    "    \n",
    "df = pd.concat(objs = updated_time_df, sort=False, join = \"outer\").reset_index(drop=True)"
   ]
  },
  {
   "cell_type": "code",
   "execution_count": 9,
   "metadata": {},
   "outputs": [],
   "source": [
    "stations_start = df[['from_station_id', 'from_station_name']]\n",
    "stations_end = df[['to_station_id', 'to_station_name']]\n",
    "stations_start.columns = stations_end.columns = ['station_id', 'name']\n",
    "\n",
    "# Extracts the unique station ID and name combination from the from_station and to_station columns\n",
    "stations = pd.concat([stations_start, stations_end]).dropna(how='all').drop_duplicates().reset_index(drop=True)"
   ]
  },
  {
   "cell_type": "code",
   "execution_count": 10,
   "metadata": {},
   "outputs": [
    {
     "name": "stderr",
     "output_type": "stream",
     "text": [
      "/Users/cdcvic/opt/anaconda3/lib/python3.7/site-packages/fuzzywuzzy/fuzz.py:11: UserWarning: Using slow pure-python SequenceMatcher. Install python-Levenshtein to remove this warning\n",
      "  warnings.warn('Using slow pure-python SequenceMatcher. Install python-Levenshtein to remove this warning')\n"
     ]
    },
    {
     "name": "stdout",
     "output_type": "stream",
     "text": [
      "WARN: Michael Sweet Ave / St. Patrick St station could not be matched to an existing station\n",
      "WARN: Bremner Blvd / Spadina Ave station could not be matched to an existing station\n",
      "WARN: Ontario Place Blvd / Remembrance Dr station could not be matched to an existing station\n",
      "WARN: Bay St / Bloor St W station could not be matched to an existing station\n",
      "WARN: Bloor St / Brunswick Ave station could not be matched to an existing station\n",
      "WARN: Bathurst St / Queens Quay W station could not be matched to an existing station\n",
      "WARN: Dockside Dr / Queens Quay E (Sugar Beach) station could not be matched to an existing station\n",
      "WARN: Margueretta St / College St station could not be matched to an existing station\n",
      "WARN: Lansdowne Subway Green P station could not be matched to an existing station\n",
      "WARN: Victoria St / Gould St (Ryerson University) station could not be matched to an existing station\n",
      "WARN: Woodbine Subway Green P (Cedarvale Ave) station could not be matched to an existing station\n",
      "WARN: Stephenson Ave / Main St station could not be matched to an existing station\n",
      "WARN: Roxton Rd / College St station could not be matched to an existing station\n",
      "WARN: Base Station station could not be matched to an existing station\n",
      "WARN: Lake Shore Blvd W / Ontario Dr(Ontario Place) station could not be matched to an existing station\n",
      "WARN: Fringe Next Stage - 7219 station could not be matched to an existing station\n",
      "WARN: Temperance St / Yonge St station could not be matched to an existing station\n",
      "WARN: Landsdowne Subway Green P station could not be matched to an existing station\n",
      "WARN: Bloor GO / UP Station/ Rail Path station could not be matched to an existing station\n",
      "WARN: Margueretta St / College St W station could not be matched to an existing station\n"
     ]
    }
   ],
   "source": [
    "from fuzzywuzzy import fuzz\n",
    "# Separate the stations without station IDs\n",
    "no_ids = stations[stations['station_id'].isnull()]\n",
    "for idx, miss in no_ids.iterrows():\n",
    "    max_score = 0\n",
    "    \n",
    "    # Compare the similarity of the station without ID to each station in the API data\n",
    "    for i, exist in bikeshare_stations_df[['station_id', 'name']].iterrows():\n",
    "        score = fuzz.ratio(miss['name'], exist['name'])\n",
    "        \n",
    "        if score > 80 and score > max_score:\n",
    "            max_score = score\n",
    "            no_ids.at[idx, 'station_id'] = exist['station_id']\n",
    "    \n",
    "    # Warn if the station was not able to be matched\n",
    "    if max_score <= 80:\n",
    "        print('WARN: {0} station could not be matched to an existing station'.format(miss['name']))\n",
    "        \n",
    "# Remove all stations that were not matched\n",
    "no_ids = no_ids.dropna()"
   ]
  },
  {
   "cell_type": "code",
   "execution_count": 11,
   "metadata": {},
   "outputs": [
    {
     "data": {
      "text/html": [
       "<div>\n",
       "<style scoped>\n",
       "    .dataframe tbody tr th:only-of-type {\n",
       "        vertical-align: middle;\n",
       "    }\n",
       "\n",
       "    .dataframe tbody tr th {\n",
       "        vertical-align: top;\n",
       "    }\n",
       "\n",
       "    .dataframe thead th {\n",
       "        text-align: right;\n",
       "    }\n",
       "</style>\n",
       "<table border=\"1\" class=\"dataframe\">\n",
       "  <thead>\n",
       "    <tr style=\"text-align: right;\">\n",
       "      <th></th>\n",
       "      <th>trip_id</th>\n",
       "      <th>trip_start_time</th>\n",
       "      <th>trip_duration_seconds</th>\n",
       "      <th>user_type</th>\n",
       "      <th>station_id_from</th>\n",
       "      <th>name_from</th>\n",
       "      <th>lat_from</th>\n",
       "      <th>lon_from</th>\n",
       "      <th>station_id_to</th>\n",
       "      <th>name_to</th>\n",
       "      <th>lat_to</th>\n",
       "      <th>lon_to</th>\n",
       "    </tr>\n",
       "  </thead>\n",
       "  <tbody>\n",
       "    <tr>\n",
       "      <td>0</td>\n",
       "      <td>712382</td>\n",
       "      <td>2016-12-31 20:00:00</td>\n",
       "      <td>223</td>\n",
       "      <td>Member</td>\n",
       "      <td>7051.0</td>\n",
       "      <td>Wellesley St E / Yonge St Green P</td>\n",
       "      <td>43.665060</td>\n",
       "      <td>-79.383570</td>\n",
       "      <td>7089.0</td>\n",
       "      <td>Church St  / Wood St</td>\n",
       "      <td>43.662712</td>\n",
       "      <td>-79.379903</td>\n",
       "    </tr>\n",
       "    <tr>\n",
       "      <td>1</td>\n",
       "      <td>719668</td>\n",
       "      <td>2017-01-06 20:32:00</td>\n",
       "      <td>162</td>\n",
       "      <td>Member</td>\n",
       "      <td>7051.0</td>\n",
       "      <td>Wellesley St E / Yonge St Green P</td>\n",
       "      <td>43.665060</td>\n",
       "      <td>-79.383570</td>\n",
       "      <td>7089.0</td>\n",
       "      <td>Church St  / Wood St</td>\n",
       "      <td>43.662712</td>\n",
       "      <td>-79.379903</td>\n",
       "    </tr>\n",
       "    <tr>\n",
       "      <td>2</td>\n",
       "      <td>720949</td>\n",
       "      <td>2017-01-08 20:52:00</td>\n",
       "      <td>194</td>\n",
       "      <td>Member</td>\n",
       "      <td>7051.0</td>\n",
       "      <td>Wellesley St E / Yonge St Green P</td>\n",
       "      <td>43.665060</td>\n",
       "      <td>-79.383570</td>\n",
       "      <td>7089.0</td>\n",
       "      <td>Church St  / Wood St</td>\n",
       "      <td>43.662712</td>\n",
       "      <td>-79.379903</td>\n",
       "    </tr>\n",
       "    <tr>\n",
       "      <td>3</td>\n",
       "      <td>722433</td>\n",
       "      <td>2017-01-09 20:28:00</td>\n",
       "      <td>159</td>\n",
       "      <td>Member</td>\n",
       "      <td>7051.0</td>\n",
       "      <td>Wellesley St E / Yonge St Green P</td>\n",
       "      <td>43.665060</td>\n",
       "      <td>-79.383570</td>\n",
       "      <td>7089.0</td>\n",
       "      <td>Church St  / Wood St</td>\n",
       "      <td>43.662712</td>\n",
       "      <td>-79.379903</td>\n",
       "    </tr>\n",
       "    <tr>\n",
       "      <td>4</td>\n",
       "      <td>740570</td>\n",
       "      <td>2017-01-20 12:53:00</td>\n",
       "      <td>222</td>\n",
       "      <td>Member</td>\n",
       "      <td>7051.0</td>\n",
       "      <td>Wellesley St E / Yonge St Green P</td>\n",
       "      <td>43.665060</td>\n",
       "      <td>-79.383570</td>\n",
       "      <td>7089.0</td>\n",
       "      <td>Church St  / Wood St</td>\n",
       "      <td>43.662712</td>\n",
       "      <td>-79.379903</td>\n",
       "    </tr>\n",
       "    <tr>\n",
       "      <td>...</td>\n",
       "      <td>...</td>\n",
       "      <td>...</td>\n",
       "      <td>...</td>\n",
       "      <td>...</td>\n",
       "      <td>...</td>\n",
       "      <td>...</td>\n",
       "      <td>...</td>\n",
       "      <td>...</td>\n",
       "      <td>...</td>\n",
       "      <td>...</td>\n",
       "      <td>...</td>\n",
       "      <td>...</td>\n",
       "    </tr>\n",
       "    <tr>\n",
       "      <td>2088617</td>\n",
       "      <td>1817111</td>\n",
       "      <td>2017-12-09 19:00:00</td>\n",
       "      <td>698</td>\n",
       "      <td>Member</td>\n",
       "      <td>7247.0</td>\n",
       "      <td>Howard Park Ave / Dundas St W - SMART</td>\n",
       "      <td>43.652100</td>\n",
       "      <td>-79.448600</td>\n",
       "      <td>7225.0</td>\n",
       "      <td>Lake Shore Blvd W / Windermere Ave</td>\n",
       "      <td>43.634896</td>\n",
       "      <td>-79.467763</td>\n",
       "    </tr>\n",
       "    <tr>\n",
       "      <td>2088627</td>\n",
       "      <td>1770356</td>\n",
       "      <td>2017-06-09 19:23:00</td>\n",
       "      <td>1767</td>\n",
       "      <td>Member</td>\n",
       "      <td>7245.0</td>\n",
       "      <td>Tecumseth St / Queen St W - SMART</td>\n",
       "      <td>43.646552</td>\n",
       "      <td>-79.406468</td>\n",
       "      <td>7225.0</td>\n",
       "      <td>Lake Shore Blvd W / Windermere Ave</td>\n",
       "      <td>43.634896</td>\n",
       "      <td>-79.467763</td>\n",
       "    </tr>\n",
       "    <tr>\n",
       "      <td>2088628</td>\n",
       "      <td>1771050</td>\n",
       "      <td>2017-06-09 21:12:00</td>\n",
       "      <td>1272</td>\n",
       "      <td>Member</td>\n",
       "      <td>7245.0</td>\n",
       "      <td>Tecumseth St / Queen St W - SMART</td>\n",
       "      <td>43.646552</td>\n",
       "      <td>-79.406468</td>\n",
       "      <td>7225.0</td>\n",
       "      <td>Lake Shore Blvd W / Windermere Ave</td>\n",
       "      <td>43.634896</td>\n",
       "      <td>-79.467763</td>\n",
       "    </tr>\n",
       "    <tr>\n",
       "      <td>2088631</td>\n",
       "      <td>1787058</td>\n",
       "      <td>2017-08-09 23:18:00</td>\n",
       "      <td>719</td>\n",
       "      <td>Member</td>\n",
       "      <td>7223.0</td>\n",
       "      <td>Parkside Dr / Bloor St W - SMART</td>\n",
       "      <td>43.654501</td>\n",
       "      <td>-79.460053</td>\n",
       "      <td>7225.0</td>\n",
       "      <td>Lake Shore Blvd W / Windermere Ave</td>\n",
       "      <td>43.634896</td>\n",
       "      <td>-79.467763</td>\n",
       "    </tr>\n",
       "    <tr>\n",
       "      <td>2088637</td>\n",
       "      <td>1777787</td>\n",
       "      <td>2017-07-09 19:29:00</td>\n",
       "      <td>2335</td>\n",
       "      <td>Casual</td>\n",
       "      <td>7256.0</td>\n",
       "      <td>Vanauley St / Queen St W - SMART</td>\n",
       "      <td>43.648437</td>\n",
       "      <td>-79.398380</td>\n",
       "      <td>7225.0</td>\n",
       "      <td>Lake Shore Blvd W / Windermere Ave</td>\n",
       "      <td>43.634896</td>\n",
       "      <td>-79.467763</td>\n",
       "    </tr>\n",
       "  </tbody>\n",
       "</table>\n",
       "<p>1217770 rows × 12 columns</p>\n",
       "</div>"
      ],
      "text/plain": [
       "         trip_id     trip_start_time  trip_duration_seconds user_type  \\\n",
       "0         712382 2016-12-31 20:00:00                    223    Member   \n",
       "1         719668 2017-01-06 20:32:00                    162    Member   \n",
       "2         720949 2017-01-08 20:52:00                    194    Member   \n",
       "3         722433 2017-01-09 20:28:00                    159    Member   \n",
       "4         740570 2017-01-20 12:53:00                    222    Member   \n",
       "...          ...                 ...                    ...       ...   \n",
       "2088617  1817111 2017-12-09 19:00:00                    698    Member   \n",
       "2088627  1770356 2017-06-09 19:23:00                   1767    Member   \n",
       "2088628  1771050 2017-06-09 21:12:00                   1272    Member   \n",
       "2088631  1787058 2017-08-09 23:18:00                    719    Member   \n",
       "2088637  1777787 2017-07-09 19:29:00                   2335    Casual   \n",
       "\n",
       "         station_id_from                              name_from   lat_from  \\\n",
       "0                 7051.0      Wellesley St E / Yonge St Green P  43.665060   \n",
       "1                 7051.0      Wellesley St E / Yonge St Green P  43.665060   \n",
       "2                 7051.0      Wellesley St E / Yonge St Green P  43.665060   \n",
       "3                 7051.0      Wellesley St E / Yonge St Green P  43.665060   \n",
       "4                 7051.0      Wellesley St E / Yonge St Green P  43.665060   \n",
       "...                  ...                                    ...        ...   \n",
       "2088617           7247.0  Howard Park Ave / Dundas St W - SMART  43.652100   \n",
       "2088627           7245.0      Tecumseth St / Queen St W - SMART  43.646552   \n",
       "2088628           7245.0      Tecumseth St / Queen St W - SMART  43.646552   \n",
       "2088631           7223.0       Parkside Dr / Bloor St W - SMART  43.654501   \n",
       "2088637           7256.0       Vanauley St / Queen St W - SMART  43.648437   \n",
       "\n",
       "          lon_from  station_id_to                             name_to  \\\n",
       "0       -79.383570         7089.0                Church St  / Wood St   \n",
       "1       -79.383570         7089.0                Church St  / Wood St   \n",
       "2       -79.383570         7089.0                Church St  / Wood St   \n",
       "3       -79.383570         7089.0                Church St  / Wood St   \n",
       "4       -79.383570         7089.0                Church St  / Wood St   \n",
       "...            ...            ...                                 ...   \n",
       "2088617 -79.448600         7225.0  Lake Shore Blvd W / Windermere Ave   \n",
       "2088627 -79.406468         7225.0  Lake Shore Blvd W / Windermere Ave   \n",
       "2088628 -79.406468         7225.0  Lake Shore Blvd W / Windermere Ave   \n",
       "2088631 -79.460053         7225.0  Lake Shore Blvd W / Windermere Ave   \n",
       "2088637 -79.398380         7225.0  Lake Shore Blvd W / Windermere Ave   \n",
       "\n",
       "            lat_to     lon_to  \n",
       "0        43.662712 -79.379903  \n",
       "1        43.662712 -79.379903  \n",
       "2        43.662712 -79.379903  \n",
       "3        43.662712 -79.379903  \n",
       "4        43.662712 -79.379903  \n",
       "...            ...        ...  \n",
       "2088617  43.634896 -79.467763  \n",
       "2088627  43.634896 -79.467763  \n",
       "2088628  43.634896 -79.467763  \n",
       "2088631  43.634896 -79.467763  \n",
       "2088637  43.634896 -79.467763  \n",
       "\n",
       "[1217770 rows x 12 columns]"
      ]
     },
     "execution_count": 11,
     "metadata": {},
     "output_type": "execute_result"
    }
   ],
   "source": [
    "stations = pd.concat([stations[~stations['station_id'].isnull()], no_ids])\\\n",
    "             .merge(bikeshare_stations_df[['station_id', 'lat', 'lon']], how='inner', on='station_id')\\\n",
    "             .drop_duplicates()\n",
    "             \n",
    "df = df.merge(stations, how='inner', left_on='from_station_name', right_on='name') \\\n",
    "       .merge(stations, how='inner', left_on='to_station_name', right_on='name', suffixes=['_from', '_to']) \\\n",
    "       .drop_duplicates()\n",
    "\n",
    "df = df[[x for x in df.columns if not x.endswith('_station_id') and not x.endswith('_station_name') and x != 'trip_stop_time']]\n",
    "df = df[df['trip_start_time'].notnull()] \n",
    "df"
   ]
  },
  {
   "cell_type": "markdown",
   "metadata": {},
   "source": [
    "##### Outliers for trip duration\n",
    "Lets visualize the distribution of trip duration first. "
   ]
  },
  {
   "cell_type": "code",
   "execution_count": 12,
   "metadata": {
    "scrolled": true
   },
   "outputs": [
    {
     "data": {
      "image/png": "[encoded data removed]",
      "text/plain": [
       "<Figure size 576x720 with 2 Axes>"
      ]
     },
     "metadata": {
      "needs_background": "light"
     },
     "output_type": "display_data"
    }
   ],
   "source": [
    "import seaborn as sns\n",
    "fig, ax = plt.subplots(2, 1, figsize=(8, 10))\n",
    "sns.distplot(df['trip_duration_seconds'], hist=False, ax=ax[0])\n",
    "ax[0].set(title='Distribution of Trip Duration', xlabel='Trip Duration (seconds)')\n",
    "sns.boxplot(x = df['trip_duration_seconds'], ax=ax[1])\n",
    "plt.show()"
   ]
  },
  {
   "cell_type": "markdown",
   "metadata": {},
   "source": [
    "The distplot indicates that the trip duration ranging from 1 to 6 million seconds. The boxplot's IQR range indicates that the majority of trip duration is less than thoousands. It is very unreasonable that a person who ride the bike for multiple days, suggesting outliers in the data. Considering Bike Share's princing model, additional cost will be applied if the trip is longer than 30 minutes, hence we can expect that the majority of the trip to be less than 30 minutes. Moreover, TPA consider trip less than a minute to be invalid trips in their own analysis. We will remove trips that are less than a minute. We will also remove trips that are 1.5IQR away from the medium. "
   ]
  },
  {
   "cell_type": "code",
   "execution_count": 13,
   "metadata": {},
   "outputs": [
    {
     "data": {
      "text/plain": [
       "count    1.137367e+06\n",
       "mean     7.223066e+02\n",
       "std      3.910190e+02\n",
       "min      6.000000e+01\n",
       "25%      4.220000e+02\n",
       "50%      6.430000e+02\n",
       "75%      9.550000e+02\n",
       "max      1.943000e+03\n",
       "Name: trip_duration_seconds, dtype: float64"
      ]
     },
     "execution_count": 13,
     "metadata": {},
     "output_type": "execute_result"
    }
   ],
   "source": [
    "# Toronto Parking Authority generally considers trips less than a minute to be invalid trips.\n",
    "df = df[df['trip_duration_seconds']>=60]\n",
    "\n",
    "# Removing outliers\n",
    "q1 = df['trip_duration_seconds'].quantile(0.25)\n",
    "q3 = df['trip_duration_seconds'].quantile(0.75)\n",
    "\n",
    "interquartile_range = q3 - q1\n",
    "\n",
    "df = df[~((df['trip_duration_seconds'] > (q3 + 1.5 * interquartile_range)))].reset_index(drop=True)\n",
    "df['trip_duration_seconds'].describe()"
   ]
  },
  {
   "cell_type": "code",
   "execution_count": 14,
   "metadata": {},
   "outputs": [
    {
     "data": {
      "image/png": "[encoded data removed]",
      "text/plain": [
       "<Figure size 576x720 with 2 Axes>"
      ]
     },
     "metadata": {
      "needs_background": "light"
     },
     "output_type": "display_data"
    }
   ],
   "source": [
    "import seaborn as sns\n",
    "from scipy.stats import norm\n",
    "fig, ax = plt.subplots(2, 1, figsize=(8, 10))\n",
    "sns.distplot(df['trip_duration_seconds'], fit = norm, hist=False, ax=ax[0])\n",
    "ax[0].set(title='Distribution of Trip Duration', xlabel='Trip Duration (seconds)')\n",
    "sns.boxplot(x = df['trip_duration_seconds'], ax=ax[1])\n",
    "plt.show()"
   ]
  },
  {
   "cell_type": "markdown",
   "metadata": {},
   "source": [
    "After removing the outliers, the maximum trip duration is down to 1942 seconds (approximately 32 minutes), which is consistent with the Bike's Share pricing model. The distplot indicates that the distribution of trip duration is right skewed (by comparing it with the normal distribution), and IQR range suggesting that the majority of cyclist uses the system for short trips. "
   ]
  },
  {
   "cell_type": "markdown",
   "metadata": {},
   "source": [
    "We have defined trip length in two ways: duration and distance. We have cleaned the data for trip duration. Next, I would like to obtain the trip length for each trips. "
   ]
  },
  {
   "cell_type": "markdown",
   "metadata": {},
   "source": [
    "Since we know the latitude and longitude of where the trips start and end, we are calculating the distance of each trips by using the Vincenty's formulae. It is used to calculate the distance between two points on the surface of a spheroid and is based the assumption that the figure of the Earth is an oblate spheroid. "
   ]
  },
  {
   "cell_type": "code",
   "execution_count": 15,
   "metadata": {},
   "outputs": [],
   "source": [
    "# Clean up column names for ease of use\n",
    "df.columns = [' '.join(x.replace('trip_', '').replace('_seconds', ' (Seconds)').split('_')).title() for x in df.columns]\n",
    "df['Start Time'] = pd.to_datetime(df['Start Time'])"
   ]
  },
  {
   "cell_type": "code",
   "execution_count": 16,
   "metadata": {},
   "outputs": [],
   "source": [
    "import datetime as dt\n",
    "import re\n",
    "from pandas.api.types import CategoricalDtype\n",
    "# Create the day of week Category by iterrating over 7 days (March 4th, 2019 is a Monday)\n",
    "days = [(dt.datetime(2019, 3, 4) + dt.timedelta(days=x)).strftime('%a') for x in range(0, 7)]\n",
    "day_type = CategoricalDtype(categories=days, ordered=True)\n",
    "\n",
    "# Create the month Category by iterrating over the months\n",
    "months = [dt.datetime(2019, x, 1).strftime('%B') for x in range(1, 13)]\n",
    "month_type = CategoricalDtype(categories=months, ordered=True)"
   ]
  },
  {
   "cell_type": "code",
   "execution_count": 17,
   "metadata": {},
   "outputs": [],
   "source": [
    "df['Date'] = df['Start Time'].apply(lambda x: x.strftime('%Y-%m-%d'))\n",
    "df['Quarter'] = df['Start Time'].apply(lambda x: int((int(x.strftime('%m')) - 1) / 3) + 1)\n",
    "df['Month'] = df['Start Time'].apply(lambda x: x.strftime('%B')).astype(month_type)\n",
    "df['Day of Week'] = df['Start Time'].apply(lambda x: x.strftime('%a')).astype(day_type)\n",
    "df['Hour'] = df['Start Time'].apply(lambda x: x.strftime('%H'))"
   ]
  },
  {
   "cell_type": "code",
   "execution_count": 18,
   "metadata": {},
   "outputs": [
    {
     "name": "stderr",
     "output_type": "stream",
     "text": [
      "/Users/cdcvic/opt/anaconda3/lib/python3.7/site-packages/ipykernel_launcher.py:9: DeprecationWarning: Vincenty is deprecated and is going to be removed in geopy 2.0. Use `geopy.distance.geodesic` (or the default `geopy.distance.distance`) instead, which is more accurate and always converges.\n",
      "  if __name__ == '__main__':\n"
     ]
    },
    {
     "data": {
      "text/html": [
       "<div>\n",
       "<style scoped>\n",
       "    .dataframe tbody tr th:only-of-type {\n",
       "        vertical-align: middle;\n",
       "    }\n",
       "\n",
       "    .dataframe tbody tr th {\n",
       "        vertical-align: top;\n",
       "    }\n",
       "\n",
       "    .dataframe thead th {\n",
       "        text-align: right;\n",
       "    }\n",
       "</style>\n",
       "<table border=\"1\" class=\"dataframe\">\n",
       "  <thead>\n",
       "    <tr style=\"text-align: right;\">\n",
       "      <th></th>\n",
       "      <th>Id</th>\n",
       "      <th>Start Time</th>\n",
       "      <th>Duration (Seconds)</th>\n",
       "      <th>User Type</th>\n",
       "      <th>Date</th>\n",
       "      <th>Quarter</th>\n",
       "      <th>Month</th>\n",
       "      <th>Day of Week</th>\n",
       "      <th>Hour</th>\n",
       "      <th>Distance</th>\n",
       "    </tr>\n",
       "  </thead>\n",
       "  <tbody>\n",
       "    <tr>\n",
       "      <td>0</td>\n",
       "      <td>712382</td>\n",
       "      <td>2016-12-31 20:00:00</td>\n",
       "      <td>223</td>\n",
       "      <td>Member</td>\n",
       "      <td>2016-12-31</td>\n",
       "      <td>4</td>\n",
       "      <td>December</td>\n",
       "      <td>Sat</td>\n",
       "      <td>20</td>\n",
       "      <td>394.38189</td>\n",
       "    </tr>\n",
       "    <tr>\n",
       "      <td>1</td>\n",
       "      <td>719668</td>\n",
       "      <td>2017-01-06 20:32:00</td>\n",
       "      <td>162</td>\n",
       "      <td>Member</td>\n",
       "      <td>2017-01-06</td>\n",
       "      <td>1</td>\n",
       "      <td>January</td>\n",
       "      <td>Fri</td>\n",
       "      <td>20</td>\n",
       "      <td>394.38189</td>\n",
       "    </tr>\n",
       "    <tr>\n",
       "      <td>2</td>\n",
       "      <td>720949</td>\n",
       "      <td>2017-01-08 20:52:00</td>\n",
       "      <td>194</td>\n",
       "      <td>Member</td>\n",
       "      <td>2017-01-08</td>\n",
       "      <td>1</td>\n",
       "      <td>January</td>\n",
       "      <td>Sun</td>\n",
       "      <td>20</td>\n",
       "      <td>394.38189</td>\n",
       "    </tr>\n",
       "    <tr>\n",
       "      <td>3</td>\n",
       "      <td>722433</td>\n",
       "      <td>2017-01-09 20:28:00</td>\n",
       "      <td>159</td>\n",
       "      <td>Member</td>\n",
       "      <td>2017-01-09</td>\n",
       "      <td>1</td>\n",
       "      <td>January</td>\n",
       "      <td>Mon</td>\n",
       "      <td>20</td>\n",
       "      <td>394.38189</td>\n",
       "    </tr>\n",
       "    <tr>\n",
       "      <td>4</td>\n",
       "      <td>740570</td>\n",
       "      <td>2017-01-20 12:53:00</td>\n",
       "      <td>222</td>\n",
       "      <td>Member</td>\n",
       "      <td>2017-01-20</td>\n",
       "      <td>1</td>\n",
       "      <td>January</td>\n",
       "      <td>Fri</td>\n",
       "      <td>12</td>\n",
       "      <td>394.38189</td>\n",
       "    </tr>\n",
       "  </tbody>\n",
       "</table>\n",
       "</div>"
      ],
      "text/plain": [
       "       Id          Start Time  Duration (Seconds) User Type        Date  \\\n",
       "0  712382 2016-12-31 20:00:00                 223    Member  2016-12-31   \n",
       "1  719668 2017-01-06 20:32:00                 162    Member  2017-01-06   \n",
       "2  720949 2017-01-08 20:52:00                 194    Member  2017-01-08   \n",
       "3  722433 2017-01-09 20:28:00                 159    Member  2017-01-09   \n",
       "4  740570 2017-01-20 12:53:00                 222    Member  2017-01-20   \n",
       "\n",
       "   Quarter     Month Day of Week Hour   Distance  \n",
       "0        4  December         Sat   20  394.38189  \n",
       "1        1   January         Fri   20  394.38189  \n",
       "2        1   January         Sun   20  394.38189  \n",
       "3        1   January         Mon   20  394.38189  \n",
       "4        1   January         Fri   12  394.38189  "
      ]
     },
     "execution_count": 18,
     "metadata": {},
     "output_type": "execute_result"
    }
   ],
   "source": [
    "# Create a \"Route ID\" in the \"[start station ID]-[end station ID]\" format\n",
    "df['Route Id'] = df.apply(lambda x: '{0}-{1}'.format(int(x['Station Id From']), int(x['Station Id To'])), axis=1)\n",
    "\n",
    "#Vincenty distance uses more accurate ellipsoidal models such as WGS-84, and is implemented in geopy'\n",
    "import geopy.distance\n",
    "# Extract the unique routes from the data with their start and end coordinates\n",
    "maps = df[['Route Id', 'Station Id From', 'Lat From', 'Lon From', 'Station Id To', 'Lat To', 'Lon To']].drop_duplicates()\n",
    "maps['Distance'] = maps.apply(lambda x: geopy.distance.vincenty((x['Lat From'], x['Lon From']), \n",
    "                                                                (x['Lat To'], x['Lon To'])).km * 1000, axis=1)\n",
    "\n",
    "# Merge the distance calculation with the main DataFrame\n",
    "df = df.merge(maps[['Route Id', 'Distance']], how='left', on='Route Id')\n",
    "df = df[[x for x in df.columns if not 'From' in x and not 'To' in x and x != 'Route Id']]\n",
    "df.head()"
   ]
  },
  {
   "cell_type": "code",
   "execution_count": 19,
   "metadata": {},
   "outputs": [
    {
     "data": {
      "image/png": "[encoded data removed]",
      "text/plain": [
       "<Figure size 576x432 with 1 Axes>"
      ]
     },
     "metadata": {
      "needs_background": "light"
     },
     "output_type": "display_data"
    }
   ],
   "source": [
    "import seaborn as sns\n",
    "from scipy.stats import norm\n",
    "fig, ax = plt.subplots(1, 1, figsize=(8, 6))\n",
    "sns.distplot(df['Distance'], fit = norm, hist=False, ax=ax)\n",
    "ax.set(title='Distribution of Trip Distance', xlabel='Distance (meters)')\n",
    "plt.show()"
   ]
  },
  {
   "cell_type": "code",
   "execution_count": 20,
   "metadata": {},
   "outputs": [],
   "source": [
    "df = df[df['Distance']!= 0]"
   ]
  },
  {
   "cell_type": "markdown",
   "metadata": {},
   "source": [
    "The distribution for trip distance is right skewed, which is consistent with our findings in the trip duration. This also suggest that the majority of cyclist uses the system for short trips. Note that removing outliers is not needed in this case. Trips that are longer than 10000 meters are somehow reasonable, because the farthest stations, as indicated on the google map, have a distance of more than 20000 meters. We also noticed that there are several trips that have a distance of 0, this suggests data collection error. We will drop those entries."
   ]
  },
  {
   "cell_type": "markdown",
   "metadata": {},
   "source": [
    "##### Historical weather data\n",
    "Another research question we want to investigate is that whether season or weather affect how people uses Toronto bikeshare, specifically the relationship between season or weather and the trip lengths defined above. \n",
    "\n",
    "We need historical weather data to investigate this question. We will obtain the data through data scraping from a Government of Canada [website](https://climate.weather.gc.ca/climate_data/daily_data_e.html?StationID=51459&timeframe=2&StartYear=1840&EndYear=2019&Day=22&Year=2017&Month=1#).\n",
    "\n",
    "A peak of the data:"
   ]
  },
  {
   "cell_type": "code",
   "execution_count": 21,
   "metadata": {},
   "outputs": [],
   "source": [
    "import requests\n",
    "import lxml.html as lh\n",
    "import pandas as pd\n",
    "\n",
    "url = 'https://climate.weather.gc.ca/climate_data/daily_data_e.html?StationID=51459&timeframe=2&StartYear=1840&EndYear=2019&Day=22&Year=2016&Month=7#'\n",
    "\n",
    "#Create a handle, page, to handle the contents of the website\n",
    "page = requests.get(url)\n",
    "#Store the contents of the website under doc\n",
    "doc = lh.fromstring(page.content)\n",
    "#Parse data that are stored between <tr>..</tr> of HTML\n",
    "tr_elements = doc.xpath('//tr') \n",
    "\n",
    "weather_cols = ['Year', 'Month']\n",
    "for t in tr_elements[0]:\n",
    "    col_name = t.text_content()\n",
    "    col_name = col_name.replace(\"Definition\", \"\")\n",
    "    weather_cols.append(col_name)\n",
    "    \n",
    "weather_df = pd.DataFrame(columns = weather_cols)"
   ]
  },
  {
   "cell_type": "code",
   "execution_count": 24,
   "metadata": {},
   "outputs": [
    {
     "data": {
      "text/html": [
       "<div>\n",
       "<style scoped>\n",
       "    .dataframe tbody tr th:only-of-type {\n",
       "        vertical-align: middle;\n",
       "    }\n",
       "\n",
       "    .dataframe tbody tr th {\n",
       "        vertical-align: top;\n",
       "    }\n",
       "\n",
       "    .dataframe thead th {\n",
       "        text-align: right;\n",
       "    }\n",
       "</style>\n",
       "<table border=\"1\" class=\"dataframe\">\n",
       "  <thead>\n",
       "    <tr style=\"text-align: right;\">\n",
       "      <th></th>\n",
       "      <th>Year</th>\n",
       "      <th>Month</th>\n",
       "      <th>DAY</th>\n",
       "      <th>Max Temp °C</th>\n",
       "      <th>Min Temp °C</th>\n",
       "      <th>Mean Temp °C</th>\n",
       "      <th>Heat Deg Days</th>\n",
       "      <th>Cool Deg Days</th>\n",
       "      <th>Total Rain mm</th>\n",
       "      <th>Total Snow cm</th>\n",
       "      <th>Total Precip mm</th>\n",
       "      <th>Snow on Grnd cm</th>\n",
       "      <th>Dir of Max Gust 10's deg</th>\n",
       "      <th>Spd of Max Gust km/h</th>\n",
       "    </tr>\n",
       "  </thead>\n",
       "  <tbody>\n",
       "    <tr>\n",
       "      <td>0</td>\n",
       "      <td>2016</td>\n",
       "      <td>7</td>\n",
       "      <td>01</td>\n",
       "      <td>23.3</td>\n",
       "      <td>13.3</td>\n",
       "      <td>18.3</td>\n",
       "      <td>0.0</td>\n",
       "      <td>0.3</td>\n",
       "      <td>5.6</td>\n",
       "      <td>0.0</td>\n",
       "      <td>5.6</td>\n",
       "      <td></td>\n",
       "      <td>31</td>\n",
       "      <td>57</td>\n",
       "    </tr>\n",
       "    <tr>\n",
       "      <td>1</td>\n",
       "      <td>2016</td>\n",
       "      <td>7</td>\n",
       "      <td>02</td>\n",
       "      <td>26.4</td>\n",
       "      <td>12.3</td>\n",
       "      <td>19.4</td>\n",
       "      <td>0.0</td>\n",
       "      <td>1.4</td>\n",
       "      <td>0.0</td>\n",
       "      <td>0.0</td>\n",
       "      <td>0.0</td>\n",
       "      <td></td>\n",
       "      <td>30</td>\n",
       "      <td>57</td>\n",
       "    </tr>\n",
       "    <tr>\n",
       "      <td>2</td>\n",
       "      <td>2016</td>\n",
       "      <td>7</td>\n",
       "      <td>03</td>\n",
       "      <td>28.3</td>\n",
       "      <td>13.7</td>\n",
       "      <td>21.0</td>\n",
       "      <td>0.0</td>\n",
       "      <td>3.0</td>\n",
       "      <td>0.0</td>\n",
       "      <td>0.0</td>\n",
       "      <td>0.0</td>\n",
       "      <td></td>\n",
       "      <td>32</td>\n",
       "      <td>46</td>\n",
       "    </tr>\n",
       "    <tr>\n",
       "      <td>3</td>\n",
       "      <td>2016</td>\n",
       "      <td>7</td>\n",
       "      <td>04</td>\n",
       "      <td>28.9</td>\n",
       "      <td>14.7</td>\n",
       "      <td>21.8</td>\n",
       "      <td>0.0</td>\n",
       "      <td>3.8</td>\n",
       "      <td>0.0</td>\n",
       "      <td>0.0</td>\n",
       "      <td>0.0</td>\n",
       "      <td></td>\n",
       "      <td></td>\n",
       "      <td>&lt;31</td>\n",
       "    </tr>\n",
       "    <tr>\n",
       "      <td>4</td>\n",
       "      <td>2016</td>\n",
       "      <td>7</td>\n",
       "      <td>05</td>\n",
       "      <td>32.6</td>\n",
       "      <td>19.5</td>\n",
       "      <td>26.1</td>\n",
       "      <td>0.0</td>\n",
       "      <td>8.1</td>\n",
       "      <td>0.0</td>\n",
       "      <td>0.0</td>\n",
       "      <td>0.0</td>\n",
       "      <td></td>\n",
       "      <td>27</td>\n",
       "      <td>50</td>\n",
       "    </tr>\n",
       "    <tr>\n",
       "      <td>...</td>\n",
       "      <td>...</td>\n",
       "      <td>...</td>\n",
       "      <td>...</td>\n",
       "      <td>...</td>\n",
       "      <td>...</td>\n",
       "      <td>...</td>\n",
       "      <td>...</td>\n",
       "      <td>...</td>\n",
       "      <td>...</td>\n",
       "      <td>...</td>\n",
       "      <td>...</td>\n",
       "      <td>...</td>\n",
       "      <td>...</td>\n",
       "      <td>...</td>\n",
       "    </tr>\n",
       "    <tr>\n",
       "      <td>1397</td>\n",
       "      <td>2017</td>\n",
       "      <td>12</td>\n",
       "      <td>27</td>\n",
       "      <td>-11.3</td>\n",
       "      <td>-19.7</td>\n",
       "      <td>-15.5</td>\n",
       "      <td>33.5</td>\n",
       "      <td>0.0</td>\n",
       "      <td>0.0</td>\n",
       "      <td>0.0</td>\n",
       "      <td>0.0</td>\n",
       "      <td>15</td>\n",
       "      <td>30</td>\n",
       "      <td>33</td>\n",
       "    </tr>\n",
       "    <tr>\n",
       "      <td>1398</td>\n",
       "      <td>2017</td>\n",
       "      <td>12</td>\n",
       "      <td>28</td>\n",
       "      <td>-12.5</td>\n",
       "      <td>-22.5</td>\n",
       "      <td>-17.5</td>\n",
       "      <td>35.5</td>\n",
       "      <td>0.0</td>\n",
       "      <td>0.0</td>\n",
       "      <td>0.0</td>\n",
       "      <td>0.0</td>\n",
       "      <td>12</td>\n",
       "      <td></td>\n",
       "      <td>&lt;31</td>\n",
       "    </tr>\n",
       "    <tr>\n",
       "      <td>1399</td>\n",
       "      <td>2017</td>\n",
       "      <td>12</td>\n",
       "      <td>29</td>\n",
       "      <td>-8.4</td>\n",
       "      <td>-16.1</td>\n",
       "      <td>-12.3</td>\n",
       "      <td>30.3</td>\n",
       "      <td>0.0</td>\n",
       "      <td>0.0</td>\n",
       "      <td>4.5</td>\n",
       "      <td>3.0</td>\n",
       "      <td>7</td>\n",
       "      <td></td>\n",
       "      <td>&lt;31</td>\n",
       "    </tr>\n",
       "    <tr>\n",
       "      <td>1400</td>\n",
       "      <td>2017</td>\n",
       "      <td>12</td>\n",
       "      <td>30</td>\n",
       "      <td>-7.3</td>\n",
       "      <td>-19.2</td>\n",
       "      <td>-13.3</td>\n",
       "      <td>31.3</td>\n",
       "      <td>0.0</td>\n",
       "      <td>0.0</td>\n",
       "      <td>0.4</td>\n",
       "      <td>0.4</td>\n",
       "      <td>12</td>\n",
       "      <td>35</td>\n",
       "      <td>48</td>\n",
       "    </tr>\n",
       "    <tr>\n",
       "      <td>1401</td>\n",
       "      <td>2017</td>\n",
       "      <td>12</td>\n",
       "      <td>31</td>\n",
       "      <td>-14.5</td>\n",
       "      <td>-22.6</td>\n",
       "      <td>-18.6</td>\n",
       "      <td>36.6</td>\n",
       "      <td>0.0</td>\n",
       "      <td>0.0</td>\n",
       "      <td>0.0</td>\n",
       "      <td>0.0</td>\n",
       "      <td>12</td>\n",
       "      <td>34</td>\n",
       "      <td>32</td>\n",
       "    </tr>\n",
       "  </tbody>\n",
       "</table>\n",
       "<p>1402 rows × 14 columns</p>\n",
       "</div>"
      ],
      "text/plain": [
       "      Year Month DAY  Max Temp °C  Min Temp °C  Mean Temp °C  Heat Deg Days    \\\n",
       "0     2016     7  01          23.3         13.3          18.3             0.0   \n",
       "1     2016     7  02          26.4         12.3          19.4             0.0   \n",
       "2     2016     7  03          28.3         13.7          21.0             0.0   \n",
       "3     2016     7  04          28.9         14.7          21.8             0.0   \n",
       "4     2016     7  05          32.6         19.5          26.1             0.0   \n",
       "...    ...   ...  ...          ...          ...           ...             ...   \n",
       "1397  2017    12  27         -11.3        -19.7         -15.5            33.5   \n",
       "1398  2017    12  28         -12.5        -22.5         -17.5            35.5   \n",
       "1399  2017    12  29          -8.4        -16.1         -12.3            30.3   \n",
       "1400  2017    12  30          -7.3        -19.2         -13.3            31.3   \n",
       "1401  2017    12  31         -14.5        -22.6         -18.6            36.6   \n",
       "\n",
       "     Cool Deg Days   Total Rain mm  Total Snow cm  Total Precip mm   \\\n",
       "0                0.3            5.6            0.0              5.6   \n",
       "1                1.4            0.0            0.0              0.0   \n",
       "2                3.0            0.0            0.0              0.0   \n",
       "3                3.8            0.0            0.0              0.0   \n",
       "4                8.1            0.0            0.0              0.0   \n",
       "...              ...            ...            ...              ...   \n",
       "1397             0.0            0.0            0.0              0.0   \n",
       "1398             0.0            0.0            0.0              0.0   \n",
       "1399             0.0            0.0            4.5              3.0   \n",
       "1400             0.0            0.0            0.4              0.4   \n",
       "1401             0.0            0.0            0.0              0.0   \n",
       "\n",
       "     Snow on Grnd cm  Dir of Max Gust 10's deg  Spd of Max Gust km/h   \n",
       "0                                           31                    57   \n",
       "1                                           30                    57   \n",
       "2                                           32                    46   \n",
       "3                                                                <31   \n",
       "4                                           27                    50   \n",
       "...               ...                       ...                   ...  \n",
       "1397              15                        30                    33   \n",
       "1398              12                                             <31   \n",
       "1399               7                                             <31   \n",
       "1400              12                        35                    48   \n",
       "1401              12                        34                    32   \n",
       "\n",
       "[1402 rows x 14 columns]"
      ]
     },
     "execution_count": 24,
     "metadata": {},
     "output_type": "execute_result"
    }
   ],
   "source": [
    "from datetime import timedelta, date, datetime\n",
    "from dateutil.relativedelta import relativedelta\n",
    "import calendar\n",
    "from bs4 import BeautifulSoup\n",
    "from urllib.request import urlopen\n",
    "\n",
    "# Obtain the data in the range of date by month\n",
    "START_DATE = date(2016, 7, 1)\n",
    "END_DATE = date(2017, 12, 31)\n",
    "\n",
    "current_date = START_DATE\n",
    "\n",
    "while current_date <= END_DATE:\n",
    "    \n",
    "    current_year = current_date.year\n",
    "    current_month = current_date.month\n",
    "    num_days = calendar.monthrange(current_year, current_month)[1]\n",
    "\n",
    "    url = f'https://climate.weather.gc.ca/climate_data/daily_data_e.html?StationID=51459\\\n",
    "&timeframe=2&StartYear=1840&EndYear=2019&Day=22&Year={current_year}&Month={current_month}#'\n",
    "    \n",
    "    page = urlopen(url)\n",
    "    soup = BeautifulSoup(page,\"html.parser\")\n",
    "    table = soup.find('table')\n",
    "    \n",
    "    list_of_rows = []\n",
    "    for row in table.findAll('tr'):\n",
    "        list_of_cells = [str(current_year), str(current_month)]\n",
    "        for cell in row.findAll([\"th\",\"td\"]):\n",
    "            text = cell.text\n",
    "            list_of_cells.append(text)\n",
    "        list_of_rows.append(list_of_cells)\n",
    "    # Add the weather information of each day in the month to the dataframe\n",
    "    for i in range(1, num_days+1):\n",
    "        weather_df.loc[len(weather_df)] = list_of_rows[i]\n",
    "    current_date += relativedelta(months=+1)\n",
    "\n",
    "weather_df"
   ]
  },
  {
   "cell_type": "markdown",
   "metadata": {},
   "source": [
    "A peak of elements in the row 'Snow on Grnd cm':"
   ]
  },
  {
   "cell_type": "code",
   "execution_count": 25,
   "metadata": {},
   "outputs": [
    {
     "data": {
      "text/plain": [
       "array(['\\xa0', 'LegendTT ', '1 ', '15 ', '8 ', '10 ', '18 ', '19 ', '17 ',\n",
       "       '12 ', '7 ', '5 ', '4 ', '3 ', '2 ', '14 ', '11 ', '6 ', '9 ',\n",
       "       '16 '], dtype=object)"
      ]
     },
     "execution_count": 25,
     "metadata": {},
     "output_type": "execute_result"
    }
   ],
   "source": [
    "weather_df.columns = weather_df.columns.str.strip()\n",
    "weather_df['Snow on Grnd cm'].unique()"
   ]
  },
  {
   "cell_type": "markdown",
   "metadata": {},
   "source": [
    "I noticed that there are some entries in the dataframe that has value 'LegendTT', ''LegendMM', etc. 'LegendTT' means  Each different legend has different meanings, and I will explain how I am going to deal with these entries:\n",
    "\n",
    "'LegendTT': Trace, which are defined as less than half the measure unit. For example, \"Trace\" in \"Snow on Grnd cm\" means that it is less than 0.5 cm. We will impute those \n",
    "\n",
    "'LegendEE': Estimated. I will just simply get rid of the substring 'LegendEE'\n",
    "\n",
    "'LegendMM': Missing values. I will impute those entries with NA for now.\n",
    "\n",
    "Entries that have values \"\\xa0\" are empty, we will impute those entries with 0 as well. "
   ]
  },
  {
   "cell_type": "code",
   "execution_count": 26,
   "metadata": {},
   "outputs": [],
   "source": [
    "# Trim every entries\n",
    "weather_df[weather_df.columns] = weather_df.apply(lambda x: x.str.strip())\n",
    "import numpy as np\n",
    "weather_df = weather_df.replace({'\\xa0': '0', 'LegendTT': '0', 'LegendMM': np.nan})\n",
    "weather_df[weather_df.columns] = weather_df.apply(lambda x: x.str.replace('LegendEE', \"\"))"
   ]
  },
  {
   "cell_type": "markdown",
   "metadata": {},
   "source": [
    "Noticed that there are entries in the column \"Spd of Max Gust km/h\" that is '<31', we will change it to '15'."
   ]
  },
  {
   "cell_type": "code",
   "execution_count": 27,
   "metadata": {},
   "outputs": [
    {
     "data": {
      "text/plain": [
       "array(['57', '46', '<31', '50', '39', '41', '65', '43', '35', '80', '61',\n",
       "       '59', '37', '30', '54', '44', '32', '69', '33', '63', '78', '48',\n",
       "       '72', '52', '56', '76', '67', '82', '70', '74', '102', '89', '85',\n",
       "       nan], dtype=object)"
      ]
     },
     "execution_count": 27,
     "metadata": {},
     "output_type": "execute_result"
    }
   ],
   "source": [
    "weather_df = weather_df.replace({'': 0})\n",
    "weather_df[\"Spd of Max Gust km/h\"].unique()"
   ]
  },
  {
   "cell_type": "code",
   "execution_count": 28,
   "metadata": {},
   "outputs": [
    {
     "data": {
      "text/plain": [
       "array(['57', '46', '<31', '50', '39', '41', '65', '43', '35', '80', '61',\n",
       "       '59', '37', '30', '54', '44', '32', '69', '33', '63', '78', '48',\n",
       "       '72', '52', '56', '76', '67', '82', '70', '74', '102', '89', '85',\n",
       "       nan], dtype=object)"
      ]
     },
     "execution_count": 28,
     "metadata": {},
     "output_type": "execute_result"
    }
   ],
   "source": [
    "weather_df[\"Spd of Max Gust km/h\"].unique()"
   ]
  },
  {
   "cell_type": "code",
   "execution_count": 29,
   "metadata": {},
   "outputs": [],
   "source": [
    "weather_df[\"Spd of Max Gust km/h\"] = weather_df[\"Spd of Max Gust km/h\"].str.replace('<31', '15')"
   ]
  },
  {
   "cell_type": "markdown",
   "metadata": {},
   "source": [
    "Finally, we convert all the columns, except the columns represent time, to integer columns. "
   ]
  },
  {
   "cell_type": "code",
   "execution_count": 30,
   "metadata": {},
   "outputs": [],
   "source": [
    "weather_df.iloc[:, 3:] = weather_df.iloc[:, 3:].astype(float)"
   ]
  },
  {
   "cell_type": "code",
   "execution_count": 31,
   "metadata": {},
   "outputs": [
    {
     "data": {
      "text/html": [
       "<div>\n",
       "<style scoped>\n",
       "    .dataframe tbody tr th:only-of-type {\n",
       "        vertical-align: middle;\n",
       "    }\n",
       "\n",
       "    .dataframe tbody tr th {\n",
       "        vertical-align: top;\n",
       "    }\n",
       "\n",
       "    .dataframe thead th {\n",
       "        text-align: right;\n",
       "    }\n",
       "</style>\n",
       "<table border=\"1\" class=\"dataframe\">\n",
       "  <thead>\n",
       "    <tr style=\"text-align: right;\">\n",
       "      <th></th>\n",
       "      <th>Year</th>\n",
       "      <th>Month</th>\n",
       "      <th>DAY</th>\n",
       "      <th>Max Temp °C</th>\n",
       "      <th>Min Temp °C</th>\n",
       "      <th>Mean Temp °C</th>\n",
       "      <th>Heat Deg Days</th>\n",
       "      <th>Cool Deg Days</th>\n",
       "      <th>Total Rain mm</th>\n",
       "      <th>Total Snow cm</th>\n",
       "      <th>Total Precip mm</th>\n",
       "      <th>Snow on Grnd cm</th>\n",
       "      <th>Dir of Max Gust 10's deg</th>\n",
       "      <th>Spd of Max Gust km/h</th>\n",
       "    </tr>\n",
       "  </thead>\n",
       "  <tbody>\n",
       "    <tr>\n",
       "      <td>0</td>\n",
       "      <td>2016</td>\n",
       "      <td>7</td>\n",
       "      <td>01</td>\n",
       "      <td>23.3</td>\n",
       "      <td>13.3</td>\n",
       "      <td>18.3</td>\n",
       "      <td>0</td>\n",
       "      <td>0.3</td>\n",
       "      <td>5.6</td>\n",
       "      <td>0</td>\n",
       "      <td>5.6</td>\n",
       "      <td>0</td>\n",
       "      <td>31</td>\n",
       "      <td>57</td>\n",
       "    </tr>\n",
       "    <tr>\n",
       "      <td>1</td>\n",
       "      <td>2016</td>\n",
       "      <td>7</td>\n",
       "      <td>02</td>\n",
       "      <td>26.4</td>\n",
       "      <td>12.3</td>\n",
       "      <td>19.4</td>\n",
       "      <td>0</td>\n",
       "      <td>1.4</td>\n",
       "      <td>0</td>\n",
       "      <td>0</td>\n",
       "      <td>0</td>\n",
       "      <td>0</td>\n",
       "      <td>30</td>\n",
       "      <td>57</td>\n",
       "    </tr>\n",
       "    <tr>\n",
       "      <td>2</td>\n",
       "      <td>2016</td>\n",
       "      <td>7</td>\n",
       "      <td>03</td>\n",
       "      <td>28.3</td>\n",
       "      <td>13.7</td>\n",
       "      <td>21</td>\n",
       "      <td>0</td>\n",
       "      <td>3</td>\n",
       "      <td>0</td>\n",
       "      <td>0</td>\n",
       "      <td>0</td>\n",
       "      <td>0</td>\n",
       "      <td>32</td>\n",
       "      <td>46</td>\n",
       "    </tr>\n",
       "    <tr>\n",
       "      <td>3</td>\n",
       "      <td>2016</td>\n",
       "      <td>7</td>\n",
       "      <td>04</td>\n",
       "      <td>28.9</td>\n",
       "      <td>14.7</td>\n",
       "      <td>21.8</td>\n",
       "      <td>0</td>\n",
       "      <td>3.8</td>\n",
       "      <td>0</td>\n",
       "      <td>0</td>\n",
       "      <td>0</td>\n",
       "      <td>0</td>\n",
       "      <td>0</td>\n",
       "      <td>15</td>\n",
       "    </tr>\n",
       "    <tr>\n",
       "      <td>4</td>\n",
       "      <td>2016</td>\n",
       "      <td>7</td>\n",
       "      <td>05</td>\n",
       "      <td>32.6</td>\n",
       "      <td>19.5</td>\n",
       "      <td>26.1</td>\n",
       "      <td>0</td>\n",
       "      <td>8.1</td>\n",
       "      <td>0</td>\n",
       "      <td>0</td>\n",
       "      <td>0</td>\n",
       "      <td>0</td>\n",
       "      <td>27</td>\n",
       "      <td>50</td>\n",
       "    </tr>\n",
       "  </tbody>\n",
       "</table>\n",
       "</div>"
      ],
      "text/plain": [
       "   Year Month DAY Max Temp °C Min Temp °C Mean Temp °C Heat Deg Days  \\\n",
       "0  2016     7  01        23.3        13.3         18.3             0   \n",
       "1  2016     7  02        26.4        12.3         19.4             0   \n",
       "2  2016     7  03        28.3        13.7           21             0   \n",
       "3  2016     7  04        28.9        14.7         21.8             0   \n",
       "4  2016     7  05        32.6        19.5         26.1             0   \n",
       "\n",
       "  Cool Deg Days Total Rain mm Total Snow cm Total Precip mm Snow on Grnd cm  \\\n",
       "0           0.3           5.6             0             5.6               0   \n",
       "1           1.4             0             0               0               0   \n",
       "2             3             0             0               0               0   \n",
       "3           3.8             0             0               0               0   \n",
       "4           8.1             0             0               0               0   \n",
       "\n",
       "  Dir of Max Gust 10's deg Spd of Max Gust km/h  \n",
       "0                       31                   57  \n",
       "1                       30                   57  \n",
       "2                       32                   46  \n",
       "3                        0                   15  \n",
       "4                       27                   50  "
      ]
     },
     "execution_count": 31,
     "metadata": {},
     "output_type": "execute_result"
    }
   ],
   "source": [
    "weather_df.head()"
   ]
  },
  {
   "cell_type": "markdown",
   "metadata": {},
   "source": [
    "Next, lets have a peak of rows that have NaN values. For all the NaN entries. We will inpute the values with the mean value in the column. "
   ]
  },
  {
   "cell_type": "code",
   "execution_count": 32,
   "metadata": {},
   "outputs": [
    {
     "data": {
      "text/html": [
       "<div>\n",
       "<style scoped>\n",
       "    .dataframe tbody tr th:only-of-type {\n",
       "        vertical-align: middle;\n",
       "    }\n",
       "\n",
       "    .dataframe tbody tr th {\n",
       "        vertical-align: top;\n",
       "    }\n",
       "\n",
       "    .dataframe thead th {\n",
       "        text-align: right;\n",
       "    }\n",
       "</style>\n",
       "<table border=\"1\" class=\"dataframe\">\n",
       "  <thead>\n",
       "    <tr style=\"text-align: right;\">\n",
       "      <th></th>\n",
       "      <th>Year</th>\n",
       "      <th>Month</th>\n",
       "      <th>DAY</th>\n",
       "      <th>Max Temp °C</th>\n",
       "      <th>Min Temp °C</th>\n",
       "      <th>Mean Temp °C</th>\n",
       "      <th>Heat Deg Days</th>\n",
       "      <th>Cool Deg Days</th>\n",
       "      <th>Total Rain mm</th>\n",
       "      <th>Total Snow cm</th>\n",
       "      <th>Total Precip mm</th>\n",
       "      <th>Snow on Grnd cm</th>\n",
       "      <th>Dir of Max Gust 10's deg</th>\n",
       "      <th>Spd of Max Gust km/h</th>\n",
       "    </tr>\n",
       "  </thead>\n",
       "  <tbody>\n",
       "    <tr>\n",
       "      <td>156</td>\n",
       "      <td>2016</td>\n",
       "      <td>12</td>\n",
       "      <td>04</td>\n",
       "      <td>2.8</td>\n",
       "      <td>0.3</td>\n",
       "      <td>1.6</td>\n",
       "      <td>16.4</td>\n",
       "      <td>0</td>\n",
       "      <td>NaN</td>\n",
       "      <td>1.2</td>\n",
       "      <td>0.6</td>\n",
       "      <td>1</td>\n",
       "      <td>11</td>\n",
       "      <td>39</td>\n",
       "    </tr>\n",
       "    <tr>\n",
       "      <td>249</td>\n",
       "      <td>2017</td>\n",
       "      <td>3</td>\n",
       "      <td>07</td>\n",
       "      <td>13.3</td>\n",
       "      <td>5</td>\n",
       "      <td>9.2</td>\n",
       "      <td>8.8</td>\n",
       "      <td>0</td>\n",
       "      <td>NaN</td>\n",
       "      <td>NaN</td>\n",
       "      <td>NaN</td>\n",
       "      <td>0</td>\n",
       "      <td>0</td>\n",
       "      <td>15</td>\n",
       "    </tr>\n",
       "    <tr>\n",
       "      <td>460</td>\n",
       "      <td>2016</td>\n",
       "      <td>12</td>\n",
       "      <td>04</td>\n",
       "      <td>2.8</td>\n",
       "      <td>0.3</td>\n",
       "      <td>1.6</td>\n",
       "      <td>16.4</td>\n",
       "      <td>0</td>\n",
       "      <td>NaN</td>\n",
       "      <td>1.2</td>\n",
       "      <td>0.6</td>\n",
       "      <td>1</td>\n",
       "      <td>11</td>\n",
       "      <td>39</td>\n",
       "    </tr>\n",
       "    <tr>\n",
       "      <td>553</td>\n",
       "      <td>2017</td>\n",
       "      <td>3</td>\n",
       "      <td>07</td>\n",
       "      <td>13.3</td>\n",
       "      <td>5</td>\n",
       "      <td>9.2</td>\n",
       "      <td>8.8</td>\n",
       "      <td>0</td>\n",
       "      <td>NaN</td>\n",
       "      <td>NaN</td>\n",
       "      <td>NaN</td>\n",
       "      <td>0</td>\n",
       "      <td>0</td>\n",
       "      <td>15</td>\n",
       "    </tr>\n",
       "    <tr>\n",
       "      <td>782</td>\n",
       "      <td>2017</td>\n",
       "      <td>10</td>\n",
       "      <td>22</td>\n",
       "      <td>22.6</td>\n",
       "      <td>8.5</td>\n",
       "      <td>15.6</td>\n",
       "      <td>2.4</td>\n",
       "      <td>0</td>\n",
       "      <td>NaN</td>\n",
       "      <td>NaN</td>\n",
       "      <td>0</td>\n",
       "      <td>0</td>\n",
       "      <td>NaN</td>\n",
       "      <td>NaN</td>\n",
       "    </tr>\n",
       "    <tr>\n",
       "      <td>799</td>\n",
       "      <td>2017</td>\n",
       "      <td>11</td>\n",
       "      <td>08</td>\n",
       "      <td>NaN</td>\n",
       "      <td>-1.2</td>\n",
       "      <td>NaN</td>\n",
       "      <td>NaN</td>\n",
       "      <td>NaN</td>\n",
       "      <td>0</td>\n",
       "      <td>0</td>\n",
       "      <td>0</td>\n",
       "      <td>0</td>\n",
       "      <td>22</td>\n",
       "      <td>37</td>\n",
       "    </tr>\n",
       "    <tr>\n",
       "      <td>1009</td>\n",
       "      <td>2016</td>\n",
       "      <td>12</td>\n",
       "      <td>04</td>\n",
       "      <td>2.8</td>\n",
       "      <td>0.3</td>\n",
       "      <td>1.6</td>\n",
       "      <td>16.4</td>\n",
       "      <td>0</td>\n",
       "      <td>NaN</td>\n",
       "      <td>1.2</td>\n",
       "      <td>0.6</td>\n",
       "      <td>1</td>\n",
       "      <td>11</td>\n",
       "      <td>39</td>\n",
       "    </tr>\n",
       "    <tr>\n",
       "      <td>1102</td>\n",
       "      <td>2017</td>\n",
       "      <td>3</td>\n",
       "      <td>07</td>\n",
       "      <td>13.3</td>\n",
       "      <td>5</td>\n",
       "      <td>9.2</td>\n",
       "      <td>8.8</td>\n",
       "      <td>0</td>\n",
       "      <td>NaN</td>\n",
       "      <td>NaN</td>\n",
       "      <td>NaN</td>\n",
       "      <td>0</td>\n",
       "      <td>0</td>\n",
       "      <td>15</td>\n",
       "    </tr>\n",
       "    <tr>\n",
       "      <td>1331</td>\n",
       "      <td>2017</td>\n",
       "      <td>10</td>\n",
       "      <td>22</td>\n",
       "      <td>22.6</td>\n",
       "      <td>8.5</td>\n",
       "      <td>15.6</td>\n",
       "      <td>2.4</td>\n",
       "      <td>0</td>\n",
       "      <td>NaN</td>\n",
       "      <td>NaN</td>\n",
       "      <td>0</td>\n",
       "      <td>0</td>\n",
       "      <td>NaN</td>\n",
       "      <td>NaN</td>\n",
       "    </tr>\n",
       "    <tr>\n",
       "      <td>1348</td>\n",
       "      <td>2017</td>\n",
       "      <td>11</td>\n",
       "      <td>08</td>\n",
       "      <td>NaN</td>\n",
       "      <td>-1.2</td>\n",
       "      <td>NaN</td>\n",
       "      <td>NaN</td>\n",
       "      <td>NaN</td>\n",
       "      <td>0</td>\n",
       "      <td>0</td>\n",
       "      <td>0</td>\n",
       "      <td>0</td>\n",
       "      <td>22</td>\n",
       "      <td>37</td>\n",
       "    </tr>\n",
       "  </tbody>\n",
       "</table>\n",
       "</div>"
      ],
      "text/plain": [
       "      Year Month DAY Max Temp °C Min Temp °C Mean Temp °C Heat Deg Days  \\\n",
       "156   2016    12  04         2.8         0.3          1.6          16.4   \n",
       "249   2017     3  07        13.3           5          9.2           8.8   \n",
       "460   2016    12  04         2.8         0.3          1.6          16.4   \n",
       "553   2017     3  07        13.3           5          9.2           8.8   \n",
       "782   2017    10  22        22.6         8.5         15.6           2.4   \n",
       "799   2017    11  08         NaN        -1.2          NaN           NaN   \n",
       "1009  2016    12  04         2.8         0.3          1.6          16.4   \n",
       "1102  2017     3  07        13.3           5          9.2           8.8   \n",
       "1331  2017    10  22        22.6         8.5         15.6           2.4   \n",
       "1348  2017    11  08         NaN        -1.2          NaN           NaN   \n",
       "\n",
       "     Cool Deg Days Total Rain mm Total Snow cm Total Precip mm  \\\n",
       "156              0           NaN           1.2             0.6   \n",
       "249              0           NaN           NaN             NaN   \n",
       "460              0           NaN           1.2             0.6   \n",
       "553              0           NaN           NaN             NaN   \n",
       "782              0           NaN           NaN               0   \n",
       "799            NaN             0             0               0   \n",
       "1009             0           NaN           1.2             0.6   \n",
       "1102             0           NaN           NaN             NaN   \n",
       "1331             0           NaN           NaN               0   \n",
       "1348           NaN             0             0               0   \n",
       "\n",
       "     Snow on Grnd cm Dir of Max Gust 10's deg Spd of Max Gust km/h  \n",
       "156                1                       11                   39  \n",
       "249                0                        0                   15  \n",
       "460                1                       11                   39  \n",
       "553                0                        0                   15  \n",
       "782                0                      NaN                  NaN  \n",
       "799                0                       22                   37  \n",
       "1009               1                       11                   39  \n",
       "1102               0                        0                   15  \n",
       "1331               0                      NaN                  NaN  \n",
       "1348               0                       22                   37  "
      ]
     },
     "execution_count": 32,
     "metadata": {},
     "output_type": "execute_result"
    }
   ],
   "source": [
    "weather_df[weather_df.isna().any(axis=1)]"
   ]
  },
  {
   "cell_type": "code",
   "execution_count": 33,
   "metadata": {},
   "outputs": [],
   "source": [
    "from sklearn.impute import SimpleImputer\n",
    "\n",
    "# Imputation\n",
    "imputer = SimpleImputer()\n",
    "columns = weather_df.iloc[:, 3:].columns\n",
    "temp = pd.DataFrame(imputer.fit_transform(weather_df.iloc[:, 3:]))\n",
    "temp.columns = columns\n",
    "weather_df.iloc[:,3:] = temp"
   ]
  },
  {
   "cell_type": "markdown",
   "metadata": {},
   "source": [
    "The data cleaning process for the weather has been completed. We will join the weather data with joined data of the Bikeshare Ridership data and the Station information data by date. "
   ]
  },
  {
   "cell_type": "code",
   "execution_count": 34,
   "metadata": {},
   "outputs": [
    {
     "data": {
      "text/html": [
       "<div>\n",
       "<style scoped>\n",
       "    .dataframe tbody tr th:only-of-type {\n",
       "        vertical-align: middle;\n",
       "    }\n",
       "\n",
       "    .dataframe tbody tr th {\n",
       "        vertical-align: top;\n",
       "    }\n",
       "\n",
       "    .dataframe thead th {\n",
       "        text-align: right;\n",
       "    }\n",
       "</style>\n",
       "<table border=\"1\" class=\"dataframe\">\n",
       "  <thead>\n",
       "    <tr style=\"text-align: right;\">\n",
       "      <th></th>\n",
       "      <th>Date</th>\n",
       "      <th>Max Temp °C</th>\n",
       "      <th>Min Temp °C</th>\n",
       "      <th>Mean Temp °C</th>\n",
       "      <th>Heat Deg Days</th>\n",
       "      <th>Cool Deg Days</th>\n",
       "      <th>Total Rain mm</th>\n",
       "      <th>Total Snow cm</th>\n",
       "      <th>Total Precip mm</th>\n",
       "      <th>Snow on Grnd cm</th>\n",
       "      <th>Dir of Max Gust 10's deg</th>\n",
       "      <th>Spd of Max Gust km/h</th>\n",
       "    </tr>\n",
       "  </thead>\n",
       "  <tbody>\n",
       "    <tr>\n",
       "      <td>0</td>\n",
       "      <td>2016-07-01</td>\n",
       "      <td>23.3</td>\n",
       "      <td>13.3</td>\n",
       "      <td>18.3</td>\n",
       "      <td>0</td>\n",
       "      <td>0.3</td>\n",
       "      <td>5.6</td>\n",
       "      <td>0</td>\n",
       "      <td>5.6</td>\n",
       "      <td>0</td>\n",
       "      <td>31</td>\n",
       "      <td>57</td>\n",
       "    </tr>\n",
       "    <tr>\n",
       "      <td>1</td>\n",
       "      <td>2016-07-02</td>\n",
       "      <td>26.4</td>\n",
       "      <td>12.3</td>\n",
       "      <td>19.4</td>\n",
       "      <td>0</td>\n",
       "      <td>1.4</td>\n",
       "      <td>0</td>\n",
       "      <td>0</td>\n",
       "      <td>0</td>\n",
       "      <td>0</td>\n",
       "      <td>30</td>\n",
       "      <td>57</td>\n",
       "    </tr>\n",
       "    <tr>\n",
       "      <td>2</td>\n",
       "      <td>2016-07-03</td>\n",
       "      <td>28.3</td>\n",
       "      <td>13.7</td>\n",
       "      <td>21</td>\n",
       "      <td>0</td>\n",
       "      <td>3</td>\n",
       "      <td>0</td>\n",
       "      <td>0</td>\n",
       "      <td>0</td>\n",
       "      <td>0</td>\n",
       "      <td>32</td>\n",
       "      <td>46</td>\n",
       "    </tr>\n",
       "    <tr>\n",
       "      <td>3</td>\n",
       "      <td>2016-07-04</td>\n",
       "      <td>28.9</td>\n",
       "      <td>14.7</td>\n",
       "      <td>21.8</td>\n",
       "      <td>0</td>\n",
       "      <td>3.8</td>\n",
       "      <td>0</td>\n",
       "      <td>0</td>\n",
       "      <td>0</td>\n",
       "      <td>0</td>\n",
       "      <td>0</td>\n",
       "      <td>15</td>\n",
       "    </tr>\n",
       "    <tr>\n",
       "      <td>4</td>\n",
       "      <td>2016-07-05</td>\n",
       "      <td>32.6</td>\n",
       "      <td>19.5</td>\n",
       "      <td>26.1</td>\n",
       "      <td>0</td>\n",
       "      <td>8.1</td>\n",
       "      <td>0</td>\n",
       "      <td>0</td>\n",
       "      <td>0</td>\n",
       "      <td>0</td>\n",
       "      <td>27</td>\n",
       "      <td>50</td>\n",
       "    </tr>\n",
       "  </tbody>\n",
       "</table>\n",
       "</div>"
      ],
      "text/plain": [
       "        Date Max Temp °C Min Temp °C Mean Temp °C Heat Deg Days Cool Deg Days  \\\n",
       "0 2016-07-01        23.3        13.3         18.3             0           0.3   \n",
       "1 2016-07-02        26.4        12.3         19.4             0           1.4   \n",
       "2 2016-07-03        28.3        13.7           21             0             3   \n",
       "3 2016-07-04        28.9        14.7         21.8             0           3.8   \n",
       "4 2016-07-05        32.6        19.5         26.1             0           8.1   \n",
       "\n",
       "  Total Rain mm Total Snow cm Total Precip mm Snow on Grnd cm  \\\n",
       "0           5.6             0             5.6               0   \n",
       "1             0             0               0               0   \n",
       "2             0             0               0               0   \n",
       "3             0             0               0               0   \n",
       "4             0             0               0               0   \n",
       "\n",
       "  Dir of Max Gust 10's deg Spd of Max Gust km/h  \n",
       "0                       31                   57  \n",
       "1                       30                   57  \n",
       "2                       32                   46  \n",
       "3                        0                   15  \n",
       "4                       27                   50  "
      ]
     },
     "execution_count": 34,
     "metadata": {},
     "output_type": "execute_result"
    }
   ],
   "source": [
    "# Add a date column that has type datetime to the weather dataframe\n",
    "new_weather_df = weather_df.copy()\n",
    "new_weather_df.columns = new_weather_df.columns.str.strip()\n",
    "new_weather_df['Year'] = new_weather_df['Year'].str.strip()\n",
    "new_weather_df['Month'] = new_weather_df['Month'].str.strip()\n",
    "new_weather_df['DAY'] = new_weather_df['DAY'].str.strip()\n",
    "new_weather_df['Date'] = new_weather_df['Year'] + '-' + new_weather_df['Month'] + '-' + new_weather_df['DAY']\n",
    "new_weather_df['Date'] = pd.to_datetime(new_weather_df['Date'], format=\"%Y-%m-%d\")\n",
    "new_weather_df = new_weather_df.iloc[:, 3:]\n",
    "cols = new_weather_df.columns.tolist()\n",
    "cols.insert(0, cols.pop(cols.index('Date')))\n",
    "new_weather_df = new_weather_df.reindex(columns= cols)\n",
    "new_weather_df.head()"
   ]
  },
  {
   "cell_type": "code",
   "execution_count": 35,
   "metadata": {},
   "outputs": [
    {
     "data": {
      "text/html": [
       "<div>\n",
       "<style scoped>\n",
       "    .dataframe tbody tr th:only-of-type {\n",
       "        vertical-align: middle;\n",
       "    }\n",
       "\n",
       "    .dataframe tbody tr th {\n",
       "        vertical-align: top;\n",
       "    }\n",
       "\n",
       "    .dataframe thead th {\n",
       "        text-align: right;\n",
       "    }\n",
       "</style>\n",
       "<table border=\"1\" class=\"dataframe\">\n",
       "  <thead>\n",
       "    <tr style=\"text-align: right;\">\n",
       "      <th></th>\n",
       "      <th>Date</th>\n",
       "      <th>Id</th>\n",
       "      <th>Start Time</th>\n",
       "      <th>Duration (Seconds)</th>\n",
       "      <th>User Type</th>\n",
       "      <th>Quarter</th>\n",
       "      <th>Month</th>\n",
       "      <th>Day of Week</th>\n",
       "      <th>Hour</th>\n",
       "      <th>Distance</th>\n",
       "    </tr>\n",
       "  </thead>\n",
       "  <tbody>\n",
       "    <tr>\n",
       "      <td>0</td>\n",
       "      <td>2016-12-31</td>\n",
       "      <td>712382</td>\n",
       "      <td>2016-12-31 20:00:00</td>\n",
       "      <td>223</td>\n",
       "      <td>Member</td>\n",
       "      <td>4</td>\n",
       "      <td>December</td>\n",
       "      <td>Sat</td>\n",
       "      <td>20</td>\n",
       "      <td>394.38189</td>\n",
       "    </tr>\n",
       "    <tr>\n",
       "      <td>1</td>\n",
       "      <td>2017-01-06</td>\n",
       "      <td>719668</td>\n",
       "      <td>2017-01-06 20:32:00</td>\n",
       "      <td>162</td>\n",
       "      <td>Member</td>\n",
       "      <td>1</td>\n",
       "      <td>January</td>\n",
       "      <td>Fri</td>\n",
       "      <td>20</td>\n",
       "      <td>394.38189</td>\n",
       "    </tr>\n",
       "    <tr>\n",
       "      <td>2</td>\n",
       "      <td>2017-01-08</td>\n",
       "      <td>720949</td>\n",
       "      <td>2017-01-08 20:52:00</td>\n",
       "      <td>194</td>\n",
       "      <td>Member</td>\n",
       "      <td>1</td>\n",
       "      <td>January</td>\n",
       "      <td>Sun</td>\n",
       "      <td>20</td>\n",
       "      <td>394.38189</td>\n",
       "    </tr>\n",
       "    <tr>\n",
       "      <td>3</td>\n",
       "      <td>2017-01-09</td>\n",
       "      <td>722433</td>\n",
       "      <td>2017-01-09 20:28:00</td>\n",
       "      <td>159</td>\n",
       "      <td>Member</td>\n",
       "      <td>1</td>\n",
       "      <td>January</td>\n",
       "      <td>Mon</td>\n",
       "      <td>20</td>\n",
       "      <td>394.38189</td>\n",
       "    </tr>\n",
       "    <tr>\n",
       "      <td>4</td>\n",
       "      <td>2017-01-20</td>\n",
       "      <td>740570</td>\n",
       "      <td>2017-01-20 12:53:00</td>\n",
       "      <td>222</td>\n",
       "      <td>Member</td>\n",
       "      <td>1</td>\n",
       "      <td>January</td>\n",
       "      <td>Fri</td>\n",
       "      <td>12</td>\n",
       "      <td>394.38189</td>\n",
       "    </tr>\n",
       "  </tbody>\n",
       "</table>\n",
       "</div>"
      ],
      "text/plain": [
       "        Date      Id          Start Time  Duration (Seconds) User Type  \\\n",
       "0 2016-12-31  712382 2016-12-31 20:00:00                 223    Member   \n",
       "1 2017-01-06  719668 2017-01-06 20:32:00                 162    Member   \n",
       "2 2017-01-08  720949 2017-01-08 20:52:00                 194    Member   \n",
       "3 2017-01-09  722433 2017-01-09 20:28:00                 159    Member   \n",
       "4 2017-01-20  740570 2017-01-20 12:53:00                 222    Member   \n",
       "\n",
       "   Quarter     Month Day of Week Hour   Distance  \n",
       "0        4  December         Sat   20  394.38189  \n",
       "1        1   January         Fri   20  394.38189  \n",
       "2        1   January         Sun   20  394.38189  \n",
       "3        1   January         Mon   20  394.38189  \n",
       "4        1   January         Fri   12  394.38189  "
      ]
     },
     "execution_count": 35,
     "metadata": {},
     "output_type": "execute_result"
    }
   ],
   "source": [
    "# Add a date column that has type datetime to the joined data\n",
    "new_df = df.copy()\n",
    "new_df[\"Date\"] = pd.to_datetime(new_df['Date'], format=\"%Y-%m-%d\")\n",
    "cols = new_df.columns.tolist()\n",
    "cols.insert(0, cols.pop(cols.index('Date')))\n",
    "new_df = new_df.reindex(columns= cols)\n",
    "new_df.head()"
   ]
  },
  {
   "cell_type": "code",
   "execution_count": 36,
   "metadata": {},
   "outputs": [],
   "source": [
    "joined_df = new_df.merge(new_weather_df, on = 'Date', how = 'inner')"
   ]
  },
  {
   "cell_type": "code",
   "execution_count": 37,
   "metadata": {},
   "outputs": [
    {
     "data": {
      "text/html": [
       "<div>\n",
       "<style scoped>\n",
       "    .dataframe tbody tr th:only-of-type {\n",
       "        vertical-align: middle;\n",
       "    }\n",
       "\n",
       "    .dataframe tbody tr th {\n",
       "        vertical-align: top;\n",
       "    }\n",
       "\n",
       "    .dataframe thead th {\n",
       "        text-align: right;\n",
       "    }\n",
       "</style>\n",
       "<table border=\"1\" class=\"dataframe\">\n",
       "  <thead>\n",
       "    <tr style=\"text-align: right;\">\n",
       "      <th></th>\n",
       "      <th>Date</th>\n",
       "      <th>Id</th>\n",
       "      <th>Start Time</th>\n",
       "      <th>Duration (Seconds)</th>\n",
       "      <th>User Type</th>\n",
       "      <th>Quarter</th>\n",
       "      <th>Month</th>\n",
       "      <th>Day of Week</th>\n",
       "      <th>Hour</th>\n",
       "      <th>Distance</th>\n",
       "      <th>...</th>\n",
       "      <th>Min Temp °C</th>\n",
       "      <th>Mean Temp °C</th>\n",
       "      <th>Heat Deg Days</th>\n",
       "      <th>Cool Deg Days</th>\n",
       "      <th>Total Rain mm</th>\n",
       "      <th>Total Snow cm</th>\n",
       "      <th>Total Precip mm</th>\n",
       "      <th>Snow on Grnd cm</th>\n",
       "      <th>Dir of Max Gust 10's deg</th>\n",
       "      <th>Spd of Max Gust km/h</th>\n",
       "    </tr>\n",
       "  </thead>\n",
       "  <tbody>\n",
       "    <tr>\n",
       "      <td>0</td>\n",
       "      <td>2016-12-31</td>\n",
       "      <td>712382</td>\n",
       "      <td>2016-12-31 20:00:00</td>\n",
       "      <td>223</td>\n",
       "      <td>Member</td>\n",
       "      <td>4</td>\n",
       "      <td>December</td>\n",
       "      <td>Sat</td>\n",
       "      <td>20</td>\n",
       "      <td>394.381890</td>\n",
       "      <td>...</td>\n",
       "      <td>-3.5</td>\n",
       "      <td>0.1</td>\n",
       "      <td>17.9</td>\n",
       "      <td>0</td>\n",
       "      <td>0.8</td>\n",
       "      <td>1</td>\n",
       "      <td>1.8</td>\n",
       "      <td>4</td>\n",
       "      <td>23</td>\n",
       "      <td>56</td>\n",
       "    </tr>\n",
       "    <tr>\n",
       "      <td>1</td>\n",
       "      <td>2016-12-31</td>\n",
       "      <td>712382</td>\n",
       "      <td>2016-12-31 20:00:00</td>\n",
       "      <td>223</td>\n",
       "      <td>Member</td>\n",
       "      <td>4</td>\n",
       "      <td>December</td>\n",
       "      <td>Sat</td>\n",
       "      <td>20</td>\n",
       "      <td>394.381890</td>\n",
       "      <td>...</td>\n",
       "      <td>-3.5</td>\n",
       "      <td>0.1</td>\n",
       "      <td>17.9</td>\n",
       "      <td>0</td>\n",
       "      <td>0.8</td>\n",
       "      <td>1</td>\n",
       "      <td>1.8</td>\n",
       "      <td>4</td>\n",
       "      <td>23</td>\n",
       "      <td>56</td>\n",
       "    </tr>\n",
       "    <tr>\n",
       "      <td>2</td>\n",
       "      <td>2016-12-31</td>\n",
       "      <td>712382</td>\n",
       "      <td>2016-12-31 20:00:00</td>\n",
       "      <td>223</td>\n",
       "      <td>Member</td>\n",
       "      <td>4</td>\n",
       "      <td>December</td>\n",
       "      <td>Sat</td>\n",
       "      <td>20</td>\n",
       "      <td>394.381890</td>\n",
       "      <td>...</td>\n",
       "      <td>-3.5</td>\n",
       "      <td>0.1</td>\n",
       "      <td>17.9</td>\n",
       "      <td>0</td>\n",
       "      <td>0.8</td>\n",
       "      <td>1</td>\n",
       "      <td>1.8</td>\n",
       "      <td>4</td>\n",
       "      <td>23</td>\n",
       "      <td>56</td>\n",
       "    </tr>\n",
       "    <tr>\n",
       "      <td>3</td>\n",
       "      <td>2016-12-31</td>\n",
       "      <td>712274</td>\n",
       "      <td>2016-12-31 16:39:00</td>\n",
       "      <td>260</td>\n",
       "      <td>Member</td>\n",
       "      <td>4</td>\n",
       "      <td>December</td>\n",
       "      <td>Sat</td>\n",
       "      <td>16</td>\n",
       "      <td>560.319293</td>\n",
       "      <td>...</td>\n",
       "      <td>-3.5</td>\n",
       "      <td>0.1</td>\n",
       "      <td>17.9</td>\n",
       "      <td>0</td>\n",
       "      <td>0.8</td>\n",
       "      <td>1</td>\n",
       "      <td>1.8</td>\n",
       "      <td>4</td>\n",
       "      <td>23</td>\n",
       "      <td>56</td>\n",
       "    </tr>\n",
       "    <tr>\n",
       "      <td>4</td>\n",
       "      <td>2016-12-31</td>\n",
       "      <td>712274</td>\n",
       "      <td>2016-12-31 16:39:00</td>\n",
       "      <td>260</td>\n",
       "      <td>Member</td>\n",
       "      <td>4</td>\n",
       "      <td>December</td>\n",
       "      <td>Sat</td>\n",
       "      <td>16</td>\n",
       "      <td>560.319293</td>\n",
       "      <td>...</td>\n",
       "      <td>-3.5</td>\n",
       "      <td>0.1</td>\n",
       "      <td>17.9</td>\n",
       "      <td>0</td>\n",
       "      <td>0.8</td>\n",
       "      <td>1</td>\n",
       "      <td>1.8</td>\n",
       "      <td>4</td>\n",
       "      <td>23</td>\n",
       "      <td>56</td>\n",
       "    </tr>\n",
       "  </tbody>\n",
       "</table>\n",
       "<p>5 rows × 21 columns</p>\n",
       "</div>"
      ],
      "text/plain": [
       "        Date      Id          Start Time  Duration (Seconds) User Type  \\\n",
       "0 2016-12-31  712382 2016-12-31 20:00:00                 223    Member   \n",
       "1 2016-12-31  712382 2016-12-31 20:00:00                 223    Member   \n",
       "2 2016-12-31  712382 2016-12-31 20:00:00                 223    Member   \n",
       "3 2016-12-31  712274 2016-12-31 16:39:00                 260    Member   \n",
       "4 2016-12-31  712274 2016-12-31 16:39:00                 260    Member   \n",
       "\n",
       "   Quarter     Month Day of Week Hour    Distance  ... Min Temp °C  \\\n",
       "0        4  December         Sat   20  394.381890  ...        -3.5   \n",
       "1        4  December         Sat   20  394.381890  ...        -3.5   \n",
       "2        4  December         Sat   20  394.381890  ...        -3.5   \n",
       "3        4  December         Sat   16  560.319293  ...        -3.5   \n",
       "4        4  December         Sat   16  560.319293  ...        -3.5   \n",
       "\n",
       "  Mean Temp °C Heat Deg Days Cool Deg Days Total Rain mm Total Snow cm  \\\n",
       "0          0.1          17.9             0           0.8             1   \n",
       "1          0.1          17.9             0           0.8             1   \n",
       "2          0.1          17.9             0           0.8             1   \n",
       "3          0.1          17.9             0           0.8             1   \n",
       "4          0.1          17.9             0           0.8             1   \n",
       "\n",
       "  Total Precip mm Snow on Grnd cm Dir of Max Gust 10's deg  \\\n",
       "0             1.8               4                       23   \n",
       "1             1.8               4                       23   \n",
       "2             1.8               4                       23   \n",
       "3             1.8               4                       23   \n",
       "4             1.8               4                       23   \n",
       "\n",
       "  Spd of Max Gust km/h  \n",
       "0                   56  \n",
       "1                   56  \n",
       "2                   56  \n",
       "3                   56  \n",
       "4                   56  \n",
       "\n",
       "[5 rows x 21 columns]"
      ]
     },
     "execution_count": 37,
     "metadata": {},
     "output_type": "execute_result"
    }
   ],
   "source": [
    "joined_df.head()"
   ]
  },
  {
   "cell_type": "markdown",
   "metadata": {},
   "source": [
    "Data is now ready to investigate the research question: Does season or weather affect how people uses Toronto bikeshare, specifically the relationship between season or weather and the trip lengths defined above."
   ]
  },
  {
   "cell_type": "markdown",
   "metadata": {},
   "source": [
    "##  IV. Results"
   ]
  },
  {
   "cell_type": "markdown",
   "metadata": {},
   "source": [
    "### 1. Do casual users take shorter trips compared to members? Is there a relationship between the two definitions of trip length?"
   ]
  },
  {
   "cell_type": "markdown",
   "metadata": {},
   "source": [
    "We have defined trip length in two ways: the duration of the trip (seconds) and the distance traveled (meters). We will be investigating this research question through both lenses. "
   ]
  },
  {
   "cell_type": "markdown",
   "metadata": {},
   "source": [
    "We will have a look of the percentage of casual users comapred to members first."
   ]
  },
  {
   "cell_type": "code",
   "execution_count": 38,
   "metadata": {},
   "outputs": [
    {
     "data": {
      "image/png": "[encoded data removed]",
      "text/plain": [
       "<Figure size 432x432 with 1 Axes>"
      ]
     },
     "metadata": {},
     "output_type": "display_data"
    }
   ],
   "source": [
    "# pie chart of workers\n",
    "labels = ['Casual', 'Member']\n",
    "sizes = [joined_df['User Type'].value_counts()[1],\n",
    "         joined_df['User Type'].value_counts()[0]\n",
    "        ]\n",
    "# print(sizes) # adds up to 1433, which is the total number of participants\n",
    "fig, ax = plt.subplots(figsize = (6, 6))\n",
    "ax.pie(sizes, labels=labels, autopct='%1.1f%%', shadow=True)\n",
    "ax.axis('equal')\n",
    "ax.set_title('Percentage of Member vs Casual users')\n",
    "plt.show()"
   ]
  },
  {
   "cell_type": "markdown",
   "metadata": {},
   "source": [
    "The pie plot indicates that the majority of the users of the Toronto Bike Share System are members. This is reasonable since member tend to use the system in a regular basis. A huge difference in percentage of member and casual users suggest us to compare the trip length of two types of users through density. Next, we will investigate the trip length of two types of users through summary statistics. "
   ]
  },
  {
   "cell_type": "code",
   "execution_count": 39,
   "metadata": {},
   "outputs": [],
   "source": [
    "member_df = joined_df[joined_df['User Type'] == 'Member']\n",
    "casual_df = joined_df[joined_df['User Type'] == 'Casual']"
   ]
  },
  {
   "cell_type": "markdown",
   "metadata": {},
   "source": [
    "###### Member Trip Length Summary"
   ]
  },
  {
   "cell_type": "code",
   "execution_count": 40,
   "metadata": {},
   "outputs": [
    {
     "data": {
      "text/html": [
       "<div>\n",
       "<style scoped>\n",
       "    .dataframe tbody tr th:only-of-type {\n",
       "        vertical-align: middle;\n",
       "    }\n",
       "\n",
       "    .dataframe tbody tr th {\n",
       "        vertical-align: top;\n",
       "    }\n",
       "\n",
       "    .dataframe thead th {\n",
       "        text-align: right;\n",
       "    }\n",
       "</style>\n",
       "<table border=\"1\" class=\"dataframe\">\n",
       "  <thead>\n",
       "    <tr style=\"text-align: right;\">\n",
       "      <th></th>\n",
       "      <th>Duration (Seconds)</th>\n",
       "      <th>Distance</th>\n",
       "    </tr>\n",
       "  </thead>\n",
       "  <tbody>\n",
       "    <tr>\n",
       "      <td>mean</td>\n",
       "      <td>653.0</td>\n",
       "      <td>1686.0</td>\n",
       "    </tr>\n",
       "    <tr>\n",
       "      <td>std</td>\n",
       "      <td>344.3</td>\n",
       "      <td>994.7</td>\n",
       "    </tr>\n",
       "    <tr>\n",
       "      <td>25%</td>\n",
       "      <td>393.0</td>\n",
       "      <td>979.8</td>\n",
       "    </tr>\n",
       "    <tr>\n",
       "      <td>50%</td>\n",
       "      <td>585.0</td>\n",
       "      <td>1483.4</td>\n",
       "    </tr>\n",
       "    <tr>\n",
       "      <td>75%</td>\n",
       "      <td>849.0</td>\n",
       "      <td>2180.3</td>\n",
       "    </tr>\n",
       "  </tbody>\n",
       "</table>\n",
       "</div>"
      ],
      "text/plain": [
       "      Duration (Seconds)  Distance\n",
       "mean               653.0    1686.0\n",
       "std                344.3     994.7\n",
       "25%                393.0     979.8\n",
       "50%                585.0    1483.4\n",
       "75%                849.0    2180.3"
      ]
     },
     "metadata": {},
     "output_type": "display_data"
    }
   ],
   "source": [
    "member_summary = member_df.describe().iloc[1:-1, [1, 3]]\n",
    "member_summary = np.round(member_summary, decimals=1).drop('min')\n",
    "display(member_summary)"
   ]
  },
  {
   "cell_type": "markdown",
   "metadata": {},
   "source": [
    "###### Casual Trip Length Summary"
   ]
  },
  {
   "cell_type": "code",
   "execution_count": 41,
   "metadata": {},
   "outputs": [
    {
     "data": {
      "text/html": [
       "<div>\n",
       "<style scoped>\n",
       "    .dataframe tbody tr th:only-of-type {\n",
       "        vertical-align: middle;\n",
       "    }\n",
       "\n",
       "    .dataframe tbody tr th {\n",
       "        vertical-align: top;\n",
       "    }\n",
       "\n",
       "    .dataframe thead th {\n",
       "        text-align: right;\n",
       "    }\n",
       "</style>\n",
       "<table border=\"1\" class=\"dataframe\">\n",
       "  <thead>\n",
       "    <tr style=\"text-align: right;\">\n",
       "      <th></th>\n",
       "      <th>Duration (Seconds)</th>\n",
       "      <th>Distance</th>\n",
       "    </tr>\n",
       "  </thead>\n",
       "  <tbody>\n",
       "    <tr>\n",
       "      <td>mean</td>\n",
       "      <td>1001.9</td>\n",
       "      <td>1851.9</td>\n",
       "    </tr>\n",
       "    <tr>\n",
       "      <td>std</td>\n",
       "      <td>423.8</td>\n",
       "      <td>1043.7</td>\n",
       "    </tr>\n",
       "    <tr>\n",
       "      <td>25%</td>\n",
       "      <td>667.0</td>\n",
       "      <td>1102.7</td>\n",
       "    </tr>\n",
       "    <tr>\n",
       "      <td>50%</td>\n",
       "      <td>976.0</td>\n",
       "      <td>1675.0</td>\n",
       "    </tr>\n",
       "    <tr>\n",
       "      <td>75%</td>\n",
       "      <td>1321.0</td>\n",
       "      <td>2407.7</td>\n",
       "    </tr>\n",
       "  </tbody>\n",
       "</table>\n",
       "</div>"
      ],
      "text/plain": [
       "      Duration (Seconds)  Distance\n",
       "mean              1001.9    1851.9\n",
       "std                423.8    1043.7\n",
       "25%                667.0    1102.7\n",
       "50%                976.0    1675.0\n",
       "75%               1321.0    2407.7"
      ]
     },
     "metadata": {},
     "output_type": "display_data"
    }
   ],
   "source": [
    "casual_summary = casual_df.describe().iloc[1:-1, [1, 3]]\n",
    "casual_summary = np.round(casual_summary, decimals=1).drop('min')\n",
    "display(casual_summary)"
   ]
  },
  {
   "cell_type": "markdown",
   "metadata": {},
   "source": [
    "Comparing the statistical summary of trip length of two types of users, we see that the statistical summary for \"Distance\" is similar between the two types of users. However, casual users have a significantly higher mean, quantiles, and standard deviation of duration than members. Noticed that the mean and the medium of duration of the casual users are above 600 seconds, which is unexpected according to the Bikeshare Toronto pricing scheme. One possible explanation to this phenomenon is that casual users might be using the system mainly for sightseeing, while members use the system as transportation. "
   ]
  },
  {
   "cell_type": "markdown",
   "metadata": {},
   "source": [
    "##### Member"
   ]
  },
  {
   "cell_type": "code",
   "execution_count": 42,
   "metadata": {},
   "outputs": [
    {
     "data": {
      "text/plain": [
       "<Figure size 1440x1440 with 0 Axes>"
      ]
     },
     "metadata": {},
     "output_type": "display_data"
    },
    {
     "data": {
      "image/png": "[encoded data removed]",
      "text/plain": [
       "<Figure size 432x432 with 3 Axes>"
      ]
     },
     "metadata": {
      "needs_background": "light"
     },
     "output_type": "display_data"
    }
   ],
   "source": [
    "member_y = member_df['Duration (Seconds)']\n",
    "member_x = member_df['Distance']\n",
    "\n",
    "# Regression plot using seaborn.\n",
    "fig = plt.figure(figsize=(20, 20))\n",
    "#sns.regplot(x = member_x,y = member_y, color='blue', marker='+')\n",
    "fig = sns.jointplot(x='Duration (Seconds)', y='Distance', data=member_df, kind='hex')"
   ]
  },
  {
   "cell_type": "markdown",
   "metadata": {},
   "source": [
    "##### Casual User"
   ]
  },
  {
   "cell_type": "code",
   "execution_count": 43,
   "metadata": {},
   "outputs": [
    {
     "data": {
      "text/plain": [
       "<Figure size 1440x1440 with 0 Axes>"
      ]
     },
     "metadata": {},
     "output_type": "display_data"
    },
    {
     "data": {
      "image/png": "[encoded data removed]",
      "text/plain": [
       "<Figure size 432x432 with 3 Axes>"
      ]
     },
     "metadata": {
      "needs_background": "light"
     },
     "output_type": "display_data"
    }
   ],
   "source": [
    "casual_y = casual_df['Duration (Seconds)']\n",
    "casual_x = casual_df['Distance']\n",
    "\n",
    "import seaborn as sns\n",
    "\n",
    "# Regression plot using seaborn.\n",
    "fig = plt.figure(figsize=(20, 20))\n",
    "#sns.regplot(x = member_x,y = member_y, color='blue', marker='+')\n",
    "fig = sns.jointplot(x='Duration (Seconds)', y='Distance', data=casual_df, kind='hex')"
   ]
  },
  {
   "cell_type": "markdown",
   "metadata": {},
   "source": [
    "We have a joint histogram using hexagonal bins. The darker color bin indicates that there is a higher density at the point. The plot indicates a significant difference in duration between the users. Casual users reach their destinations significantly slower than members and the spread of duration is significantly higher than member. However, in terms of distance, the two cateogry of users have a similar behaviour. This suggests that there is a possibility that member is generally faster in biking compare to casual users. We will investigate this phenomenon further when answering the next question: Is there a relationship between the two definitions of trip length?"
   ]
  },
  {
   "cell_type": "markdown",
   "metadata": {},
   "source": [
    "From the above plot, we came to a conclusion that there is a siginificant difference in behaviour between the two categories of users in terms of trip length. Hence we will investigate if there is a relationship between the two definitions of trip length separately for two types of users. "
   ]
  },
  {
   "cell_type": "markdown",
   "metadata": {},
   "source": [
    "We will be constructing linear regression model to determine the relationship between the two definitions of trip length. Firstly, we will examine the relationship for members."
   ]
  },
  {
   "cell_type": "code",
   "execution_count": 57,
   "metadata": {},
   "outputs": [],
   "source": [
    "import numpy as np\n",
    "from sklearn.linear_model import LinearRegression\n",
    "from sklearn import preprocessing\n",
    "def linear_regression(x, y):\n",
    "    '''\n",
    "    Construct a linear regression for x, y and print R square and coefficient\n",
    "    '''\n",
    "    x = preprocessing.scale(np.array(x).reshape(-1, 1))\n",
    "    y = preprocessing.scale(np.array(y).reshape(-1, 1))\n",
    "    model = LinearRegression()\n",
    "    model = LinearRegression().fit(x, y)\n",
    "    r_sq = model.score(x, y)\n",
    "    print('coefficient of determination:', r_sq)\n",
    "    slope = model.coef_\n",
    "    print('slope:', slope[0])"
   ]
  },
  {
   "cell_type": "code",
   "execution_count": 58,
   "metadata": {},
   "outputs": [
    {
     "name": "stdout",
     "output_type": "stream",
     "text": [
      "coefficient of determination: 0.5499366189437283\n",
      "slope: [0.74157712]\n"
     ]
    }
   ],
   "source": [
    "linear_regression(member_x, member_y)"
   ]
  },
  {
   "cell_type": "markdown",
   "metadata": {},
   "source": [
    "We have obtained a coefficient of determination of 0.55 between the two definitions of trip length for member, suggesting that there is a moderate relationship between trip duration and distance traveled. Since we have standardized the data, the slope of 0.744 does not truly reflects to change in distance over change in duration. However; a positive slope indicates that there is a positive relationship between the two definitions of trip length. We will now examine the relationship for casual users. "
   ]
  },
  {
   "cell_type": "code",
   "execution_count": 59,
   "metadata": {},
   "outputs": [
    {
     "name": "stdout",
     "output_type": "stream",
     "text": [
      "coefficient of determination: 0.21705702582748299\n",
      "slope: [0.46589379]\n"
     ]
    }
   ],
   "source": [
    "linear_regression(casual_x, casual_y)"
   ]
  },
  {
   "cell_type": "markdown",
   "metadata": {},
   "source": [
    "We have obtained a coefficient of determination of 0.22 between the two definitions of trip length for casual, suggesting that there is a week relationship between trip duration and distance traveled. A positive slope indicates that there is a positive relationship between the two definitions of trip length. We can come to a conclusion that there is a positive relationship between the two definitions of trip length for member; however, there is no significant relationship between the two definitions of trip length for casual users. "
   ]
  },
  {
   "cell_type": "markdown",
   "metadata": {},
   "source": [
    "### 2. Does weather affect trip length?"
   ]
  },
  {
   "cell_type": "markdown",
   "metadata": {},
   "source": [
    "The next research question I would like to investigate in is if weather affects trip length. We have given the historical weather data of Toronto. Let briefly discuss variables we will be exploring to define \"weather\":\n",
    "- Max Temp °C: The highest temperature in degrees Celsius observed of the day.\n",
    "- Min Temp °C: The lowest temperature in degrees Celsius observed of the day.\n",
    "- Mean Temp °C: The mean temperature in degrees Celsius observed of the day.\n",
    "- Total Rain mm: The total rainfall, or amount of all liquid precipitation in millimetres observed on the day.\n",
    "- Total Snow cm: The total snowfall, or amount of frozen (solid) precipitation in centimetres observed on the day.\n",
    "- Spd of Max Gust km/h: The speed in kilometres per hour (km/h) of the maximum wind gust during the day.\n",
    "\n",
    "Note that I am not including total precipitation since theoretically, there should be a collinear relationship between total rain, total snow, and total precipitation.\n",
    "\n",
    "We will first explore which of these variables have a significant effect on trip length. Note that we will explore this research question for 2 different user type separately, as explained in the previous section. "
   ]
  },
  {
   "cell_type": "markdown",
   "metadata": {},
   "source": [
    "#### Weather vs Trip duration"
   ]
  },
  {
   "cell_type": "markdown",
   "metadata": {},
   "source": [
    "I aggregated the data by the user type and trip date and obtain the average trip duration of the day."
   ]
  },
  {
   "cell_type": "code",
   "execution_count": 84,
   "metadata": {},
   "outputs": [],
   "source": [
    "data_duration = joined_df.groupby(['Date', 'User Type'])['Duration (Seconds)'].mean()\\\n",
    ".to_frame().pivot_table(index='Date', columns='User Type').reset_index()\n",
    "data_duration.columns = ['Date', 'Casual Duration', 'Member Duration']\n",
    "data_duration = data_duration.merge(new_weather_df[['Date', 'Max Temp °C', 'Min Temp °C', 'Mean Temp °C', \n",
    "                                                    'Total Rain mm', 'Total Snow cm', 'Total Precip mm',\n",
    "                                                    'Spd of Max Gust km/h']], on='Date', how='inner')"
   ]
  },
  {
   "cell_type": "markdown",
   "metadata": {},
   "source": [
    "First we will determine which weather variables affects trip duration. We will contruct the correlation matrix to select the important weather variables."
   ]
  },
  {
   "cell_type": "code",
   "execution_count": 49,
   "metadata": {},
   "outputs": [],
   "source": [
    "features = ['Max Temp °C', 'Min Temp °C', 'Mean Temp °C', 'Total Precip mm', \n",
    "            'Total Rain mm', 'Total Snow cm','Spd of Max Gust km/h']\n",
    "data_duration[features] = data_duration[features].astype(int)\n",
    "data_duration['Member Duration'] = data_duration['Member Duration'].astype(int)"
   ]
  },
  {
   "cell_type": "code",
   "execution_count": 93,
   "metadata": {},
   "outputs": [
    {
     "data": {
      "text/html": [
       "<style  type=\"text/css\" >\n",
       "    #T_f3045fae_488e_11ea_a436_f45c89c69e8brow0_col0 {\n",
       "            background-color:  #b40426;\n",
       "            color:  #f1f1f1;\n",
       "        }    #T_f3045fae_488e_11ea_a436_f45c89c69e8brow0_col1 {\n",
       "            background-color:  #dcdddd;\n",
       "            color:  #000000;\n",
       "        }    #T_f3045fae_488e_11ea_a436_f45c89c69e8brow0_col2 {\n",
       "            background-color:  #dbdcde;\n",
       "            color:  #000000;\n",
       "        }    #T_f3045fae_488e_11ea_a436_f45c89c69e8brow0_col3 {\n",
       "            background-color:  #d1dae9;\n",
       "            color:  #000000;\n",
       "        }    #T_f3045fae_488e_11ea_a436_f45c89c69e8brow0_col4 {\n",
       "            background-color:  #d7dce3;\n",
       "            color:  #000000;\n",
       "        }    #T_f3045fae_488e_11ea_a436_f45c89c69e8brow0_col5 {\n",
       "            background-color:  #3b4cc0;\n",
       "            color:  #f1f1f1;\n",
       "        }    #T_f3045fae_488e_11ea_a436_f45c89c69e8brow0_col6 {\n",
       "            background-color:  #6687ed;\n",
       "            color:  #000000;\n",
       "        }    #T_f3045fae_488e_11ea_a436_f45c89c69e8brow0_col7 {\n",
       "            background-color:  #3b4cc0;\n",
       "            color:  #f1f1f1;\n",
       "        }    #T_f3045fae_488e_11ea_a436_f45c89c69e8brow0_col8 {\n",
       "            background-color:  #4257c9;\n",
       "            color:  #f1f1f1;\n",
       "        }    #T_f3045fae_488e_11ea_a436_f45c89c69e8brow1_col0 {\n",
       "            background-color:  #e4d9d2;\n",
       "            color:  #000000;\n",
       "        }    #T_f3045fae_488e_11ea_a436_f45c89c69e8brow1_col1 {\n",
       "            background-color:  #b40426;\n",
       "            color:  #f1f1f1;\n",
       "        }    #T_f3045fae_488e_11ea_a436_f45c89c69e8brow1_col2 {\n",
       "            background-color:  #f7ba9f;\n",
       "            color:  #000000;\n",
       "        }    #T_f3045fae_488e_11ea_a436_f45c89c69e8brow1_col3 {\n",
       "            background-color:  #f4c6af;\n",
       "            color:  #000000;\n",
       "        }    #T_f3045fae_488e_11ea_a436_f45c89c69e8brow1_col4 {\n",
       "            background-color:  #f6bea4;\n",
       "            color:  #000000;\n",
       "        }    #T_f3045fae_488e_11ea_a436_f45c89c69e8brow1_col5 {\n",
       "            background-color:  #4a63d3;\n",
       "            color:  #f1f1f1;\n",
       "        }    #T_f3045fae_488e_11ea_a436_f45c89c69e8brow1_col6 {\n",
       "            background-color:  #81a4fb;\n",
       "            color:  #000000;\n",
       "        }    #T_f3045fae_488e_11ea_a436_f45c89c69e8brow1_col7 {\n",
       "            background-color:  #506bda;\n",
       "            color:  #000000;\n",
       "        }    #T_f3045fae_488e_11ea_a436_f45c89c69e8brow1_col8 {\n",
       "            background-color:  #4c66d6;\n",
       "            color:  #000000;\n",
       "        }    #T_f3045fae_488e_11ea_a436_f45c89c69e8brow2_col0 {\n",
       "            background-color:  #d9dce1;\n",
       "            color:  #000000;\n",
       "        }    #T_f3045fae_488e_11ea_a436_f45c89c69e8brow2_col1 {\n",
       "            background-color:  #f5c1a9;\n",
       "            color:  #000000;\n",
       "        }    #T_f3045fae_488e_11ea_a436_f45c89c69e8brow2_col2 {\n",
       "            background-color:  #b40426;\n",
       "            color:  #f1f1f1;\n",
       "        }    #T_f3045fae_488e_11ea_a436_f45c89c69e8brow2_col3 {\n",
       "            background-color:  #c12b30;\n",
       "            color:  #f1f1f1;\n",
       "        }    #T_f3045fae_488e_11ea_a436_f45c89c69e8brow2_col4 {\n",
       "            background-color:  #b50927;\n",
       "            color:  #f1f1f1;\n",
       "        }    #T_f3045fae_488e_11ea_a436_f45c89c69e8brow2_col5 {\n",
       "            background-color:  #779af7;\n",
       "            color:  #000000;\n",
       "        }    #T_f3045fae_488e_11ea_a436_f45c89c69e8brow2_col6 {\n",
       "            background-color:  #3b4cc0;\n",
       "            color:  #f1f1f1;\n",
       "        }    #T_f3045fae_488e_11ea_a436_f45c89c69e8brow2_col7 {\n",
       "            background-color:  #6c8ff1;\n",
       "            color:  #000000;\n",
       "        }    #T_f3045fae_488e_11ea_a436_f45c89c69e8brow2_col8 {\n",
       "            background-color:  #445acc;\n",
       "            color:  #f1f1f1;\n",
       "        }    #T_f3045fae_488e_11ea_a436_f45c89c69e8brow3_col0 {\n",
       "            background-color:  #cfdaea;\n",
       "            color:  #000000;\n",
       "        }    #T_f3045fae_488e_11ea_a436_f45c89c69e8brow3_col1 {\n",
       "            background-color:  #f1cdba;\n",
       "            color:  #000000;\n",
       "        }    #T_f3045fae_488e_11ea_a436_f45c89c69e8brow3_col2 {\n",
       "            background-color:  #c12b30;\n",
       "            color:  #f1f1f1;\n",
       "        }    #T_f3045fae_488e_11ea_a436_f45c89c69e8brow3_col3 {\n",
       "            background-color:  #b40426;\n",
       "            color:  #f1f1f1;\n",
       "        }    #T_f3045fae_488e_11ea_a436_f45c89c69e8brow3_col4 {\n",
       "            background-color:  #b70d28;\n",
       "            color:  #f1f1f1;\n",
       "        }    #T_f3045fae_488e_11ea_a436_f45c89c69e8brow3_col5 {\n",
       "            background-color:  #85a8fc;\n",
       "            color:  #000000;\n",
       "        }    #T_f3045fae_488e_11ea_a436_f45c89c69e8brow3_col6 {\n",
       "            background-color:  #3d50c3;\n",
       "            color:  #f1f1f1;\n",
       "        }    #T_f3045fae_488e_11ea_a436_f45c89c69e8brow3_col7 {\n",
       "            background-color:  #7a9df8;\n",
       "            color:  #000000;\n",
       "        }    #T_f3045fae_488e_11ea_a436_f45c89c69e8brow3_col8 {\n",
       "            background-color:  #3b4cc0;\n",
       "            color:  #f1f1f1;\n",
       "        }    #T_f3045fae_488e_11ea_a436_f45c89c69e8brow4_col0 {\n",
       "            background-color:  #d6dce4;\n",
       "            color:  #000000;\n",
       "        }    #T_f3045fae_488e_11ea_a436_f45c89c69e8brow4_col1 {\n",
       "            background-color:  #f4c5ad;\n",
       "            color:  #000000;\n",
       "        }    #T_f3045fae_488e_11ea_a436_f45c89c69e8brow4_col2 {\n",
       "            background-color:  #b50927;\n",
       "            color:  #f1f1f1;\n",
       "        }    #T_f3045fae_488e_11ea_a436_f45c89c69e8brow4_col3 {\n",
       "            background-color:  #b70d28;\n",
       "            color:  #f1f1f1;\n",
       "        }    #T_f3045fae_488e_11ea_a436_f45c89c69e8brow4_col4 {\n",
       "            background-color:  #b40426;\n",
       "            color:  #f1f1f1;\n",
       "        }    #T_f3045fae_488e_11ea_a436_f45c89c69e8brow4_col5 {\n",
       "            background-color:  #7ea1fa;\n",
       "            color:  #000000;\n",
       "        }    #T_f3045fae_488e_11ea_a436_f45c89c69e8brow4_col6 {\n",
       "            background-color:  #3b4cc0;\n",
       "            color:  #f1f1f1;\n",
       "        }    #T_f3045fae_488e_11ea_a436_f45c89c69e8brow4_col7 {\n",
       "            background-color:  #7396f5;\n",
       "            color:  #000000;\n",
       "        }    #T_f3045fae_488e_11ea_a436_f45c89c69e8brow4_col8 {\n",
       "            background-color:  #3e51c5;\n",
       "            color:  #f1f1f1;\n",
       "        }    #T_f3045fae_488e_11ea_a436_f45c89c69e8brow5_col0 {\n",
       "            background-color:  #3b4cc0;\n",
       "            color:  #f1f1f1;\n",
       "        }    #T_f3045fae_488e_11ea_a436_f45c89c69e8brow5_col1 {\n",
       "            background-color:  #3b4cc0;\n",
       "            color:  #f1f1f1;\n",
       "        }    #T_f3045fae_488e_11ea_a436_f45c89c69e8brow5_col2 {\n",
       "            background-color:  #7da0f9;\n",
       "            color:  #000000;\n",
       "        }    #T_f3045fae_488e_11ea_a436_f45c89c69e8brow5_col3 {\n",
       "            background-color:  #88abfd;\n",
       "            color:  #000000;\n",
       "        }    #T_f3045fae_488e_11ea_a436_f45c89c69e8brow5_col4 {\n",
       "            background-color:  #81a4fb;\n",
       "            color:  #000000;\n",
       "        }    #T_f3045fae_488e_11ea_a436_f45c89c69e8brow5_col5 {\n",
       "            background-color:  #b40426;\n",
       "            color:  #f1f1f1;\n",
       "        }    #T_f3045fae_488e_11ea_a436_f45c89c69e8brow5_col6 {\n",
       "            background-color:  #688aef;\n",
       "            color:  #000000;\n",
       "        }    #T_f3045fae_488e_11ea_a436_f45c89c69e8brow5_col7 {\n",
       "            background-color:  #ba162b;\n",
       "            color:  #f1f1f1;\n",
       "        }    #T_f3045fae_488e_11ea_a436_f45c89c69e8brow5_col8 {\n",
       "            background-color:  #a2c1ff;\n",
       "            color:  #000000;\n",
       "        }    #T_f3045fae_488e_11ea_a436_f45c89c69e8brow6_col0 {\n",
       "            background-color:  #6282ea;\n",
       "            color:  #000000;\n",
       "        }    #T_f3045fae_488e_11ea_a436_f45c89c69e8brow6_col1 {\n",
       "            background-color:  #6c8ff1;\n",
       "            color:  #000000;\n",
       "        }    #T_f3045fae_488e_11ea_a436_f45c89c69e8brow6_col2 {\n",
       "            background-color:  #3b4cc0;\n",
       "            color:  #f1f1f1;\n",
       "        }    #T_f3045fae_488e_11ea_a436_f45c89c69e8brow6_col3 {\n",
       "            background-color:  #3b4cc0;\n",
       "            color:  #f1f1f1;\n",
       "        }    #T_f3045fae_488e_11ea_a436_f45c89c69e8brow6_col4 {\n",
       "            background-color:  #3b4cc0;\n",
       "            color:  #f1f1f1;\n",
       "        }    #T_f3045fae_488e_11ea_a436_f45c89c69e8brow6_col5 {\n",
       "            background-color:  #6485ec;\n",
       "            color:  #000000;\n",
       "        }    #T_f3045fae_488e_11ea_a436_f45c89c69e8brow6_col6 {\n",
       "            background-color:  #b40426;\n",
       "            color:  #f1f1f1;\n",
       "        }    #T_f3045fae_488e_11ea_a436_f45c89c69e8brow6_col7 {\n",
       "            background-color:  #a1c0ff;\n",
       "            color:  #000000;\n",
       "        }    #T_f3045fae_488e_11ea_a436_f45c89c69e8brow6_col8 {\n",
       "            background-color:  #96b7ff;\n",
       "            color:  #000000;\n",
       "        }    #T_f3045fae_488e_11ea_a436_f45c89c69e8brow7_col0 {\n",
       "            background-color:  #3b4cc0;\n",
       "            color:  #f1f1f1;\n",
       "        }    #T_f3045fae_488e_11ea_a436_f45c89c69e8brow7_col1 {\n",
       "            background-color:  #3e51c5;\n",
       "            color:  #f1f1f1;\n",
       "        }    #T_f3045fae_488e_11ea_a436_f45c89c69e8brow7_col2 {\n",
       "            background-color:  #7093f3;\n",
       "            color:  #000000;\n",
       "        }    #T_f3045fae_488e_11ea_a436_f45c89c69e8brow7_col3 {\n",
       "            background-color:  #7b9ff9;\n",
       "            color:  #000000;\n",
       "        }    #T_f3045fae_488e_11ea_a436_f45c89c69e8brow7_col4 {\n",
       "            background-color:  #7699f6;\n",
       "            color:  #000000;\n",
       "        }    #T_f3045fae_488e_11ea_a436_f45c89c69e8brow7_col5 {\n",
       "            background-color:  #ba162b;\n",
       "            color:  #f1f1f1;\n",
       "        }    #T_f3045fae_488e_11ea_a436_f45c89c69e8brow7_col6 {\n",
       "            background-color:  #a3c2fe;\n",
       "            color:  #000000;\n",
       "        }    #T_f3045fae_488e_11ea_a436_f45c89c69e8brow7_col7 {\n",
       "            background-color:  #b40426;\n",
       "            color:  #f1f1f1;\n",
       "        }    #T_f3045fae_488e_11ea_a436_f45c89c69e8brow7_col8 {\n",
       "            background-color:  #a9c6fd;\n",
       "            color:  #000000;\n",
       "        }    #T_f3045fae_488e_11ea_a436_f45c89c69e8brow8_col0 {\n",
       "            background-color:  #4055c8;\n",
       "            color:  #f1f1f1;\n",
       "        }    #T_f3045fae_488e_11ea_a436_f45c89c69e8brow8_col1 {\n",
       "            background-color:  #3b4cc0;\n",
       "            color:  #f1f1f1;\n",
       "        }    #T_f3045fae_488e_11ea_a436_f45c89c69e8brow8_col2 {\n",
       "            background-color:  #465ecf;\n",
       "            color:  #f1f1f1;\n",
       "        }    #T_f3045fae_488e_11ea_a436_f45c89c69e8brow8_col3 {\n",
       "            background-color:  #3b4cc0;\n",
       "            color:  #f1f1f1;\n",
       "        }    #T_f3045fae_488e_11ea_a436_f45c89c69e8brow8_col4 {\n",
       "            background-color:  #3f53c6;\n",
       "            color:  #f1f1f1;\n",
       "        }    #T_f3045fae_488e_11ea_a436_f45c89c69e8brow8_col5 {\n",
       "            background-color:  #9fbfff;\n",
       "            color:  #000000;\n",
       "        }    #T_f3045fae_488e_11ea_a436_f45c89c69e8brow8_col6 {\n",
       "            background-color:  #97b8ff;\n",
       "            color:  #000000;\n",
       "        }    #T_f3045fae_488e_11ea_a436_f45c89c69e8brow8_col7 {\n",
       "            background-color:  #a9c6fd;\n",
       "            color:  #000000;\n",
       "        }    #T_f3045fae_488e_11ea_a436_f45c89c69e8brow8_col8 {\n",
       "            background-color:  #b40426;\n",
       "            color:  #f1f1f1;\n",
       "        }</style><table id=\"T_f3045fae_488e_11ea_a436_f45c89c69e8b\" ><thead>    <tr>        <th class=\"blank level0\" ></th>        <th class=\"col_heading level0 col0\" >Casual Duration</th>        <th class=\"col_heading level0 col1\" >Member Duration</th>        <th class=\"col_heading level0 col2\" >Max Temp °C</th>        <th class=\"col_heading level0 col3\" >Min Temp °C</th>        <th class=\"col_heading level0 col4\" >Mean Temp °C</th>        <th class=\"col_heading level0 col5\" >Total Rain mm</th>        <th class=\"col_heading level0 col6\" >Total Snow cm</th>        <th class=\"col_heading level0 col7\" >Total Precip mm</th>        <th class=\"col_heading level0 col8\" >Spd of Max Gust km/h</th>    </tr></thead><tbody>\n",
       "                <tr>\n",
       "                        <th id=\"T_f3045fae_488e_11ea_a436_f45c89c69e8blevel0_row0\" class=\"row_heading level0 row0\" >Casual Duration</th>\n",
       "                        <td id=\"T_f3045fae_488e_11ea_a436_f45c89c69e8brow0_col0\" class=\"data row0 col0\" >1</td>\n",
       "                        <td id=\"T_f3045fae_488e_11ea_a436_f45c89c69e8brow0_col1\" class=\"data row0 col1\" >0.45</td>\n",
       "                        <td id=\"T_f3045fae_488e_11ea_a436_f45c89c69e8brow0_col2\" class=\"data row0 col2\" >0.4</td>\n",
       "                        <td id=\"T_f3045fae_488e_11ea_a436_f45c89c69e8brow0_col3\" class=\"data row0 col3\" >0.36</td>\n",
       "                        <td id=\"T_f3045fae_488e_11ea_a436_f45c89c69e8brow0_col4\" class=\"data row0 col4\" >0.38</td>\n",
       "                        <td id=\"T_f3045fae_488e_11ea_a436_f45c89c69e8brow0_col5\" class=\"data row0 col5\" >-0.16</td>\n",
       "                        <td id=\"T_f3045fae_488e_11ea_a436_f45c89c69e8brow0_col6\" class=\"data row0 col6\" >-0.021</td>\n",
       "                        <td id=\"T_f3045fae_488e_11ea_a436_f45c89c69e8brow0_col7\" class=\"data row0 col7\" >-0.17</td>\n",
       "                        <td id=\"T_f3045fae_488e_11ea_a436_f45c89c69e8brow0_col8\" class=\"data row0 col8\" >-0.15</td>\n",
       "            </tr>\n",
       "            <tr>\n",
       "                        <th id=\"T_f3045fae_488e_11ea_a436_f45c89c69e8blevel0_row1\" class=\"row_heading level0 row1\" >Member Duration</th>\n",
       "                        <td id=\"T_f3045fae_488e_11ea_a436_f45c89c69e8brow1_col0\" class=\"data row1 col0\" >0.45</td>\n",
       "                        <td id=\"T_f3045fae_488e_11ea_a436_f45c89c69e8brow1_col1\" class=\"data row1 col1\" >1</td>\n",
       "                        <td id=\"T_f3045fae_488e_11ea_a436_f45c89c69e8brow1_col2\" class=\"data row1 col2\" >0.6</td>\n",
       "                        <td id=\"T_f3045fae_488e_11ea_a436_f45c89c69e8brow1_col3\" class=\"data row1 col3\" >0.55</td>\n",
       "                        <td id=\"T_f3045fae_488e_11ea_a436_f45c89c69e8brow1_col4\" class=\"data row1 col4\" >0.58</td>\n",
       "                        <td id=\"T_f3045fae_488e_11ea_a436_f45c89c69e8brow1_col5\" class=\"data row1 col5\" >-0.1</td>\n",
       "                        <td id=\"T_f3045fae_488e_11ea_a436_f45c89c69e8brow1_col6\" class=\"data row1 col6\" >0.074</td>\n",
       "                        <td id=\"T_f3045fae_488e_11ea_a436_f45c89c69e8brow1_col7\" class=\"data row1 col7\" >-0.086</td>\n",
       "                        <td id=\"T_f3045fae_488e_11ea_a436_f45c89c69e8brow1_col8\" class=\"data row1 col8\" >-0.1</td>\n",
       "            </tr>\n",
       "            <tr>\n",
       "                        <th id=\"T_f3045fae_488e_11ea_a436_f45c89c69e8blevel0_row2\" class=\"row_heading level0 row2\" >Max Temp °C</th>\n",
       "                        <td id=\"T_f3045fae_488e_11ea_a436_f45c89c69e8brow2_col0\" class=\"data row2 col0\" >0.4</td>\n",
       "                        <td id=\"T_f3045fae_488e_11ea_a436_f45c89c69e8brow2_col1\" class=\"data row2 col1\" >0.6</td>\n",
       "                        <td id=\"T_f3045fae_488e_11ea_a436_f45c89c69e8brow2_col2\" class=\"data row2 col2\" >1</td>\n",
       "                        <td id=\"T_f3045fae_488e_11ea_a436_f45c89c69e8brow2_col3\" class=\"data row2 col3\" >0.96</td>\n",
       "                        <td id=\"T_f3045fae_488e_11ea_a436_f45c89c69e8brow2_col4\" class=\"data row2 col4\" >0.99</td>\n",
       "                        <td id=\"T_f3045fae_488e_11ea_a436_f45c89c69e8brow2_col5\" class=\"data row2 col5\" >0.058</td>\n",
       "                        <td id=\"T_f3045fae_488e_11ea_a436_f45c89c69e8brow2_col6\" class=\"data row2 col6\" >-0.18</td>\n",
       "                        <td id=\"T_f3045fae_488e_11ea_a436_f45c89c69e8brow2_col7\" class=\"data row2 col7\" >0.017</td>\n",
       "                        <td id=\"T_f3045fae_488e_11ea_a436_f45c89c69e8brow2_col8\" class=\"data row2 col8\" >-0.14</td>\n",
       "            </tr>\n",
       "            <tr>\n",
       "                        <th id=\"T_f3045fae_488e_11ea_a436_f45c89c69e8blevel0_row3\" class=\"row_heading level0 row3\" >Min Temp °C</th>\n",
       "                        <td id=\"T_f3045fae_488e_11ea_a436_f45c89c69e8brow3_col0\" class=\"data row3 col0\" >0.36</td>\n",
       "                        <td id=\"T_f3045fae_488e_11ea_a436_f45c89c69e8brow3_col1\" class=\"data row3 col1\" >0.55</td>\n",
       "                        <td id=\"T_f3045fae_488e_11ea_a436_f45c89c69e8brow3_col2\" class=\"data row3 col2\" >0.96</td>\n",
       "                        <td id=\"T_f3045fae_488e_11ea_a436_f45c89c69e8brow3_col3\" class=\"data row3 col3\" >1</td>\n",
       "                        <td id=\"T_f3045fae_488e_11ea_a436_f45c89c69e8brow3_col4\" class=\"data row3 col4\" >0.99</td>\n",
       "                        <td id=\"T_f3045fae_488e_11ea_a436_f45c89c69e8brow3_col5\" class=\"data row3 col5\" >0.1</td>\n",
       "                        <td id=\"T_f3045fae_488e_11ea_a436_f45c89c69e8brow3_col6\" class=\"data row3 col6\" >-0.17</td>\n",
       "                        <td id=\"T_f3045fae_488e_11ea_a436_f45c89c69e8brow3_col7\" class=\"data row3 col7\" >0.064</td>\n",
       "                        <td id=\"T_f3045fae_488e_11ea_a436_f45c89c69e8brow3_col8\" class=\"data row3 col8\" >-0.17</td>\n",
       "            </tr>\n",
       "            <tr>\n",
       "                        <th id=\"T_f3045fae_488e_11ea_a436_f45c89c69e8blevel0_row4\" class=\"row_heading level0 row4\" >Mean Temp °C</th>\n",
       "                        <td id=\"T_f3045fae_488e_11ea_a436_f45c89c69e8brow4_col0\" class=\"data row4 col0\" >0.38</td>\n",
       "                        <td id=\"T_f3045fae_488e_11ea_a436_f45c89c69e8brow4_col1\" class=\"data row4 col1\" >0.58</td>\n",
       "                        <td id=\"T_f3045fae_488e_11ea_a436_f45c89c69e8brow4_col2\" class=\"data row4 col2\" >0.99</td>\n",
       "                        <td id=\"T_f3045fae_488e_11ea_a436_f45c89c69e8brow4_col3\" class=\"data row4 col3\" >0.99</td>\n",
       "                        <td id=\"T_f3045fae_488e_11ea_a436_f45c89c69e8brow4_col4\" class=\"data row4 col4\" >1</td>\n",
       "                        <td id=\"T_f3045fae_488e_11ea_a436_f45c89c69e8brow4_col5\" class=\"data row4 col5\" >0.078</td>\n",
       "                        <td id=\"T_f3045fae_488e_11ea_a436_f45c89c69e8brow4_col6\" class=\"data row4 col6\" >-0.18</td>\n",
       "                        <td id=\"T_f3045fae_488e_11ea_a436_f45c89c69e8brow4_col7\" class=\"data row4 col7\" >0.038</td>\n",
       "                        <td id=\"T_f3045fae_488e_11ea_a436_f45c89c69e8brow4_col8\" class=\"data row4 col8\" >-0.16</td>\n",
       "            </tr>\n",
       "            <tr>\n",
       "                        <th id=\"T_f3045fae_488e_11ea_a436_f45c89c69e8blevel0_row5\" class=\"row_heading level0 row5\" >Total Rain mm</th>\n",
       "                        <td id=\"T_f3045fae_488e_11ea_a436_f45c89c69e8brow5_col0\" class=\"data row5 col0\" >-0.16</td>\n",
       "                        <td id=\"T_f3045fae_488e_11ea_a436_f45c89c69e8brow5_col1\" class=\"data row5 col1\" >-0.1</td>\n",
       "                        <td id=\"T_f3045fae_488e_11ea_a436_f45c89c69e8brow5_col2\" class=\"data row5 col2\" >0.058</td>\n",
       "                        <td id=\"T_f3045fae_488e_11ea_a436_f45c89c69e8brow5_col3\" class=\"data row5 col3\" >0.1</td>\n",
       "                        <td id=\"T_f3045fae_488e_11ea_a436_f45c89c69e8brow5_col4\" class=\"data row5 col4\" >0.078</td>\n",
       "                        <td id=\"T_f3045fae_488e_11ea_a436_f45c89c69e8brow5_col5\" class=\"data row5 col5\" >1</td>\n",
       "                        <td id=\"T_f3045fae_488e_11ea_a436_f45c89c69e8brow5_col6\" class=\"data row5 col6\" >-0.0093</td>\n",
       "                        <td id=\"T_f3045fae_488e_11ea_a436_f45c89c69e8brow5_col7\" class=\"data row5 col7\" >0.98</td>\n",
       "                        <td id=\"T_f3045fae_488e_11ea_a436_f45c89c69e8brow5_col8\" class=\"data row5 col8\" >0.19</td>\n",
       "            </tr>\n",
       "            <tr>\n",
       "                        <th id=\"T_f3045fae_488e_11ea_a436_f45c89c69e8blevel0_row6\" class=\"row_heading level0 row6\" >Total Snow cm</th>\n",
       "                        <td id=\"T_f3045fae_488e_11ea_a436_f45c89c69e8brow6_col0\" class=\"data row6 col0\" >-0.021</td>\n",
       "                        <td id=\"T_f3045fae_488e_11ea_a436_f45c89c69e8brow6_col1\" class=\"data row6 col1\" >0.074</td>\n",
       "                        <td id=\"T_f3045fae_488e_11ea_a436_f45c89c69e8brow6_col2\" class=\"data row6 col2\" >-0.18</td>\n",
       "                        <td id=\"T_f3045fae_488e_11ea_a436_f45c89c69e8brow6_col3\" class=\"data row6 col3\" >-0.17</td>\n",
       "                        <td id=\"T_f3045fae_488e_11ea_a436_f45c89c69e8brow6_col4\" class=\"data row6 col4\" >-0.18</td>\n",
       "                        <td id=\"T_f3045fae_488e_11ea_a436_f45c89c69e8brow6_col5\" class=\"data row6 col5\" >-0.0093</td>\n",
       "                        <td id=\"T_f3045fae_488e_11ea_a436_f45c89c69e8brow6_col6\" class=\"data row6 col6\" >1</td>\n",
       "                        <td id=\"T_f3045fae_488e_11ea_a436_f45c89c69e8brow6_col7\" class=\"data row6 col7\" >0.19</td>\n",
       "                        <td id=\"T_f3045fae_488e_11ea_a436_f45c89c69e8brow6_col8\" class=\"data row6 col8\" >0.15</td>\n",
       "            </tr>\n",
       "            <tr>\n",
       "                        <th id=\"T_f3045fae_488e_11ea_a436_f45c89c69e8blevel0_row7\" class=\"row_heading level0 row7\" >Total Precip mm</th>\n",
       "                        <td id=\"T_f3045fae_488e_11ea_a436_f45c89c69e8brow7_col0\" class=\"data row7 col0\" >-0.17</td>\n",
       "                        <td id=\"T_f3045fae_488e_11ea_a436_f45c89c69e8brow7_col1\" class=\"data row7 col1\" >-0.086</td>\n",
       "                        <td id=\"T_f3045fae_488e_11ea_a436_f45c89c69e8brow7_col2\" class=\"data row7 col2\" >0.017</td>\n",
       "                        <td id=\"T_f3045fae_488e_11ea_a436_f45c89c69e8brow7_col3\" class=\"data row7 col3\" >0.064</td>\n",
       "                        <td id=\"T_f3045fae_488e_11ea_a436_f45c89c69e8brow7_col4\" class=\"data row7 col4\" >0.038</td>\n",
       "                        <td id=\"T_f3045fae_488e_11ea_a436_f45c89c69e8brow7_col5\" class=\"data row7 col5\" >0.98</td>\n",
       "                        <td id=\"T_f3045fae_488e_11ea_a436_f45c89c69e8brow7_col6\" class=\"data row7 col6\" >0.19</td>\n",
       "                        <td id=\"T_f3045fae_488e_11ea_a436_f45c89c69e8brow7_col7\" class=\"data row7 col7\" >1</td>\n",
       "                        <td id=\"T_f3045fae_488e_11ea_a436_f45c89c69e8brow7_col8\" class=\"data row7 col8\" >0.22</td>\n",
       "            </tr>\n",
       "            <tr>\n",
       "                        <th id=\"T_f3045fae_488e_11ea_a436_f45c89c69e8blevel0_row8\" class=\"row_heading level0 row8\" >Spd of Max Gust km/h</th>\n",
       "                        <td id=\"T_f3045fae_488e_11ea_a436_f45c89c69e8brow8_col0\" class=\"data row8 col0\" >-0.15</td>\n",
       "                        <td id=\"T_f3045fae_488e_11ea_a436_f45c89c69e8brow8_col1\" class=\"data row8 col1\" >-0.1</td>\n",
       "                        <td id=\"T_f3045fae_488e_11ea_a436_f45c89c69e8brow8_col2\" class=\"data row8 col2\" >-0.14</td>\n",
       "                        <td id=\"T_f3045fae_488e_11ea_a436_f45c89c69e8brow8_col3\" class=\"data row8 col3\" >-0.17</td>\n",
       "                        <td id=\"T_f3045fae_488e_11ea_a436_f45c89c69e8brow8_col4\" class=\"data row8 col4\" >-0.16</td>\n",
       "                        <td id=\"T_f3045fae_488e_11ea_a436_f45c89c69e8brow8_col5\" class=\"data row8 col5\" >0.19</td>\n",
       "                        <td id=\"T_f3045fae_488e_11ea_a436_f45c89c69e8brow8_col6\" class=\"data row8 col6\" >0.15</td>\n",
       "                        <td id=\"T_f3045fae_488e_11ea_a436_f45c89c69e8brow8_col7\" class=\"data row8 col7\" >0.22</td>\n",
       "                        <td id=\"T_f3045fae_488e_11ea_a436_f45c89c69e8brow8_col8\" class=\"data row8 col8\" >1</td>\n",
       "            </tr>\n",
       "    </tbody></table>"
      ],
      "text/plain": [
       "<pandas.io.formats.style.Styler at 0x17e86f610>"
      ]
     },
     "execution_count": 93,
     "metadata": {},
     "output_type": "execute_result"
    }
   ],
   "source": [
    "data_duration = data_duration.dropna()\n",
    "corr = data_duration.corr()\n",
    "corr.style.background_gradient(cmap='coolwarm').set_precision(2)"
   ]
  },
  {
   "cell_type": "markdown",
   "metadata": {},
   "source": [
    "After reviewing the correlation matrix, I decided to select Max Temp °C and Total Precipitation mm to investigate further on if weather has an effect on trip length. Although Min Temp and Mean Temp has a higher correlation with Member Duration compare to Total Precipitation, the 3 variables are too correlated, hence investigating the question more deeply on all three variables would be meaningless. We will examine the relationship between the two variables chosen and trip duration deeply through scatterplot with x variable showing means and confidence intervals for unique values and the linear regression model. We will first look at members."
   ]
  },
  {
   "cell_type": "code",
   "execution_count": 72,
   "metadata": {},
   "outputs": [
    {
     "data": {
      "text/plain": [
       "[Text(0.5, 1.0, 'Max Temperature vs Trip Duration for Member')]"
      ]
     },
     "execution_count": 72,
     "metadata": {},
     "output_type": "execute_result"
    },
    {
     "data": {
      "image/png": "[encoded data removed]",
      "text/plain": [
       "<Figure size 1008x432 with 2 Axes>"
      ]
     },
     "metadata": {
      "needs_background": "light"
     },
     "output_type": "display_data"
    }
   ],
   "source": [
    "f, axes = plt.subplots(ncols=2, figsize=(14, 6))\n",
    "sns.regplot(x=\"Total Precip mm\", y=\"Member Duration\", data=data_duration, x_estimator=np.mean, ax = axes[0])\n",
    "axes[0].set(title = 'Total Precipitation vs Trip Duration for Member')\n",
    "sns.regplot(x='Max Temp °C', y=\"Member Duration\", data=data_duration, x_estimator=np.mean, ax = axes[1])\n",
    "axes[1].set(title = 'Max Temperature vs Trip Duration for Member')"
   ]
  },
  {
   "cell_type": "code",
   "execution_count": 73,
   "metadata": {},
   "outputs": [
    {
     "name": "stdout",
     "output_type": "stream",
     "text": [
      "coefficient of determination: 0.007464440951776008\n",
      "slope: [-0.086397]\n"
     ]
    }
   ],
   "source": [
    "linear_regression(data_duration[\"Total Precip mm\"], data_duration['Member Duration'])"
   ]
  },
  {
   "cell_type": "code",
   "execution_count": 74,
   "metadata": {},
   "outputs": [
    {
     "name": "stdout",
     "output_type": "stream",
     "text": [
      "coefficient of determination: 0.3569934975475517\n",
      "slope: [0.59748933]\n"
     ]
    }
   ],
   "source": [
    "linear_regression(data_duration['Max Temp °C'], data_duration['Member Duration'])"
   ]
  },
  {
   "cell_type": "markdown",
   "metadata": {},
   "source": [
    "The scatter plots and the results of our model indicates that for member, there is no relationship between precipitation and trip duration (correlation coefficient of less than 0.01). However, there is a moderate and positive relationship between the maximum temperature of the day and trip duration (correlation coefficient is 0.36), indicating that members tend to use the system longer in time as the temperature goes up. "
   ]
  },
  {
   "cell_type": "markdown",
   "metadata": {},
   "source": [
    "Next we will examine the relationship between the two variables chosen and trip duration by casual users. "
   ]
  },
  {
   "cell_type": "code",
   "execution_count": 75,
   "metadata": {},
   "outputs": [
    {
     "data": {
      "text/plain": [
       "[Text(0.5, 1.0, 'Max Temperature vs Trip Duration for Casual Users')]"
      ]
     },
     "execution_count": 75,
     "metadata": {},
     "output_type": "execute_result"
    },
    {
     "data": {
      "image/png": "[encoded data removed]",
      "text/plain": [
       "<Figure size 1008x432 with 2 Axes>"
      ]
     },
     "metadata": {
      "needs_background": "light"
     },
     "output_type": "display_data"
    }
   ],
   "source": [
    "f, axes = plt.subplots(ncols=2, figsize=(14, 6))\n",
    "sns.regplot(x=\"Total Precip mm\", y=\"Casual Duration\", data=data_duration, x_estimator=np.mean, ax = axes[0])\n",
    "axes[0].set(title = 'Total Precipitation vs Trip Duration for Casual User')\n",
    "sns.regplot(x='Max Temp °C', y=\"Casual Duration\", data=data_duration, x_estimator=np.mean, ax = axes[1])\n",
    "axes[1].set(title = 'Max Temperature vs Trip Duration for Casual Users')"
   ]
  },
  {
   "cell_type": "code",
   "execution_count": 76,
   "metadata": {},
   "outputs": [
    {
     "name": "stdout",
     "output_type": "stream",
     "text": [
      "coefficient of determination: 0.028505048144846556\n",
      "slope: [-0.16883438]\n"
     ]
    }
   ],
   "source": [
    "linear_regression(data_duration[\"Total Precip mm\"], data_duration['Casual Duration'])"
   ]
  },
  {
   "cell_type": "code",
   "execution_count": 77,
   "metadata": {},
   "outputs": [
    {
     "name": "stdout",
     "output_type": "stream",
     "text": [
      "coefficient of determination: 0.16067506344844973\n",
      "slope: [0.40084294]\n"
     ]
    }
   ],
   "source": [
    "linear_regression(data_duration['Max Temp °C'], data_duration['Casual Duration'].dropna())"
   ]
  },
  {
   "cell_type": "markdown",
   "metadata": {},
   "source": [
    "The scatter plots and the results of our model indicates that for casual users, there is no relationship between precipitation and trip duration. However, there is a weak relationship betweem maximum temperature and trip duration, as well as a postive relationship, but not as much as members, between the two variables. This suggests that casual users are more willing to use the system more as the temperature goes up.\n",
    "\n",
    "Next we will examine the relationship between the weather and trip distance."
   ]
  },
  {
   "cell_type": "markdown",
   "metadata": {},
   "source": [
    "I will first aggregate the data by the user type and trip date and obtain the average trip distance of the day."
   ]
  },
  {
   "cell_type": "code",
   "execution_count": 91,
   "metadata": {},
   "outputs": [],
   "source": [
    "data_distance = joined_df.groupby(['Date', 'User Type'])['Distance'].mean()\\\n",
    ".to_frame().pivot_table(index='Date', columns='User Type').reset_index()\n",
    "data_distance.columns = ['Date', 'Casual Distance', 'Member Distance']\n",
    "data_distance = data_distance.merge(new_weather_df[['Date', 'Max Temp °C', 'Min Temp °C', 'Mean Temp °C', \n",
    "                                                    'Total Rain mm', 'Total Snow cm', 'Total Precip mm',\n",
    "                                                    'Spd of Max Gust km/h']], on='Date', how='inner')"
   ]
  },
  {
   "cell_type": "markdown",
   "metadata": {},
   "source": [
    "We will determine which weather variables affects trip distance. We will contruct the correlation matrix to select the weather variables we are interested in."
   ]
  },
  {
   "cell_type": "code",
   "execution_count": 92,
   "metadata": {},
   "outputs": [],
   "source": [
    "data_distance[features] = data_distance[features].astype(int)\n",
    "data_distance['Member Distance'] = data_distance['Member Distance'].astype(int)"
   ]
  },
  {
   "cell_type": "code",
   "execution_count": 94,
   "metadata": {},
   "outputs": [
    {
     "data": {
      "text/html": [
       "<style  type=\"text/css\" >\n",
       "    #T_fac61368_488e_11ea_a436_f45c89c69e8brow0_col0 {\n",
       "            background-color:  #b40426;\n",
       "            color:  #f1f1f1;\n",
       "        }    #T_fac61368_488e_11ea_a436_f45c89c69e8brow0_col1 {\n",
       "            background-color:  #a7c5fe;\n",
       "            color:  #000000;\n",
       "        }    #T_fac61368_488e_11ea_a436_f45c89c69e8brow0_col2 {\n",
       "            background-color:  #80a3fa;\n",
       "            color:  #000000;\n",
       "        }    #T_fac61368_488e_11ea_a436_f45c89c69e8brow0_col3 {\n",
       "            background-color:  #7699f6;\n",
       "            color:  #000000;\n",
       "        }    #T_fac61368_488e_11ea_a436_f45c89c69e8brow0_col4 {\n",
       "            background-color:  #7da0f9;\n",
       "            color:  #000000;\n",
       "        }    #T_fac61368_488e_11ea_a436_f45c89c69e8brow0_col5 {\n",
       "            background-color:  #3b4cc0;\n",
       "            color:  #f1f1f1;\n",
       "        }    #T_fac61368_488e_11ea_a436_f45c89c69e8brow0_col6 {\n",
       "            background-color:  #9ebeff;\n",
       "            color:  #000000;\n",
       "        }    #T_fac61368_488e_11ea_a436_f45c89c69e8brow0_col7 {\n",
       "            background-color:  #465ecf;\n",
       "            color:  #f1f1f1;\n",
       "        }    #T_fac61368_488e_11ea_a436_f45c89c69e8brow0_col8 {\n",
       "            background-color:  #6282ea;\n",
       "            color:  #000000;\n",
       "        }    #T_fac61368_488e_11ea_a436_f45c89c69e8brow1_col0 {\n",
       "            background-color:  #7ea1fa;\n",
       "            color:  #000000;\n",
       "        }    #T_fac61368_488e_11ea_a436_f45c89c69e8brow1_col1 {\n",
       "            background-color:  #b40426;\n",
       "            color:  #f1f1f1;\n",
       "        }    #T_fac61368_488e_11ea_a436_f45c89c69e8brow1_col2 {\n",
       "            background-color:  #f7b497;\n",
       "            color:  #000000;\n",
       "        }    #T_fac61368_488e_11ea_a436_f45c89c69e8brow1_col3 {\n",
       "            background-color:  #f7bca1;\n",
       "            color:  #000000;\n",
       "        }    #T_fac61368_488e_11ea_a436_f45c89c69e8brow1_col4 {\n",
       "            background-color:  #f7b79b;\n",
       "            color:  #000000;\n",
       "        }    #T_fac61368_488e_11ea_a436_f45c89c69e8brow1_col5 {\n",
       "            background-color:  #4358cb;\n",
       "            color:  #f1f1f1;\n",
       "        }    #T_fac61368_488e_11ea_a436_f45c89c69e8brow1_col6 {\n",
       "            background-color:  #3b4cc0;\n",
       "            color:  #f1f1f1;\n",
       "        }    #T_fac61368_488e_11ea_a436_f45c89c69e8brow1_col7 {\n",
       "            background-color:  #3b4cc0;\n",
       "            color:  #f1f1f1;\n",
       "        }    #T_fac61368_488e_11ea_a436_f45c89c69e8brow1_col8 {\n",
       "            background-color:  #3b4cc0;\n",
       "            color:  #f1f1f1;\n",
       "        }    #T_fac61368_488e_11ea_a436_f45c89c69e8brow2_col0 {\n",
       "            background-color:  #6687ed;\n",
       "            color:  #000000;\n",
       "        }    #T_fac61368_488e_11ea_a436_f45c89c69e8brow2_col1 {\n",
       "            background-color:  #f7ad90;\n",
       "            color:  #000000;\n",
       "        }    #T_fac61368_488e_11ea_a436_f45c89c69e8brow2_col2 {\n",
       "            background-color:  #b40426;\n",
       "            color:  #f1f1f1;\n",
       "        }    #T_fac61368_488e_11ea_a436_f45c89c69e8brow2_col3 {\n",
       "            background-color:  #c12b30;\n",
       "            color:  #f1f1f1;\n",
       "        }    #T_fac61368_488e_11ea_a436_f45c89c69e8brow2_col4 {\n",
       "            background-color:  #b50927;\n",
       "            color:  #f1f1f1;\n",
       "        }    #T_fac61368_488e_11ea_a436_f45c89c69e8brow2_col5 {\n",
       "            background-color:  #6384eb;\n",
       "            color:  #000000;\n",
       "        }    #T_fac61368_488e_11ea_a436_f45c89c69e8brow2_col6 {\n",
       "            background-color:  #4e68d8;\n",
       "            color:  #000000;\n",
       "        }    #T_fac61368_488e_11ea_a436_f45c89c69e8brow2_col7 {\n",
       "            background-color:  #5b7ae5;\n",
       "            color:  #000000;\n",
       "        }    #T_fac61368_488e_11ea_a436_f45c89c69e8brow2_col8 {\n",
       "            background-color:  #465ecf;\n",
       "            color:  #f1f1f1;\n",
       "        }    #T_fac61368_488e_11ea_a436_f45c89c69e8brow3_col0 {\n",
       "            background-color:  #5f7fe8;\n",
       "            color:  #000000;\n",
       "        }    #T_fac61368_488e_11ea_a436_f45c89c69e8brow3_col1 {\n",
       "            background-color:  #f7b396;\n",
       "            color:  #000000;\n",
       "        }    #T_fac61368_488e_11ea_a436_f45c89c69e8brow3_col2 {\n",
       "            background-color:  #c12b30;\n",
       "            color:  #f1f1f1;\n",
       "        }    #T_fac61368_488e_11ea_a436_f45c89c69e8brow3_col3 {\n",
       "            background-color:  #b40426;\n",
       "            color:  #f1f1f1;\n",
       "        }    #T_fac61368_488e_11ea_a436_f45c89c69e8brow3_col4 {\n",
       "            background-color:  #b70d28;\n",
       "            color:  #f1f1f1;\n",
       "        }    #T_fac61368_488e_11ea_a436_f45c89c69e8brow3_col5 {\n",
       "            background-color:  #7093f3;\n",
       "            color:  #000000;\n",
       "        }    #T_fac61368_488e_11ea_a436_f45c89c69e8brow3_col6 {\n",
       "            background-color:  #516ddb;\n",
       "            color:  #000000;\n",
       "        }    #T_fac61368_488e_11ea_a436_f45c89c69e8brow3_col7 {\n",
       "            background-color:  #6a8bef;\n",
       "            color:  #000000;\n",
       "        }    #T_fac61368_488e_11ea_a436_f45c89c69e8brow3_col8 {\n",
       "            background-color:  #3d50c3;\n",
       "            color:  #f1f1f1;\n",
       "        }    #T_fac61368_488e_11ea_a436_f45c89c69e8brow4_col0 {\n",
       "            background-color:  #6384eb;\n",
       "            color:  #000000;\n",
       "        }    #T_fac61368_488e_11ea_a436_f45c89c69e8brow4_col1 {\n",
       "            background-color:  #f7af91;\n",
       "            color:  #000000;\n",
       "        }    #T_fac61368_488e_11ea_a436_f45c89c69e8brow4_col2 {\n",
       "            background-color:  #b50927;\n",
       "            color:  #f1f1f1;\n",
       "        }    #T_fac61368_488e_11ea_a436_f45c89c69e8brow4_col3 {\n",
       "            background-color:  #b70d28;\n",
       "            color:  #f1f1f1;\n",
       "        }    #T_fac61368_488e_11ea_a436_f45c89c69e8brow4_col4 {\n",
       "            background-color:  #b40426;\n",
       "            color:  #f1f1f1;\n",
       "        }    #T_fac61368_488e_11ea_a436_f45c89c69e8brow4_col5 {\n",
       "            background-color:  #688aef;\n",
       "            color:  #000000;\n",
       "        }    #T_fac61368_488e_11ea_a436_f45c89c69e8brow4_col6 {\n",
       "            background-color:  #4f69d9;\n",
       "            color:  #000000;\n",
       "        }    #T_fac61368_488e_11ea_a436_f45c89c69e8brow4_col7 {\n",
       "            background-color:  #6282ea;\n",
       "            color:  #000000;\n",
       "        }    #T_fac61368_488e_11ea_a436_f45c89c69e8brow4_col8 {\n",
       "            background-color:  #4055c8;\n",
       "            color:  #f1f1f1;\n",
       "        }    #T_fac61368_488e_11ea_a436_f45c89c69e8brow5_col0 {\n",
       "            background-color:  #3b4cc0;\n",
       "            color:  #f1f1f1;\n",
       "        }    #T_fac61368_488e_11ea_a436_f45c89c69e8brow5_col1 {\n",
       "            background-color:  #7093f3;\n",
       "            color:  #000000;\n",
       "        }    #T_fac61368_488e_11ea_a436_f45c89c69e8brow5_col2 {\n",
       "            background-color:  #7da0f9;\n",
       "            color:  #000000;\n",
       "        }    #T_fac61368_488e_11ea_a436_f45c89c69e8brow5_col3 {\n",
       "            background-color:  #88abfd;\n",
       "            color:  #000000;\n",
       "        }    #T_fac61368_488e_11ea_a436_f45c89c69e8brow5_col4 {\n",
       "            background-color:  #81a4fb;\n",
       "            color:  #000000;\n",
       "        }    #T_fac61368_488e_11ea_a436_f45c89c69e8brow5_col5 {\n",
       "            background-color:  #b40426;\n",
       "            color:  #f1f1f1;\n",
       "        }    #T_fac61368_488e_11ea_a436_f45c89c69e8brow5_col6 {\n",
       "            background-color:  #7da0f9;\n",
       "            color:  #000000;\n",
       "        }    #T_fac61368_488e_11ea_a436_f45c89c69e8brow5_col7 {\n",
       "            background-color:  #ba162b;\n",
       "            color:  #f1f1f1;\n",
       "        }    #T_fac61368_488e_11ea_a436_f45c89c69e8brow5_col8 {\n",
       "            background-color:  #a3c2fe;\n",
       "            color:  #000000;\n",
       "        }    #T_fac61368_488e_11ea_a436_f45c89c69e8brow6_col0 {\n",
       "            background-color:  #7597f6;\n",
       "            color:  #000000;\n",
       "        }    #T_fac61368_488e_11ea_a436_f45c89c69e8brow6_col1 {\n",
       "            background-color:  #3b4cc0;\n",
       "            color:  #f1f1f1;\n",
       "        }    #T_fac61368_488e_11ea_a436_f45c89c69e8brow6_col2 {\n",
       "            background-color:  #3b4cc0;\n",
       "            color:  #f1f1f1;\n",
       "        }    #T_fac61368_488e_11ea_a436_f45c89c69e8brow6_col3 {\n",
       "            background-color:  #3b4cc0;\n",
       "            color:  #f1f1f1;\n",
       "        }    #T_fac61368_488e_11ea_a436_f45c89c69e8brow6_col4 {\n",
       "            background-color:  #3b4cc0;\n",
       "            color:  #f1f1f1;\n",
       "        }    #T_fac61368_488e_11ea_a436_f45c89c69e8brow6_col5 {\n",
       "            background-color:  #4f69d9;\n",
       "            color:  #000000;\n",
       "        }    #T_fac61368_488e_11ea_a436_f45c89c69e8brow6_col6 {\n",
       "            background-color:  #b40426;\n",
       "            color:  #f1f1f1;\n",
       "        }    #T_fac61368_488e_11ea_a436_f45c89c69e8brow6_col7 {\n",
       "            background-color:  #92b4fe;\n",
       "            color:  #000000;\n",
       "        }    #T_fac61368_488e_11ea_a436_f45c89c69e8brow6_col8 {\n",
       "            background-color:  #97b8ff;\n",
       "            color:  #000000;\n",
       "        }    #T_fac61368_488e_11ea_a436_f45c89c69e8brow7_col0 {\n",
       "            background-color:  #4055c8;\n",
       "            color:  #f1f1f1;\n",
       "        }    #T_fac61368_488e_11ea_a436_f45c89c69e8brow7_col1 {\n",
       "            background-color:  #6384eb;\n",
       "            color:  #000000;\n",
       "        }    #T_fac61368_488e_11ea_a436_f45c89c69e8brow7_col2 {\n",
       "            background-color:  #7093f3;\n",
       "            color:  #000000;\n",
       "        }    #T_fac61368_488e_11ea_a436_f45c89c69e8brow7_col3 {\n",
       "            background-color:  #7b9ff9;\n",
       "            color:  #000000;\n",
       "        }    #T_fac61368_488e_11ea_a436_f45c89c69e8brow7_col4 {\n",
       "            background-color:  #7699f6;\n",
       "            color:  #000000;\n",
       "        }    #T_fac61368_488e_11ea_a436_f45c89c69e8brow7_col5 {\n",
       "            background-color:  #bb1b2c;\n",
       "            color:  #f1f1f1;\n",
       "        }    #T_fac61368_488e_11ea_a436_f45c89c69e8brow7_col6 {\n",
       "            background-color:  #b3cdfb;\n",
       "            color:  #000000;\n",
       "        }    #T_fac61368_488e_11ea_a436_f45c89c69e8brow7_col7 {\n",
       "            background-color:  #b40426;\n",
       "            color:  #f1f1f1;\n",
       "        }    #T_fac61368_488e_11ea_a436_f45c89c69e8brow7_col8 {\n",
       "            background-color:  #abc8fd;\n",
       "            color:  #000000;\n",
       "        }    #T_fac61368_488e_11ea_a436_f45c89c69e8brow8_col0 {\n",
       "            background-color:  #485fd1;\n",
       "            color:  #f1f1f1;\n",
       "        }    #T_fac61368_488e_11ea_a436_f45c89c69e8brow8_col1 {\n",
       "            background-color:  #4e68d8;\n",
       "            color:  #000000;\n",
       "        }    #T_fac61368_488e_11ea_a436_f45c89c69e8brow8_col2 {\n",
       "            background-color:  #465ecf;\n",
       "            color:  #f1f1f1;\n",
       "        }    #T_fac61368_488e_11ea_a436_f45c89c69e8brow8_col3 {\n",
       "            background-color:  #3b4cc0;\n",
       "            color:  #f1f1f1;\n",
       "        }    #T_fac61368_488e_11ea_a436_f45c89c69e8brow8_col4 {\n",
       "            background-color:  #3f53c6;\n",
       "            color:  #f1f1f1;\n",
       "        }    #T_fac61368_488e_11ea_a436_f45c89c69e8brow8_col5 {\n",
       "            background-color:  #8db0fe;\n",
       "            color:  #000000;\n",
       "        }    #T_fac61368_488e_11ea_a436_f45c89c69e8brow8_col6 {\n",
       "            background-color:  #a7c5fe;\n",
       "            color:  #000000;\n",
       "        }    #T_fac61368_488e_11ea_a436_f45c89c69e8brow8_col7 {\n",
       "            background-color:  #9abbff;\n",
       "            color:  #000000;\n",
       "        }    #T_fac61368_488e_11ea_a436_f45c89c69e8brow8_col8 {\n",
       "            background-color:  #b40426;\n",
       "            color:  #f1f1f1;\n",
       "        }</style><table id=\"T_fac61368_488e_11ea_a436_f45c89c69e8b\" ><thead>    <tr>        <th class=\"blank level0\" ></th>        <th class=\"col_heading level0 col0\" >Casual Distance</th>        <th class=\"col_heading level0 col1\" >Member Distance</th>        <th class=\"col_heading level0 col2\" >Max Temp °C</th>        <th class=\"col_heading level0 col3\" >Min Temp °C</th>        <th class=\"col_heading level0 col4\" >Mean Temp °C</th>        <th class=\"col_heading level0 col5\" >Total Rain mm</th>        <th class=\"col_heading level0 col6\" >Total Snow cm</th>        <th class=\"col_heading level0 col7\" >Total Precip mm</th>        <th class=\"col_heading level0 col8\" >Spd of Max Gust km/h</th>    </tr></thead><tbody>\n",
       "                <tr>\n",
       "                        <th id=\"T_fac61368_488e_11ea_a436_f45c89c69e8blevel0_row0\" class=\"row_heading level0 row0\" >Casual Distance</th>\n",
       "                        <td id=\"T_fac61368_488e_11ea_a436_f45c89c69e8brow0_col0\" class=\"data row0 col0\" >1</td>\n",
       "                        <td id=\"T_fac61368_488e_11ea_a436_f45c89c69e8brow0_col1\" class=\"data row0 col1\" >0.14</td>\n",
       "                        <td id=\"T_fac61368_488e_11ea_a436_f45c89c69e8brow0_col2\" class=\"data row0 col2\" >0.07</td>\n",
       "                        <td id=\"T_fac61368_488e_11ea_a436_f45c89c69e8brow0_col3\" class=\"data row0 col3\" >0.046</td>\n",
       "                        <td id=\"T_fac61368_488e_11ea_a436_f45c89c69e8brow0_col4\" class=\"data row0 col4\" >0.061</td>\n",
       "                        <td id=\"T_fac61368_488e_11ea_a436_f45c89c69e8brow0_col5\" class=\"data row0 col5\" >-0.082</td>\n",
       "                        <td id=\"T_fac61368_488e_11ea_a436_f45c89c69e8brow0_col6\" class=\"data row0 col6\" >0.11</td>\n",
       "                        <td id=\"T_fac61368_488e_11ea_a436_f45c89c69e8brow0_col7\" class=\"data row0 col7\" >-0.058</td>\n",
       "                        <td id=\"T_fac61368_488e_11ea_a436_f45c89c69e8brow0_col8\" class=\"data row0 col8\" >-0.035</td>\n",
       "            </tr>\n",
       "            <tr>\n",
       "                        <th id=\"T_fac61368_488e_11ea_a436_f45c89c69e8blevel0_row1\" class=\"row_heading level0 row1\" >Member Distance</th>\n",
       "                        <td id=\"T_fac61368_488e_11ea_a436_f45c89c69e8brow1_col0\" class=\"data row1 col0\" >0.14</td>\n",
       "                        <td id=\"T_fac61368_488e_11ea_a436_f45c89c69e8brow1_col1\" class=\"data row1 col1\" >1</td>\n",
       "                        <td id=\"T_fac61368_488e_11ea_a436_f45c89c69e8brow1_col2\" class=\"data row1 col2\" >0.62</td>\n",
       "                        <td id=\"T_fac61368_488e_11ea_a436_f45c89c69e8brow1_col3\" class=\"data row1 col3\" >0.6</td>\n",
       "                        <td id=\"T_fac61368_488e_11ea_a436_f45c89c69e8brow1_col4\" class=\"data row1 col4\" >0.61</td>\n",
       "                        <td id=\"T_fac61368_488e_11ea_a436_f45c89c69e8brow1_col5\" class=\"data row1 col5\" >-0.051</td>\n",
       "                        <td id=\"T_fac61368_488e_11ea_a436_f45c89c69e8brow1_col6\" class=\"data row1 col6\" >-0.27</td>\n",
       "                        <td id=\"T_fac61368_488e_11ea_a436_f45c89c69e8brow1_col7\" class=\"data row1 col7\" >-0.1</td>\n",
       "                        <td id=\"T_fac61368_488e_11ea_a436_f45c89c69e8brow1_col8\" class=\"data row1 col8\" >-0.18</td>\n",
       "            </tr>\n",
       "            <tr>\n",
       "                        <th id=\"T_fac61368_488e_11ea_a436_f45c89c69e8blevel0_row2\" class=\"row_heading level0 row2\" >Max Temp °C</th>\n",
       "                        <td id=\"T_fac61368_488e_11ea_a436_f45c89c69e8brow2_col0\" class=\"data row2 col0\" >0.07</td>\n",
       "                        <td id=\"T_fac61368_488e_11ea_a436_f45c89c69e8brow2_col1\" class=\"data row2 col1\" >0.62</td>\n",
       "                        <td id=\"T_fac61368_488e_11ea_a436_f45c89c69e8brow2_col2\" class=\"data row2 col2\" >1</td>\n",
       "                        <td id=\"T_fac61368_488e_11ea_a436_f45c89c69e8brow2_col3\" class=\"data row2 col3\" >0.96</td>\n",
       "                        <td id=\"T_fac61368_488e_11ea_a436_f45c89c69e8brow2_col4\" class=\"data row2 col4\" >0.99</td>\n",
       "                        <td id=\"T_fac61368_488e_11ea_a436_f45c89c69e8brow2_col5\" class=\"data row2 col5\" >0.058</td>\n",
       "                        <td id=\"T_fac61368_488e_11ea_a436_f45c89c69e8brow2_col6\" class=\"data row2 col6\" >-0.18</td>\n",
       "                        <td id=\"T_fac61368_488e_11ea_a436_f45c89c69e8brow2_col7\" class=\"data row2 col7\" >0.017</td>\n",
       "                        <td id=\"T_fac61368_488e_11ea_a436_f45c89c69e8brow2_col8\" class=\"data row2 col8\" >-0.14</td>\n",
       "            </tr>\n",
       "            <tr>\n",
       "                        <th id=\"T_fac61368_488e_11ea_a436_f45c89c69e8blevel0_row3\" class=\"row_heading level0 row3\" >Min Temp °C</th>\n",
       "                        <td id=\"T_fac61368_488e_11ea_a436_f45c89c69e8brow3_col0\" class=\"data row3 col0\" >0.046</td>\n",
       "                        <td id=\"T_fac61368_488e_11ea_a436_f45c89c69e8brow3_col1\" class=\"data row3 col1\" >0.6</td>\n",
       "                        <td id=\"T_fac61368_488e_11ea_a436_f45c89c69e8brow3_col2\" class=\"data row3 col2\" >0.96</td>\n",
       "                        <td id=\"T_fac61368_488e_11ea_a436_f45c89c69e8brow3_col3\" class=\"data row3 col3\" >1</td>\n",
       "                        <td id=\"T_fac61368_488e_11ea_a436_f45c89c69e8brow3_col4\" class=\"data row3 col4\" >0.99</td>\n",
       "                        <td id=\"T_fac61368_488e_11ea_a436_f45c89c69e8brow3_col5\" class=\"data row3 col5\" >0.1</td>\n",
       "                        <td id=\"T_fac61368_488e_11ea_a436_f45c89c69e8brow3_col6\" class=\"data row3 col6\" >-0.17</td>\n",
       "                        <td id=\"T_fac61368_488e_11ea_a436_f45c89c69e8brow3_col7\" class=\"data row3 col7\" >0.064</td>\n",
       "                        <td id=\"T_fac61368_488e_11ea_a436_f45c89c69e8brow3_col8\" class=\"data row3 col8\" >-0.17</td>\n",
       "            </tr>\n",
       "            <tr>\n",
       "                        <th id=\"T_fac61368_488e_11ea_a436_f45c89c69e8blevel0_row4\" class=\"row_heading level0 row4\" >Mean Temp °C</th>\n",
       "                        <td id=\"T_fac61368_488e_11ea_a436_f45c89c69e8brow4_col0\" class=\"data row4 col0\" >0.061</td>\n",
       "                        <td id=\"T_fac61368_488e_11ea_a436_f45c89c69e8brow4_col1\" class=\"data row4 col1\" >0.61</td>\n",
       "                        <td id=\"T_fac61368_488e_11ea_a436_f45c89c69e8brow4_col2\" class=\"data row4 col2\" >0.99</td>\n",
       "                        <td id=\"T_fac61368_488e_11ea_a436_f45c89c69e8brow4_col3\" class=\"data row4 col3\" >0.99</td>\n",
       "                        <td id=\"T_fac61368_488e_11ea_a436_f45c89c69e8brow4_col4\" class=\"data row4 col4\" >1</td>\n",
       "                        <td id=\"T_fac61368_488e_11ea_a436_f45c89c69e8brow4_col5\" class=\"data row4 col5\" >0.078</td>\n",
       "                        <td id=\"T_fac61368_488e_11ea_a436_f45c89c69e8brow4_col6\" class=\"data row4 col6\" >-0.18</td>\n",
       "                        <td id=\"T_fac61368_488e_11ea_a436_f45c89c69e8brow4_col7\" class=\"data row4 col7\" >0.038</td>\n",
       "                        <td id=\"T_fac61368_488e_11ea_a436_f45c89c69e8brow4_col8\" class=\"data row4 col8\" >-0.16</td>\n",
       "            </tr>\n",
       "            <tr>\n",
       "                        <th id=\"T_fac61368_488e_11ea_a436_f45c89c69e8blevel0_row5\" class=\"row_heading level0 row5\" >Total Rain mm</th>\n",
       "                        <td id=\"T_fac61368_488e_11ea_a436_f45c89c69e8brow5_col0\" class=\"data row5 col0\" >-0.082</td>\n",
       "                        <td id=\"T_fac61368_488e_11ea_a436_f45c89c69e8brow5_col1\" class=\"data row5 col1\" >-0.051</td>\n",
       "                        <td id=\"T_fac61368_488e_11ea_a436_f45c89c69e8brow5_col2\" class=\"data row5 col2\" >0.058</td>\n",
       "                        <td id=\"T_fac61368_488e_11ea_a436_f45c89c69e8brow5_col3\" class=\"data row5 col3\" >0.1</td>\n",
       "                        <td id=\"T_fac61368_488e_11ea_a436_f45c89c69e8brow5_col4\" class=\"data row5 col4\" >0.078</td>\n",
       "                        <td id=\"T_fac61368_488e_11ea_a436_f45c89c69e8brow5_col5\" class=\"data row5 col5\" >1</td>\n",
       "                        <td id=\"T_fac61368_488e_11ea_a436_f45c89c69e8brow5_col6\" class=\"data row5 col6\" >-0.0093</td>\n",
       "                        <td id=\"T_fac61368_488e_11ea_a436_f45c89c69e8brow5_col7\" class=\"data row5 col7\" >0.98</td>\n",
       "                        <td id=\"T_fac61368_488e_11ea_a436_f45c89c69e8brow5_col8\" class=\"data row5 col8\" >0.19</td>\n",
       "            </tr>\n",
       "            <tr>\n",
       "                        <th id=\"T_fac61368_488e_11ea_a436_f45c89c69e8blevel0_row6\" class=\"row_heading level0 row6\" >Total Snow cm</th>\n",
       "                        <td id=\"T_fac61368_488e_11ea_a436_f45c89c69e8brow6_col0\" class=\"data row6 col0\" >0.11</td>\n",
       "                        <td id=\"T_fac61368_488e_11ea_a436_f45c89c69e8brow6_col1\" class=\"data row6 col1\" >-0.27</td>\n",
       "                        <td id=\"T_fac61368_488e_11ea_a436_f45c89c69e8brow6_col2\" class=\"data row6 col2\" >-0.18</td>\n",
       "                        <td id=\"T_fac61368_488e_11ea_a436_f45c89c69e8brow6_col3\" class=\"data row6 col3\" >-0.17</td>\n",
       "                        <td id=\"T_fac61368_488e_11ea_a436_f45c89c69e8brow6_col4\" class=\"data row6 col4\" >-0.18</td>\n",
       "                        <td id=\"T_fac61368_488e_11ea_a436_f45c89c69e8brow6_col5\" class=\"data row6 col5\" >-0.0093</td>\n",
       "                        <td id=\"T_fac61368_488e_11ea_a436_f45c89c69e8brow6_col6\" class=\"data row6 col6\" >1</td>\n",
       "                        <td id=\"T_fac61368_488e_11ea_a436_f45c89c69e8brow6_col7\" class=\"data row6 col7\" >0.19</td>\n",
       "                        <td id=\"T_fac61368_488e_11ea_a436_f45c89c69e8brow6_col8\" class=\"data row6 col8\" >0.15</td>\n",
       "            </tr>\n",
       "            <tr>\n",
       "                        <th id=\"T_fac61368_488e_11ea_a436_f45c89c69e8blevel0_row7\" class=\"row_heading level0 row7\" >Total Precip mm</th>\n",
       "                        <td id=\"T_fac61368_488e_11ea_a436_f45c89c69e8brow7_col0\" class=\"data row7 col0\" >-0.058</td>\n",
       "                        <td id=\"T_fac61368_488e_11ea_a436_f45c89c69e8brow7_col1\" class=\"data row7 col1\" >-0.1</td>\n",
       "                        <td id=\"T_fac61368_488e_11ea_a436_f45c89c69e8brow7_col2\" class=\"data row7 col2\" >0.017</td>\n",
       "                        <td id=\"T_fac61368_488e_11ea_a436_f45c89c69e8brow7_col3\" class=\"data row7 col3\" >0.064</td>\n",
       "                        <td id=\"T_fac61368_488e_11ea_a436_f45c89c69e8brow7_col4\" class=\"data row7 col4\" >0.038</td>\n",
       "                        <td id=\"T_fac61368_488e_11ea_a436_f45c89c69e8brow7_col5\" class=\"data row7 col5\" >0.98</td>\n",
       "                        <td id=\"T_fac61368_488e_11ea_a436_f45c89c69e8brow7_col6\" class=\"data row7 col6\" >0.19</td>\n",
       "                        <td id=\"T_fac61368_488e_11ea_a436_f45c89c69e8brow7_col7\" class=\"data row7 col7\" >1</td>\n",
       "                        <td id=\"T_fac61368_488e_11ea_a436_f45c89c69e8brow7_col8\" class=\"data row7 col8\" >0.22</td>\n",
       "            </tr>\n",
       "            <tr>\n",
       "                        <th id=\"T_fac61368_488e_11ea_a436_f45c89c69e8blevel0_row8\" class=\"row_heading level0 row8\" >Spd of Max Gust km/h</th>\n",
       "                        <td id=\"T_fac61368_488e_11ea_a436_f45c89c69e8brow8_col0\" class=\"data row8 col0\" >-0.035</td>\n",
       "                        <td id=\"T_fac61368_488e_11ea_a436_f45c89c69e8brow8_col1\" class=\"data row8 col1\" >-0.18</td>\n",
       "                        <td id=\"T_fac61368_488e_11ea_a436_f45c89c69e8brow8_col2\" class=\"data row8 col2\" >-0.14</td>\n",
       "                        <td id=\"T_fac61368_488e_11ea_a436_f45c89c69e8brow8_col3\" class=\"data row8 col3\" >-0.17</td>\n",
       "                        <td id=\"T_fac61368_488e_11ea_a436_f45c89c69e8brow8_col4\" class=\"data row8 col4\" >-0.16</td>\n",
       "                        <td id=\"T_fac61368_488e_11ea_a436_f45c89c69e8brow8_col5\" class=\"data row8 col5\" >0.19</td>\n",
       "                        <td id=\"T_fac61368_488e_11ea_a436_f45c89c69e8brow8_col6\" class=\"data row8 col6\" >0.15</td>\n",
       "                        <td id=\"T_fac61368_488e_11ea_a436_f45c89c69e8brow8_col7\" class=\"data row8 col7\" >0.22</td>\n",
       "                        <td id=\"T_fac61368_488e_11ea_a436_f45c89c69e8brow8_col8\" class=\"data row8 col8\" >1</td>\n",
       "            </tr>\n",
       "    </tbody></table>"
      ],
      "text/plain": [
       "<pandas.io.formats.style.Styler at 0x17e8d1c10>"
      ]
     },
     "execution_count": 94,
     "metadata": {},
     "output_type": "execute_result"
    }
   ],
   "source": [
    "data_distance = data_distance.dropna()\n",
    "corr = data_distance.corr()\n",
    "corr.style.background_gradient(cmap='coolwarm').set_precision(2)"
   ]
  },
  {
   "cell_type": "markdown",
   "metadata": {},
   "source": [
    "After reviewing the correlation matrix, I decided to select Max Temp °C and Total Snow cm to investigate further on if weather has an effect on trip length. We will examine the relationship between the two variables chosen and trip duration through the indentical method above."
   ]
  },
  {
   "cell_type": "code",
   "execution_count": 101,
   "metadata": {},
   "outputs": [
    {
     "data": {
      "text/plain": [
       "[Text(0.5, 1.0, 'Max Temperature vs Trip Distance for Member')]"
      ]
     },
     "execution_count": 101,
     "metadata": {},
     "output_type": "execute_result"
    },
    {
     "data": {
      "image/png": "[encoded data removed]",
      "text/plain": [
       "<Figure size 1008x432 with 2 Axes>"
      ]
     },
     "metadata": {
      "needs_background": "light"
     },
     "output_type": "display_data"
    }
   ],
   "source": [
    "f, axes = plt.subplots(ncols=2, figsize=(14, 6))\n",
    "sns.regplot(x=\"Total Snow cm\", y=\"Member Distance\", data=data_distance, x_estimator=np.mean, ax = axes[0])\n",
    "axes[0].set(title = 'Total Snow vs Trip Distance for Member')\n",
    "sns.regplot(x='Max Temp °C', y=\"Member Distance\", data=data_distance, x_estimator=np.mean, ax = axes[1])\n",
    "axes[1].set(title = 'Max Temperature vs Trip Distance for Member')"
   ]
  },
  {
   "cell_type": "code",
   "execution_count": 99,
   "metadata": {},
   "outputs": [
    {
     "name": "stdout",
     "output_type": "stream",
     "text": [
      "coefficient of determination: 0.07132269455322493\n",
      "slope: [-0.26706309]\n"
     ]
    }
   ],
   "source": [
    "linear_regression(data_distance[\"Total Snow cm\"], data_distance['Member Distance'])"
   ]
  },
  {
   "cell_type": "code",
   "execution_count": 102,
   "metadata": {},
   "outputs": [
    {
     "name": "stdout",
     "output_type": "stream",
     "text": [
      "coefficient of determination: 0.3801634298847095\n",
      "slope: [0.61657395]\n"
     ]
    }
   ],
   "source": [
    "linear_regression(data_distance[\"Max Temp °C\"], data_distance['Member Distance'])"
   ]
  },
  {
   "cell_type": "markdown",
   "metadata": {},
   "source": [
    "The scatter plots and the results of our model indicates that for member, there is a weak relationship between total snow and trip duration (correlation coefficient of 0.07) and a negative relationship. This suggests that members tend to travel in shorter distance as there are more snow. Moreoever, there is a moderate and positive relationship between the maximum temperature of the day and trip distance (correlation coefficient is 0.38), indicating that members tend to travel farther as the temperature goes up."
   ]
  },
  {
   "cell_type": "markdown",
   "metadata": {},
   "source": [
    "Next we will examine the relationship between the two variables chosen and trip distance by casual users. "
   ]
  },
  {
   "cell_type": "code",
   "execution_count": 108,
   "metadata": {},
   "outputs": [
    {
     "data": {
      "text/plain": [
       "[Text(0.5, 1.0, 'Max Temperature vs Trip Distance for Casual users')]"
      ]
     },
     "execution_count": 108,
     "metadata": {},
     "output_type": "execute_result"
    },
    {
     "data": {
      "image/png": "[encoded data removed]",
      "text/plain": [
       "<Figure size 1008x432 with 2 Axes>"
      ]
     },
     "metadata": {
      "needs_background": "light"
     },
     "output_type": "display_data"
    }
   ],
   "source": [
    "f, axes = plt.subplots(ncols=2, figsize=(14, 6))\n",
    "sns.regplot(x=\"Total Snow cm\", y=\"Casual Distance\", data=data_distance, x_estimator=np.mean, ax = axes[0])\n",
    "axes[0].set(title = 'Total Snow vs Trip Distance for Casual users')\n",
    "sns.regplot(x='Max Temp °C', y=\"Casual Distance\", data=data_distance, x_estimator=np.mean, ax = axes[1])\n",
    "axes[1].set(title = 'Max Temperature vs Trip Distance for Casual users')"
   ]
  },
  {
   "cell_type": "code",
   "execution_count": 105,
   "metadata": {},
   "outputs": [
    {
     "name": "stdout",
     "output_type": "stream",
     "text": [
      "coefficient of determination: 0.012981024455012147\n",
      "slope: [0.1139343]\n"
     ]
    }
   ],
   "source": [
    "linear_regression(data_distance[\"Total Snow cm\"], data_distance['Casual Distance'])"
   ]
  },
  {
   "cell_type": "code",
   "execution_count": 106,
   "metadata": {},
   "outputs": [
    {
     "name": "stdout",
     "output_type": "stream",
     "text": [
      "coefficient of determination: 0.004833140255324664\n",
      "slope: [0.06952079]\n"
     ]
    }
   ],
   "source": [
    "linear_regression(data_distance[\"Max Temp °C\"], data_distance['Casual Distance'])"
   ]
  },
  {
   "cell_type": "markdown",
   "metadata": {},
   "source": [
    "The scatter plots and the results of our model indicates that for casual users, there is no relationship between total snow and trip duration (correlation coefficient of 0.013) and there is a no relationship between maximum temperature and trip distance as well (correlation coefficient of 0.005) since the coefficient of determination is too low in both cases. "
   ]
  },
  {
   "cell_type": "markdown",
   "metadata": {},
   "source": [
    "<br/> <br/>\n",
    "\n",
    "***\n",
    "\n",
    "##  II.Conclusion / Discussion"
   ]
  },
  {
   "cell_type": "markdown",
   "metadata": {},
   "source": [
    "To summarize our findings, we defined trip length in two way: trip duration and trip distance. We found that there is a significant difference in trip duration between the users, that is, casual users reach their destinations significantly slower than members. However, in terms of distance, the two cateogry of users have a similar behaviour. explanation to this phenomenon is that casual users might be using the system mainly for sightseeing, while members use the system as transportation. The other question we are interested if weather affects trip length of the Bike Share Toronto users. We found that temperature generally has a moderate relationship with both trip duration and trip distance for members. For casual users, maximum temperature has an weak positve effect on trip duration, but not on trip distance. Total snow has an effect on trip distance for members as well. Steps such as obtaining hourly weather data and look at trip length on hourly time series have the potential to improve upon on results in the future. \n",
    "\n",
    "In the end of this analysis, I would like to recognize some of the limitations in this study. The first limitation I would like to mention is that, for Bike Share Toronto Ridership data, there are inconsistent station names. We have tried to use fuzzywuzzy to deal with this issue; however, there are still some station names that cannot be matched. Another limitation I would like to mention is when calculating distance of each trip. We used Vincenty's formulae to calculate the distance; however, it does not reflect to the true distance traveled of the users, but rather just a distance between starting point and the ending point.\n",
    "\n",
    "It could be worthwhile to further dive into the behavioural aspects of the Bike Share program. For example, investigating the stations that will increase the usage of the system, and linking more stations to popular sightseeing places in Toronto. "
   ]
  }
 ],
 "metadata": {
  "kernelspec": {
   "display_name": "Python 3",
   "language": "python",
   "name": "python3"
  },
  "language_info": {
   "codemirror_mode": {
    "name": "ipython",
    "version": 3
   },
   "file_extension": ".py",
   "mimetype": "text/x-python",
   "name": "python",
   "nbconvert_exporter": "python",
   "pygments_lexer": "ipython3",
   "version": "3.7.4"
  }
 },
 "nbformat": 4,
 "nbformat_minor": 2
}
